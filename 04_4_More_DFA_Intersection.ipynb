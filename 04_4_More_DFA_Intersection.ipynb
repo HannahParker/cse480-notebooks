{
  "nbformat": 4,
  "nbformat_minor": 0,
  "metadata": {
    "kernelspec": {
      "display_name": "Python 3",
      "language": "python",
      "name": "python3"
    },
    "language_info": {
      "codemirror_mode": {
        "name": "ipython",
        "version": 3
      },
      "file_extension": ".py",
      "mimetype": "text/x-python",
      "name": "python",
      "nbconvert_exporter": "python",
      "pygments_lexer": "ipython3",
      "version": "3.9.0"
    },
    "toc": {
      "colors": {
        "hover_highlight": "#DAA520",
        "running_highlight": "#FF0000",
        "selected_highlight": "#FFD700"
      },
      "moveMenuLeft": true,
      "nav_menu": {
        "height": "121px",
        "width": "252px"
      },
      "navigate_menu": true,
      "number_sections": true,
      "sideBar": true,
      "threshold": 4,
      "toc_cell": false,
      "toc_section_display": "block",
      "toc_window_display": false,
      "widenNotebook": false
    },
    "colab": {
      "name": "04_4_More_DFA_Intersection.ipynb",
      "provenance": []
    }
  },
  "cells": [
    {
      "cell_type": "markdown",
      "metadata": {
        "run_control": {
          "frozen": false,
          "read_only": false
        },
        "id": "YMmhb_6rAwmc"
      },
      "source": [
        "# More DFA Intersection\n",
        "The point of this is to show how human-directed layout can be visually superior to machine-directed layout."
      ]
    },
    {
      "cell_type": "code",
      "metadata": {
        "run_control": {
          "frozen": false,
          "read_only": false
        },
        "id": "KJx9CxBrAwmk",
        "colab": {
          "base_uri": "https://localhost:8080/"
        },
        "outputId": "d492a71f-d28c-4362-aef8-f9c570558c1a"
      },
      "source": [
        "#~~~~~~~~~~~~~~~~~~~~~~~~~~~~~~~~~~~~~~~~~~~~~~~~~~~~~~~\n",
        "import sys\n",
        "\n",
        "# -- Detect if in Own Install or in Colab\n",
        "try:\n",
        "    import google.colab\n",
        "    OWN_INSTALL = False\n",
        "except:\n",
        "    OWN_INSTALL = True\n",
        "    \n",
        "if OWN_INSTALL:\n",
        "    \n",
        "  #---- Leave these definitions ON if running on laptop\n",
        "  #---- Else turn OFF by putting them between ''' ... '''\n",
        "\n",
        "  sys.path[0:0] = ['../../../../..',  '../../../../../3rdparty',  \n",
        "                   '../../../..',  '../../../../3rdparty',  \n",
        "                   '../../..',     '../../../3rdparty', \n",
        "                   '../..',        '../../3rdparty',\n",
        "                   '..',           '../3rdparty',\n",
        "                   '../Jove',      '../Jove/jove']\n",
        "\n",
        "else: # In colab\n",
        "  ! if [ ! -d Jove ]; then git clone https://github.com/ganeshutah/Jove Jove; fi\n",
        "  sys.path.append('./Jove')\n",
        "  sys.path.append('./Jove/jove')\n",
        "\n",
        "# -- common imports --\n",
        "from jove.DotBashers import *\n",
        "from jove.Def_md2mc  import *\n",
        "from jove.Def_NFA    import *\n",
        "from jove.Def_DFA    import *\n",
        "from jove.AnimateNFA import *\n",
        "#~~~~~~~~~~~~~~~~~~~~~~~~~~~~~~~~~~~~~~~~~~~~~~~~~~~~~~~"
      ],
      "execution_count": 1,
      "outputs": [
        {
          "output_type": "stream",
          "text": [
            "Cloning into 'Jove'...\n",
            "remote: Enumerating objects: 4634, done.\u001b[K\n",
            "remote: Total 4634 (delta 0), reused 0 (delta 0), pack-reused 4634\u001b[K\n",
            "Receiving objects: 100% (4634/4634), 7.38 MiB | 9.11 MiB/s, done.\n",
            "Resolving deltas: 100% (3005/3005), done.\n",
            "You may use any of these help commands:\n",
            "help(ResetStNum)\n",
            "help(NxtStateStr)\n",
            "\n",
            "You may use any of these help commands:\n",
            "help(md2mc)\n",
            ".. and if you want to dig more, then ..\n",
            "help(default_line_attr)\n",
            "help(length_ok_input_items)\n",
            "help(union_line_attr_list_fld)\n",
            "help(extend_rsltdict)\n",
            "help(form_delta)\n",
            "help(get_machine_components)\n",
            "\n",
            "You may use any of these help commands:\n",
            "help(mkp_dfa)\n",
            "help(mk_dfa)\n",
            "help(totalize_dfa)\n",
            "help(addtosigma_delta)\n",
            "help(step_dfa)\n",
            "help(run_dfa)\n",
            "help(accepts_dfa)\n",
            "help(comp_dfa)\n",
            "help(union_dfa)\n",
            "help(intersect_dfa)\n",
            "help(pruneUnreach)\n",
            "help(iso_dfa)\n",
            "help(langeq_dfa)\n",
            "help(same_status)\n",
            "help(h_langeq_dfa)\n",
            "help(fixptDist)\n",
            "help(min_dfa)\n",
            "help(pairFR)\n",
            "help(state_combos)\n",
            "help(sepFinNonFin)\n",
            "help(bash_eql_classes)\n",
            "help(listminus)\n",
            "help(bash_1)\n",
            "help(mk_rep_eqc)\n",
            "help(F_of)\n",
            "help(rep_of_s)\n",
            "help(q0_of)\n",
            "help(Delta_of)\n",
            "help(mk_state_eqc_name)\n",
            "\n",
            "You may use any of these help commands:\n",
            "help(mk_nfa)\n",
            "help(totalize_nfa)\n",
            "help(step_nfa)\n",
            "help(run_nfa)\n",
            "help(ec_step_nfa)\n",
            "help(Eclosure)\n",
            "help(Echelp)\n",
            "help(accepts_nfa)\n",
            "help(nfa2dfa)\n",
            "help(n2d)\n",
            "help(inSets)\n",
            "help(rev_dfa)\n",
            "help(min_dfa_brz)\n",
            "\n",
            " \"help(AnimateNFA)\" gives you info on how to use animations with NFA \n"
          ],
          "name": "stdout"
        }
      ]
    },
    {
      "cell_type": "markdown",
      "metadata": {
        "id": "idGaSRRTAwmm"
      },
      "source": [
        "L(dfaD1) = { w | w has exactly two 0's}"
      ]
    },
    {
      "cell_type": "code",
      "metadata": {
        "id": "rKb2C-mSAwmn",
        "colab": {
          "base_uri": "https://localhost:8080/"
        },
        "outputId": "ff17bcab-77f0-4ac0-f6d7-8206d8ccdfbf"
      },
      "source": [
        "dfaD1 = md2mc('''\n",
        "  DFA\n",
        "  I : 0 -> S1\n",
        "  I : 1 -> I\n",
        "  S1: 0 -> F\n",
        "  S1: 1 -> S1\n",
        "  F : 0 -> S2\n",
        "  F : 1 -> F\n",
        "  S2: 0|1 -> S2\n",
        "''')"
      ],
      "execution_count": 2,
      "outputs": [
        {
          "output_type": "stream",
          "text": [
            "Generating LALR tables\n"
          ],
          "name": "stderr"
        }
      ]
    },
    {
      "cell_type": "code",
      "metadata": {
        "id": "0dDzDe5YAwmn",
        "colab": {
          "base_uri": "https://localhost:8080/",
          "height": 153
        },
        "outputId": "431c004c-9630-4295-9853-054b0232ab03"
      },
      "source": [
        "dotObj_dfa(dfaD1, FuseEdges=True)"
      ],
      "execution_count": 3,
      "outputs": [
        {
          "output_type": "execute_result",
          "data": {
            "text/plain": [
              "<graphviz.dot.Digraph at 0x7f0951aae908>"
            ],
            "image/svg+xml": "<?xml version=\"1.0\" encoding=\"UTF-8\" standalone=\"no\"?>\n<!DOCTYPE svg PUBLIC \"-//W3C//DTD SVG 1.1//EN\"\n \"http://www.w3.org/Graphics/SVG/1.1/DTD/svg11.dtd\">\n<!-- Generated by graphviz version 2.40.1 (20161225.0304)\n -->\n<!-- Title: %3 Pages: 1 -->\n<svg width=\"406pt\" height=\"99pt\"\n viewBox=\"0.00 0.00 406.19 98.80\" xmlns=\"http://www.w3.org/2000/svg\" xmlns:xlink=\"http://www.w3.org/1999/xlink\">\n<g id=\"graph0\" class=\"graph\" transform=\"scale(1 1) rotate(0) translate(4 94.7982)\">\n<title>%3</title>\n<polygon fill=\"#ffffff\" stroke=\"transparent\" points=\"-4,4 -4,-94.7982 402.1926,-94.7982 402.1926,4 -4,4\"/>\n<!-- EMPTY -->\n<g id=\"node1\" class=\"node\">\n<title>EMPTY</title>\n</g>\n<!-- I -->\n<g id=\"node3\" class=\"node\">\n<title>I</title>\n<ellipse fill=\"none\" stroke=\"#000000\" cx=\"109\" cy=\"-22\" rx=\"18\" ry=\"18\"/>\n<text text-anchor=\"middle\" x=\"109\" y=\"-18.3\" font-family=\"Times,serif\" font-size=\"14.00\" fill=\"#000000\">I</text>\n</g>\n<!-- EMPTY&#45;&gt;I -->\n<g id=\"edge1\" class=\"edge\">\n<title>EMPTY&#45;&gt;I</title>\n<path fill=\"none\" stroke=\"#000000\" d=\"M54.3048,-22C62.6909,-22 71.9407,-22 80.4103,-22\"/>\n<polygon fill=\"#000000\" stroke=\"#000000\" points=\"80.5976,-25.5001 90.5976,-22 80.5976,-18.5001 80.5976,-25.5001\"/>\n</g>\n<!-- S1 -->\n<g id=\"node2\" class=\"node\">\n<title>S1</title>\n<ellipse fill=\"none\" stroke=\"#000000\" cx=\"195.7982\" cy=\"-22\" rx=\"20.5982\" ry=\"20.5982\"/>\n<text text-anchor=\"middle\" x=\"195.7982\" y=\"-18.3\" font-family=\"Times,serif\" font-size=\"14.00\" fill=\"#000000\">S1</text>\n</g>\n<!-- S1&#45;&gt;S1 -->\n<g id=\"edge5\" class=\"edge\">\n<title>S1&#45;&gt;S1</title>\n<path fill=\"none\" stroke=\"#000000\" d=\"M187.8382,-41.5637C186.6136,-51.6796 189.2669,-60.7982 195.7982,-60.7982 199.9822,-60.7982 202.5748,-57.0559 203.5759,-51.7065\"/>\n<polygon fill=\"#000000\" stroke=\"#000000\" points=\"207.0778,-51.6249 203.7581,-41.5637 200.079,-51.4991 207.0778,-51.6249\"/>\n<text text-anchor=\"middle\" x=\"195.7982\" y=\"-64.5982\" font-family=\"Times,serif\" font-size=\"14.00\" fill=\"#000000\">1 </text>\n</g>\n<!-- F -->\n<g id=\"node5\" class=\"node\">\n<title>F</title>\n<ellipse fill=\"none\" stroke=\"#000000\" cx=\"286.5963\" cy=\"-22\" rx=\"18\" ry=\"18\"/>\n<ellipse fill=\"none\" stroke=\"#000000\" cx=\"286.5963\" cy=\"-22\" rx=\"22\" ry=\"22\"/>\n<text text-anchor=\"middle\" x=\"286.5963\" y=\"-18.3\" font-family=\"Times,serif\" font-size=\"14.00\" fill=\"#000000\">F</text>\n</g>\n<!-- S1&#45;&gt;F -->\n<g id=\"edge4\" class=\"edge\">\n<title>S1&#45;&gt;F</title>\n<path fill=\"none\" stroke=\"#000000\" d=\"M216.8573,-22C227.9898,-22 241.8945,-22 254.3526,-22\"/>\n<polygon fill=\"#000000\" stroke=\"#000000\" points=\"254.3846,-25.5001 264.3846,-22 254.3845,-18.5001 254.3846,-25.5001\"/>\n<text text-anchor=\"middle\" x=\"240.5963\" y=\"-25.8\" font-family=\"Times,serif\" font-size=\"14.00\" fill=\"#000000\">0 </text>\n</g>\n<!-- I&#45;&gt;S1 -->\n<g id=\"edge2\" class=\"edge\">\n<title>I&#45;&gt;S1</title>\n<path fill=\"none\" stroke=\"#000000\" d=\"M127.4077,-22C138.2934,-22 152.3613,-22 164.9052,-22\"/>\n<polygon fill=\"#000000\" stroke=\"#000000\" points=\"164.9803,-25.5001 174.9802,-22 164.9802,-18.5001 164.9803,-25.5001\"/>\n<text text-anchor=\"middle\" x=\"151\" y=\"-25.8\" font-family=\"Times,serif\" font-size=\"14.00\" fill=\"#000000\">0 </text>\n</g>\n<!-- I&#45;&gt;I -->\n<g id=\"edge3\" class=\"edge\">\n<title>I&#45;&gt;I</title>\n<path fill=\"none\" stroke=\"#000000\" d=\"M102.6208,-39.0373C101.3189,-48.8579 103.4453,-58 109,-58 112.4717,-58 114.6042,-54.4289 115.3975,-49.3529\"/>\n<polygon fill=\"#000000\" stroke=\"#000000\" points=\"118.8971,-49.031 115.3792,-39.0373 111.8971,-49.0435 118.8971,-49.031\"/>\n<text text-anchor=\"middle\" x=\"109\" y=\"-61.8\" font-family=\"Times,serif\" font-size=\"14.00\" fill=\"#000000\">1 </text>\n</g>\n<!-- S2 -->\n<g id=\"node4\" class=\"node\">\n<title>S2</title>\n<ellipse fill=\"none\" stroke=\"#000000\" cx=\"377.3945\" cy=\"-22\" rx=\"20.5982\" ry=\"20.5982\"/>\n<text text-anchor=\"middle\" x=\"377.3945\" y=\"-18.3\" font-family=\"Times,serif\" font-size=\"14.00\" fill=\"#000000\">S2</text>\n</g>\n<!-- S2&#45;&gt;S2 -->\n<g id=\"edge8\" class=\"edge\">\n<title>S2&#45;&gt;S2</title>\n<path fill=\"none\" stroke=\"#000000\" d=\"M369.4345,-41.5637C368.2099,-51.6796 370.8632,-60.7982 377.3945,-60.7982 381.5785,-60.7982 384.1711,-57.0559 385.1722,-51.7065\"/>\n<polygon fill=\"#000000\" stroke=\"#000000\" points=\"388.6741,-51.6249 385.3544,-41.5637 381.6753,-51.4991 388.6741,-51.6249\"/>\n<text text-anchor=\"middle\" x=\"377.3945\" y=\"-79.5982\" font-family=\"Times,serif\" font-size=\"14.00\" fill=\"#000000\">1 </text>\n<text text-anchor=\"middle\" x=\"377.3945\" y=\"-64.5982\" font-family=\"Times,serif\" font-size=\"14.00\" fill=\"#000000\"> 0 </text>\n</g>\n<!-- F&#45;&gt;S2 -->\n<g id=\"edge6\" class=\"edge\">\n<title>F&#45;&gt;S2</title>\n<path fill=\"none\" stroke=\"#000000\" d=\"M309.0408,-22C320.2512,-22 333.9957,-22 346.2125,-22\"/>\n<polygon fill=\"#000000\" stroke=\"#000000\" points=\"346.4531,-25.5001 356.4531,-22 346.4531,-18.5001 346.4531,-25.5001\"/>\n<text text-anchor=\"middle\" x=\"332.5963\" y=\"-25.8\" font-family=\"Times,serif\" font-size=\"14.00\" fill=\"#000000\">0 </text>\n</g>\n<!-- F&#45;&gt;F -->\n<g id=\"edge7\" class=\"edge\">\n<title>F&#45;&gt;F</title>\n<path fill=\"none\" stroke=\"#000000\" d=\"M278.2261,-42.5808C277.068,-52.8447 279.858,-62 286.5963,-62 290.913,-62 293.6094,-58.2427 294.6854,-52.8436\"/>\n<polygon fill=\"#000000\" stroke=\"#000000\" points=\"298.1913,-52.6729 294.9665,-42.5808 291.1939,-52.4812 298.1913,-52.6729\"/>\n<text text-anchor=\"middle\" x=\"286.5963\" y=\"-65.8\" font-family=\"Times,serif\" font-size=\"14.00\" fill=\"#000000\">1 </text>\n</g>\n</g>\n</svg>\n"
          },
          "metadata": {
            "tags": []
          },
          "execution_count": 3
        }
      ]
    },
    {
      "cell_type": "markdown",
      "metadata": {
        "id": "a1DQZzsLAwmp"
      },
      "source": [
        "L(dfaD2) = { w | w has at least two 1's}"
      ]
    },
    {
      "cell_type": "code",
      "metadata": {
        "id": "q28VB5sLAwmp"
      },
      "source": [
        "dfaD2 = md2mc('''\n",
        "  DFA\n",
        "  I : 0 -> I\n",
        "  I : 1 -> S1\n",
        "  S1: 0 -> S1\n",
        "  S1: 1 -> F\n",
        "  F : 0|1 -> F\n",
        "''')"
      ],
      "execution_count": 4,
      "outputs": []
    },
    {
      "cell_type": "code",
      "metadata": {
        "id": "9_LkfyVQAwmp",
        "colab": {
          "base_uri": "https://localhost:8080/",
          "height": 155
        },
        "outputId": "d6160ed0-0589-4dd2-90ce-7650604e5232"
      },
      "source": [
        "dotObj_dfa(dfaD2, FuseEdges=True)"
      ],
      "execution_count": 5,
      "outputs": [
        {
          "output_type": "execute_result",
          "data": {
            "text/plain": [
              "<graphviz.dot.Digraph at 0x7f0951e69c88>"
            ],
            "image/svg+xml": "<?xml version=\"1.0\" encoding=\"UTF-8\" standalone=\"no\"?>\n<!DOCTYPE svg PUBLIC \"-//W3C//DTD SVG 1.1//EN\"\n \"http://www.w3.org/Graphics/SVG/1.1/DTD/svg11.dtd\">\n<!-- Generated by graphviz version 2.40.1 (20161225.0304)\n -->\n<!-- Title: %3 Pages: 1 -->\n<svg width=\"317pt\" height=\"100pt\"\n viewBox=\"0.00 0.00 316.60 100.00\" xmlns=\"http://www.w3.org/2000/svg\" xmlns:xlink=\"http://www.w3.org/1999/xlink\">\n<g id=\"graph0\" class=\"graph\" transform=\"scale(1 1) rotate(0) translate(4 96)\">\n<title>%3</title>\n<polygon fill=\"#ffffff\" stroke=\"transparent\" points=\"-4,4 -4,-96 312.5963,-96 312.5963,4 -4,4\"/>\n<!-- EMPTY -->\n<g id=\"node1\" class=\"node\">\n<title>EMPTY</title>\n</g>\n<!-- I -->\n<g id=\"node3\" class=\"node\">\n<title>I</title>\n<ellipse fill=\"none\" stroke=\"#000000\" cx=\"109\" cy=\"-22\" rx=\"18\" ry=\"18\"/>\n<text text-anchor=\"middle\" x=\"109\" y=\"-18.3\" font-family=\"Times,serif\" font-size=\"14.00\" fill=\"#000000\">I</text>\n</g>\n<!-- EMPTY&#45;&gt;I -->\n<g id=\"edge1\" class=\"edge\">\n<title>EMPTY&#45;&gt;I</title>\n<path fill=\"none\" stroke=\"#000000\" d=\"M54.3048,-22C62.6909,-22 71.9407,-22 80.4103,-22\"/>\n<polygon fill=\"#000000\" stroke=\"#000000\" points=\"80.5976,-25.5001 90.5976,-22 80.5976,-18.5001 80.5976,-25.5001\"/>\n</g>\n<!-- S1 -->\n<g id=\"node2\" class=\"node\">\n<title>S1</title>\n<ellipse fill=\"none\" stroke=\"#000000\" cx=\"195.7982\" cy=\"-22\" rx=\"20.5982\" ry=\"20.5982\"/>\n<text text-anchor=\"middle\" x=\"195.7982\" y=\"-18.3\" font-family=\"Times,serif\" font-size=\"14.00\" fill=\"#000000\">S1</text>\n</g>\n<!-- S1&#45;&gt;S1 -->\n<g id=\"edge4\" class=\"edge\">\n<title>S1&#45;&gt;S1</title>\n<path fill=\"none\" stroke=\"#000000\" d=\"M187.8382,-41.5637C186.6136,-51.6796 189.2669,-60.7982 195.7982,-60.7982 199.9822,-60.7982 202.5748,-57.0559 203.5759,-51.7065\"/>\n<polygon fill=\"#000000\" stroke=\"#000000\" points=\"207.0778,-51.6249 203.7581,-41.5637 200.079,-51.4991 207.0778,-51.6249\"/>\n<text text-anchor=\"middle\" x=\"195.7982\" y=\"-64.5982\" font-family=\"Times,serif\" font-size=\"14.00\" fill=\"#000000\">0 </text>\n</g>\n<!-- F -->\n<g id=\"node4\" class=\"node\">\n<title>F</title>\n<ellipse fill=\"none\" stroke=\"#000000\" cx=\"286.5963\" cy=\"-22\" rx=\"18\" ry=\"18\"/>\n<ellipse fill=\"none\" stroke=\"#000000\" cx=\"286.5963\" cy=\"-22\" rx=\"22\" ry=\"22\"/>\n<text text-anchor=\"middle\" x=\"286.5963\" y=\"-18.3\" font-family=\"Times,serif\" font-size=\"14.00\" fill=\"#000000\">F</text>\n</g>\n<!-- S1&#45;&gt;F -->\n<g id=\"edge5\" class=\"edge\">\n<title>S1&#45;&gt;F</title>\n<path fill=\"none\" stroke=\"#000000\" d=\"M216.8573,-22C227.9898,-22 241.8945,-22 254.3526,-22\"/>\n<polygon fill=\"#000000\" stroke=\"#000000\" points=\"254.3846,-25.5001 264.3846,-22 254.3845,-18.5001 254.3846,-25.5001\"/>\n<text text-anchor=\"middle\" x=\"240.5963\" y=\"-25.8\" font-family=\"Times,serif\" font-size=\"14.00\" fill=\"#000000\">1 </text>\n</g>\n<!-- I&#45;&gt;S1 -->\n<g id=\"edge3\" class=\"edge\">\n<title>I&#45;&gt;S1</title>\n<path fill=\"none\" stroke=\"#000000\" d=\"M127.4077,-22C138.2934,-22 152.3613,-22 164.9052,-22\"/>\n<polygon fill=\"#000000\" stroke=\"#000000\" points=\"164.9803,-25.5001 174.9802,-22 164.9802,-18.5001 164.9803,-25.5001\"/>\n<text text-anchor=\"middle\" x=\"151\" y=\"-25.8\" font-family=\"Times,serif\" font-size=\"14.00\" fill=\"#000000\">1 </text>\n</g>\n<!-- I&#45;&gt;I -->\n<g id=\"edge2\" class=\"edge\">\n<title>I&#45;&gt;I</title>\n<path fill=\"none\" stroke=\"#000000\" d=\"M102.6208,-39.0373C101.3189,-48.8579 103.4453,-58 109,-58 112.4717,-58 114.6042,-54.4289 115.3975,-49.3529\"/>\n<polygon fill=\"#000000\" stroke=\"#000000\" points=\"118.8971,-49.031 115.3792,-39.0373 111.8971,-49.0435 118.8971,-49.031\"/>\n<text text-anchor=\"middle\" x=\"109\" y=\"-61.8\" font-family=\"Times,serif\" font-size=\"14.00\" fill=\"#000000\">0 </text>\n</g>\n<!-- F&#45;&gt;F -->\n<g id=\"edge6\" class=\"edge\">\n<title>F&#45;&gt;F</title>\n<path fill=\"none\" stroke=\"#000000\" d=\"M278.2261,-42.5808C277.068,-52.8447 279.858,-62 286.5963,-62 290.913,-62 293.6094,-58.2427 294.6854,-52.8436\"/>\n<polygon fill=\"#000000\" stroke=\"#000000\" points=\"298.1913,-52.6729 294.9665,-42.5808 291.1939,-52.4812 298.1913,-52.6729\"/>\n<text text-anchor=\"middle\" x=\"286.5963\" y=\"-80.8\" font-family=\"Times,serif\" font-size=\"14.00\" fill=\"#000000\">1 </text>\n<text text-anchor=\"middle\" x=\"286.5963\" y=\"-65.8\" font-family=\"Times,serif\" font-size=\"14.00\" fill=\"#000000\"> 0 </text>\n</g>\n</g>\n</svg>\n"
          },
          "metadata": {
            "tags": []
          },
          "execution_count": 5
        }
      ]
    },
    {
      "cell_type": "code",
      "metadata": {
        "id": "cQ4O90xJAwmq"
      },
      "source": [
        "dfaD3 = intersect_dfa(dfaD1, dfaD2)"
      ],
      "execution_count": 6,
      "outputs": []
    },
    {
      "cell_type": "code",
      "metadata": {
        "id": "kgrhwEwqAwmq",
        "colab": {
          "base_uri": "https://localhost:8080/"
        },
        "outputId": "c89772b4-9e85-4cbb-c48c-e7e16688cd91"
      },
      "source": [
        "len(dfaD3[\"Q\"])"
      ],
      "execution_count": 7,
      "outputs": [
        {
          "output_type": "execute_result",
          "data": {
            "text/plain": [
              "12"
            ]
          },
          "metadata": {
            "tags": []
          },
          "execution_count": 7
        }
      ]
    },
    {
      "cell_type": "code",
      "metadata": {
        "id": "_yyH6_kEAwmr",
        "colab": {
          "base_uri": "https://localhost:8080/",
          "height": 476
        },
        "outputId": "dbc340a6-feb0-4697-f949-0a4788723fa7"
      },
      "source": [
        "dotObj_dfa(dfaD3, FuseEdges=True)"
      ],
      "execution_count": 8,
      "outputs": [
        {
          "output_type": "execute_result",
          "data": {
            "text/plain": [
              "<graphviz.dot.Digraph at 0x7f0951e69d30>"
            ],
            "image/svg+xml": "<?xml version=\"1.0\" encoding=\"UTF-8\" standalone=\"no\"?>\n<!DOCTYPE svg PUBLIC \"-//W3C//DTD SVG 1.1//EN\"\n \"http://www.w3.org/Graphics/SVG/1.1/DTD/svg11.dtd\">\n<!-- Generated by graphviz version 2.40.1 (20161225.0304)\n -->\n<!-- Title: %3 Pages: 1 -->\n<svg width=\"780pt\" height=\"326pt\"\n viewBox=\"0.00 0.00 779.66 326.49\" xmlns=\"http://www.w3.org/2000/svg\" xmlns:xlink=\"http://www.w3.org/1999/xlink\">\n<g id=\"graph0\" class=\"graph\" transform=\"scale(1 1) rotate(0) translate(4 322.4937)\">\n<title>%3</title>\n<polygon fill=\"#ffffff\" stroke=\"transparent\" points=\"-4,4 -4,-322.4937 775.6609,-322.4937 775.6609,4 -4,4\"/>\n<!-- EMPTY -->\n<g id=\"node1\" class=\"node\">\n<title>EMPTY</title>\n</g>\n<!-- \\(I_I\\) -->\n<g id=\"node4\" class=\"node\">\n<title>\\(I_I\\)</title>\n<ellipse fill=\"none\" stroke=\"#000000\" cx=\"118.2976\" cy=\"-141.4469\" rx=\"27.0966\" ry=\"27.0966\"/>\n<text text-anchor=\"middle\" x=\"118.2976\" y=\"-137.7469\" font-family=\"Times,serif\" font-size=\"14.00\" fill=\"#000000\">(I_I)</text>\n</g>\n<!-- EMPTY&#45;&gt;\\(I_I\\) -->\n<g id=\"edge1\" class=\"edge\">\n<title>EMPTY&#45;&gt;\\(I_I\\)</title>\n<path fill=\"none\" stroke=\"#000000\" d=\"M54.3923,-141.4469C62.6976,-141.4469 71.9683,-141.4469 80.8159,-141.4469\"/>\n<polygon fill=\"#000000\" stroke=\"#000000\" points=\"80.9247,-144.947 90.9246,-141.4469 80.9246,-137.947 80.9247,-144.947\"/>\n</g>\n<!-- \\(S2_I\\) -->\n<g id=\"node2\" class=\"node\">\n<title>\\(S2_I\\)</title>\n<ellipse fill=\"none\" stroke=\"#000000\" cx=\"480.0283\" cy=\"-34.4469\" rx=\"34.394\" ry=\"34.394\"/>\n<text text-anchor=\"middle\" x=\"480.0283\" y=\"-30.7469\" font-family=\"Times,serif\" font-size=\"14.00\" fill=\"#000000\">(S2_I)</text>\n</g>\n<!-- \\(S2_I\\)&#45;&gt;\\(S2_I\\) -->\n<g id=\"edge18\" class=\"edge\">\n<title>\\(S2_I\\)&#45;&gt;\\(S2_I\\)</title>\n<path fill=\"none\" stroke=\"#000000\" d=\"M468.7783,-67.2263C468.7783,-78.1527 472.5283,-86.8939 480.0283,-86.8939 484.9501,-86.8939 488.257,-83.1294 489.9489,-77.4532\"/>\n<polygon fill=\"#000000\" stroke=\"#000000\" points=\"493.46,-77.594 491.2783,-67.2263 486.5184,-76.6917 493.46,-77.594\"/>\n<text text-anchor=\"middle\" x=\"480.0283\" y=\"-90.6939\" font-family=\"Times,serif\" font-size=\"14.00\" fill=\"#000000\">0 </text>\n</g>\n<!-- \\(S2_S1\\) -->\n<g id=\"node8\" class=\"node\">\n<title>\\(S2_S1\\)</title>\n<ellipse fill=\"none\" stroke=\"#000000\" cx=\"607.3212\" cy=\"-84.4469\" rx=\"42.4939\" ry=\"42.4939\"/>\n<text text-anchor=\"middle\" x=\"607.3212\" y=\"-80.7469\" font-family=\"Times,serif\" font-size=\"14.00\" fill=\"#000000\">(S2_S1)</text>\n</g>\n<!-- \\(S2_I\\)&#45;&gt;\\(S2_S1\\) -->\n<g id=\"edge12\" class=\"edge\">\n<title>\\(S2_I\\)&#45;&gt;\\(S2_S1\\)</title>\n<path fill=\"none\" stroke=\"#000000\" d=\"M512.1496,-47.0641C526.1779,-52.5743 542.9398,-59.1583 558.46,-65.2545\"/>\n<polygon fill=\"#000000\" stroke=\"#000000\" points=\"557.3402,-68.5749 567.9275,-68.9733 559.8995,-62.0595 557.3402,-68.5749\"/>\n<text text-anchor=\"middle\" x=\"541.075\" y=\"-63.2469\" font-family=\"Times,serif\" font-size=\"14.00\" fill=\"#000000\">1 </text>\n</g>\n<!-- \\(I_S1\\) -->\n<g id=\"node3\" class=\"node\">\n<title>\\(I_S1\\)</title>\n<ellipse fill=\"none\" stroke=\"#000000\" cx=\"228.0421\" cy=\"-185.4469\" rx=\"34.394\" ry=\"34.394\"/>\n<text text-anchor=\"middle\" x=\"228.0421\" y=\"-181.7469\" font-family=\"Times,serif\" font-size=\"14.00\" fill=\"#000000\">(I_S1)</text>\n</g>\n<!-- \\(I_F\\) -->\n<g id=\"node5\" class=\"node\">\n<title>\\(I_F\\)</title>\n<ellipse fill=\"none\" stroke=\"#000000\" cx=\"352.7353\" cy=\"-248.4469\" rx=\"29.795\" ry=\"29.795\"/>\n<text text-anchor=\"middle\" x=\"352.7353\" y=\"-244.7469\" font-family=\"Times,serif\" font-size=\"14.00\" fill=\"#000000\">(I_F)</text>\n</g>\n<!-- \\(I_S1\\)&#45;&gt;\\(I_F\\) -->\n<g id=\"edge19\" class=\"edge\">\n<title>\\(I_S1\\)&#45;&gt;\\(I_F\\)</title>\n<path fill=\"none\" stroke=\"#000000\" d=\"M258.8651,-201.02C276.3068,-209.8322 298.2152,-220.9012 316.4791,-230.1288\"/>\n<polygon fill=\"#000000\" stroke=\"#000000\" points=\"315.1509,-233.3791 325.6547,-234.7647 318.3076,-227.1313 315.1509,-233.3791\"/>\n<text text-anchor=\"middle\" x=\"286.489\" y=\"-220.2469\" font-family=\"Times,serif\" font-size=\"14.00\" fill=\"#000000\">1 </text>\n</g>\n<!-- \\(S1_S1\\) -->\n<g id=\"node12\" class=\"node\">\n<title>\\(S1_S1\\)</title>\n<ellipse fill=\"none\" stroke=\"#000000\" cx=\"352.7353\" cy=\"-158.4469\" rx=\"42.4939\" ry=\"42.4939\"/>\n<text text-anchor=\"middle\" x=\"352.7353\" y=\"-154.7469\" font-family=\"Times,serif\" font-size=\"14.00\" fill=\"#000000\">(S1_S1)</text>\n</g>\n<!-- \\(I_S1\\)&#45;&gt;\\(S1_S1\\) -->\n<g id=\"edge2\" class=\"edge\">\n<title>\\(I_S1\\)&#45;&gt;\\(S1_S1\\)</title>\n<path fill=\"none\" stroke=\"#000000\" d=\"M261.7859,-178.1404C273.9706,-175.502 288.0163,-172.4606 301.3682,-169.5695\"/>\n<polygon fill=\"#000000\" stroke=\"#000000\" points=\"302.3682,-172.9342 311.401,-167.3971 300.8868,-166.0927 302.3682,-172.9342\"/>\n<text text-anchor=\"middle\" x=\"286.489\" y=\"-177.2469\" font-family=\"Times,serif\" font-size=\"14.00\" fill=\"#000000\">0 </text>\n</g>\n<!-- \\(I_I\\)&#45;&gt;\\(I_S1\\) -->\n<g id=\"edge20\" class=\"edge\">\n<title>\\(I_I\\)&#45;&gt;\\(I_S1\\)</title>\n<path fill=\"none\" stroke=\"#000000\" d=\"M143.751,-151.652C156.407,-156.7262 172.0274,-162.9889 186.369,-168.7389\"/>\n<polygon fill=\"#000000\" stroke=\"#000000\" points=\"185.4571,-172.1441 196.0413,-172.6168 188.062,-165.6468 185.4571,-172.1441\"/>\n<text text-anchor=\"middle\" x=\"169.5952\" y=\"-167.2469\" font-family=\"Times,serif\" font-size=\"14.00\" fill=\"#000000\">1 </text>\n</g>\n<!-- \\(S1_I\\) -->\n<g id=\"node6\" class=\"node\">\n<title>\\(S1_I\\)</title>\n<ellipse fill=\"none\" stroke=\"#000000\" cx=\"228.0421\" cy=\"-98.4469\" rx=\"34.394\" ry=\"34.394\"/>\n<text text-anchor=\"middle\" x=\"228.0421\" y=\"-94.7469\" font-family=\"Times,serif\" font-size=\"14.00\" fill=\"#000000\">(S1_I)</text>\n</g>\n<!-- \\(I_I\\)&#45;&gt;\\(S1_I\\) -->\n<g id=\"edge5\" class=\"edge\">\n<title>\\(I_I\\)&#45;&gt;\\(S1_I\\)</title>\n<path fill=\"none\" stroke=\"#000000\" d=\"M143.751,-131.4738C156.3041,-126.5552 171.7736,-120.494 186.019,-114.9124\"/>\n<polygon fill=\"#000000\" stroke=\"#000000\" points=\"187.6007,-118.0518 195.6347,-111.1448 185.047,-111.5342 187.6007,-118.0518\"/>\n<text text-anchor=\"middle\" x=\"169.5952\" y=\"-127.2469\" font-family=\"Times,serif\" font-size=\"14.00\" fill=\"#000000\">0 </text>\n</g>\n<!-- \\(I_F\\)&#45;&gt;\\(I_F\\) -->\n<g id=\"edge16\" class=\"edge\">\n<title>\\(I_F\\)&#45;&gt;\\(I_F\\)</title>\n<path fill=\"none\" stroke=\"#000000\" d=\"M340.4358,-276.0104C339.7409,-287.0653 343.8408,-296.3443 352.7353,-296.3443 358.7113,-296.3443 362.5229,-292.1556 364.1701,-286.0539\"/>\n<polygon fill=\"#000000\" stroke=\"#000000\" points=\"367.664,-286.2737 365.0348,-276.0104 360.6898,-285.6733 367.664,-286.2737\"/>\n<text text-anchor=\"middle\" x=\"352.7353\" y=\"-300.1443\" font-family=\"Times,serif\" font-size=\"14.00\" fill=\"#000000\">1 </text>\n</g>\n<!-- \\(S1_F\\) -->\n<g id=\"node7\" class=\"node\">\n<title>\\(S1_F\\)</title>\n<ellipse fill=\"none\" stroke=\"#000000\" cx=\"480.0283\" cy=\"-248.4469\" rx=\"37.0935\" ry=\"37.0935\"/>\n<text text-anchor=\"middle\" x=\"480.0283\" y=\"-244.7469\" font-family=\"Times,serif\" font-size=\"14.00\" fill=\"#000000\">(S1_F)</text>\n</g>\n<!-- \\(I_F\\)&#45;&gt;\\(S1_F\\) -->\n<g id=\"edge9\" class=\"edge\">\n<title>\\(I_F\\)&#45;&gt;\\(S1_F\\)</title>\n<path fill=\"none\" stroke=\"#000000\" d=\"M382.9019,-248.4469C397.7576,-248.4469 416.0151,-248.4469 432.6756,-248.4469\"/>\n<polygon fill=\"#000000\" stroke=\"#000000\" points=\"432.7981,-251.947 442.7981,-248.4469 432.798,-244.947 432.7981,-251.947\"/>\n<text text-anchor=\"middle\" x=\"418.9815\" y=\"-252.2469\" font-family=\"Times,serif\" font-size=\"14.00\" fill=\"#000000\">0 </text>\n</g>\n<!-- \\(F_I\\) -->\n<g id=\"node9\" class=\"node\">\n<title>\\(F_I\\)</title>\n<ellipse fill=\"none\" stroke=\"#000000\" cx=\"352.7353\" cy=\"-68.4469\" rx=\"29.795\" ry=\"29.795\"/>\n<text text-anchor=\"middle\" x=\"352.7353\" y=\"-64.7469\" font-family=\"Times,serif\" font-size=\"14.00\" fill=\"#000000\">(F_I)</text>\n</g>\n<!-- \\(S1_I\\)&#45;&gt;\\(F_I\\) -->\n<g id=\"edge15\" class=\"edge\">\n<title>\\(S1_I\\)&#45;&gt;\\(F_I\\)</title>\n<path fill=\"none\" stroke=\"#000000\" d=\"M261.7859,-90.3285C277.7933,-86.4773 297.0124,-81.8533 313.651,-77.8502\"/>\n<polygon fill=\"#000000\" stroke=\"#000000\" points=\"314.7219,-81.1926 323.6257,-75.4504 313.0844,-74.3868 314.7219,-81.1926\"/>\n<text text-anchor=\"middle\" x=\"286.489\" y=\"-89.2469\" font-family=\"Times,serif\" font-size=\"14.00\" fill=\"#000000\">0 </text>\n</g>\n<!-- \\(S1_I\\)&#45;&gt;\\(S1_S1\\) -->\n<g id=\"edge17\" class=\"edge\">\n<title>\\(S1_I\\)&#45;&gt;\\(S1_S1\\)</title>\n<path fill=\"none\" stroke=\"#000000\" d=\"M259.1858,-113.4327C273.0448,-120.1014 289.6753,-128.1037 305.0459,-135.4997\"/>\n<polygon fill=\"#000000\" stroke=\"#000000\" points=\"303.8887,-138.827 314.4174,-140.0091 306.9239,-132.5192 303.8887,-138.827\"/>\n<text text-anchor=\"middle\" x=\"286.489\" y=\"-132.2469\" font-family=\"Times,serif\" font-size=\"14.00\" fill=\"#000000\">1 </text>\n</g>\n<!-- \\(S1_F\\)&#45;&gt;\\(S1_F\\) -->\n<g id=\"edge13\" class=\"edge\">\n<title>\\(S1_F\\)&#45;&gt;\\(S1_F\\)</title>\n<path fill=\"none\" stroke=\"#000000\" d=\"M468.7892,-283.9193C469.0163,-294.8836 472.7626,-303.4937 480.0283,-303.4937 484.7963,-303.4937 488.0488,-299.7856 489.7856,-294.1376\"/>\n<polygon fill=\"#000000\" stroke=\"#000000\" points=\"493.2959,-294.3181 491.2673,-283.9193 486.3684,-293.3135 493.2959,-294.3181\"/>\n<text text-anchor=\"middle\" x=\"480.0283\" y=\"-307.2937\" font-family=\"Times,serif\" font-size=\"14.00\" fill=\"#000000\">1 </text>\n</g>\n<!-- \\(F_F\\) -->\n<g id=\"node13\" class=\"node\">\n<title>\\(F_F\\)</title>\n<ellipse fill=\"none\" stroke=\"#000000\" cx=\"607.3212\" cy=\"-214.4469\" rx=\"32.4945\" ry=\"32.4945\"/>\n<ellipse fill=\"none\" stroke=\"#000000\" cx=\"607.3212\" cy=\"-214.4469\" rx=\"36.4942\" ry=\"36.4942\"/>\n<text text-anchor=\"middle\" x=\"607.3212\" y=\"-210.7469\" font-family=\"Times,serif\" font-size=\"14.00\" fill=\"#000000\">(F_F)</text>\n</g>\n<!-- \\(S1_F\\)&#45;&gt;\\(F_F\\) -->\n<g id=\"edge11\" class=\"edge\">\n<title>\\(S1_F\\)&#45;&gt;\\(F_F\\)</title>\n<path fill=\"none\" stroke=\"#000000\" d=\"M515.8252,-238.8856C530.1818,-235.0509 546.8934,-230.5872 562.0764,-226.5319\"/>\n<polygon fill=\"#000000\" stroke=\"#000000\" points=\"563.0349,-229.8986 571.793,-223.9366 561.2285,-223.1357 563.0349,-229.8986\"/>\n<text text-anchor=\"middle\" x=\"541.075\" y=\"-237.2469\" font-family=\"Times,serif\" font-size=\"14.00\" fill=\"#000000\">0 </text>\n</g>\n<!-- \\(S2_S1\\)&#45;&gt;\\(S2_S1\\) -->\n<g id=\"edge4\" class=\"edge\">\n<title>\\(S2_S1\\)&#45;&gt;\\(S2_S1\\)</title>\n<path fill=\"none\" stroke=\"#000000\" d=\"M595.0218,-124.993C595.6159,-136.1598 599.7158,-144.6932 607.3212,-144.6932 612.4311,-144.6932 615.9586,-140.8411 617.9035,-134.9263\"/>\n<polygon fill=\"#000000\" stroke=\"#000000\" points=\"621.366,-135.4431 619.6207,-124.993 614.4683,-134.2506 621.366,-135.4431\"/>\n<text text-anchor=\"middle\" x=\"607.3212\" y=\"-148.4932\" font-family=\"Times,serif\" font-size=\"14.00\" fill=\"#000000\">0 </text>\n</g>\n<!-- \\(S2_F\\) -->\n<g id=\"node11\" class=\"node\">\n<title>\\(S2_F\\)</title>\n<ellipse fill=\"none\" stroke=\"#000000\" cx=\"734.6142\" cy=\"-149.4469\" rx=\"37.0935\" ry=\"37.0935\"/>\n<text text-anchor=\"middle\" x=\"734.6142\" y=\"-145.7469\" font-family=\"Times,serif\" font-size=\"14.00\" fill=\"#000000\">(S2_F)</text>\n</g>\n<!-- \\(S2_S1\\)&#45;&gt;\\(S2_F\\) -->\n<g id=\"edge14\" class=\"edge\">\n<title>\\(S2_S1\\)&#45;&gt;\\(S2_F\\)</title>\n<path fill=\"none\" stroke=\"#000000\" d=\"M645.1687,-103.7731C659.977,-111.3347 677.0283,-120.0417 692.2457,-127.8122\"/>\n<polygon fill=\"#000000\" stroke=\"#000000\" points=\"690.9495,-131.0802 701.4473,-132.5108 694.1329,-124.8459 690.9495,-131.0802\"/>\n<text text-anchor=\"middle\" x=\"673.5675\" y=\"-125.2469\" font-family=\"Times,serif\" font-size=\"14.00\" fill=\"#000000\">1 </text>\n</g>\n<!-- \\(F_I\\)&#45;&gt;\\(S2_I\\) -->\n<g id=\"edge3\" class=\"edge\">\n<title>\\(F_I\\)&#45;&gt;\\(S2_I\\)</title>\n<path fill=\"none\" stroke=\"#000000\" d=\"M381.62,-60.7318C397.8356,-56.4006 418.3938,-50.9095 436.5218,-46.0675\"/>\n<polygon fill=\"#000000\" stroke=\"#000000\" points=\"437.5417,-49.4179 446.2998,-43.4558 435.7353,-42.655 437.5417,-49.4179\"/>\n<text text-anchor=\"middle\" x=\"418.9815\" y=\"-55.2469\" font-family=\"Times,serif\" font-size=\"14.00\" fill=\"#000000\">0 </text>\n</g>\n<!-- \\(F_S1\\) -->\n<g id=\"node10\" class=\"node\">\n<title>\\(F_S1\\)</title>\n<ellipse fill=\"none\" stroke=\"#000000\" cx=\"480.0283\" cy=\"-156.4469\" rx=\"37.0935\" ry=\"37.0935\"/>\n<text text-anchor=\"middle\" x=\"480.0283\" y=\"-152.7469\" font-family=\"Times,serif\" font-size=\"14.00\" fill=\"#000000\">(F_S1)</text>\n</g>\n<!-- \\(F_I\\)&#45;&gt;\\(F_S1\\) -->\n<g id=\"edge8\" class=\"edge\">\n<title>\\(F_I\\)&#45;&gt;\\(F_S1\\)</title>\n<path fill=\"none\" stroke=\"#000000\" d=\"M377.5808,-85.6231C395.6408,-98.1083 420.4407,-115.2529 441.1165,-129.5465\"/>\n<polygon fill=\"#000000\" stroke=\"#000000\" points=\"439.1832,-132.4649 449.3992,-135.2725 443.1638,-126.7069 439.1832,-132.4649\"/>\n<text text-anchor=\"middle\" x=\"418.9815\" y=\"-122.2469\" font-family=\"Times,serif\" font-size=\"14.00\" fill=\"#000000\">1 </text>\n</g>\n<!-- \\(F_S1\\)&#45;&gt;\\(S2_S1\\) -->\n<g id=\"edge10\" class=\"edge\">\n<title>\\(F_S1\\)&#45;&gt;\\(S2_S1\\)</title>\n<path fill=\"none\" stroke=\"#000000\" d=\"M512.479,-138.092C527.3951,-129.6551 545.3481,-119.5004 561.6026,-110.3065\"/>\n<polygon fill=\"#000000\" stroke=\"#000000\" points=\"563.4471,-113.2844 570.428,-105.3146 560.0008,-107.1915 563.4471,-113.2844\"/>\n<text text-anchor=\"middle\" x=\"541.075\" y=\"-129.2469\" font-family=\"Times,serif\" font-size=\"14.00\" fill=\"#000000\">0 </text>\n</g>\n<!-- \\(F_S1\\)&#45;&gt;\\(F_F\\) -->\n<g id=\"edge23\" class=\"edge\">\n<title>\\(F_S1\\)&#45;&gt;\\(F_F\\)</title>\n<path fill=\"none\" stroke=\"#000000\" d=\"M513.8062,-171.8376C529.322,-178.9073 547.9006,-187.3724 564.3951,-194.888\"/>\n<polygon fill=\"#000000\" stroke=\"#000000\" points=\"563.276,-198.2242 573.8271,-199.1856 566.1784,-191.8543 563.276,-198.2242\"/>\n<text text-anchor=\"middle\" x=\"541.075\" y=\"-189.2469\" font-family=\"Times,serif\" font-size=\"14.00\" fill=\"#000000\">1 </text>\n</g>\n<!-- \\(S2_F\\)&#45;&gt;\\(S2_F\\) -->\n<g id=\"edge7\" class=\"edge\">\n<title>\\(S2_F\\)&#45;&gt;\\(S2_F\\)</title>\n<path fill=\"none\" stroke=\"#000000\" d=\"M723.3752,-184.9193C723.6022,-195.8836 727.3486,-204.4937 734.6142,-204.4937 739.3823,-204.4937 742.6347,-200.7856 744.3715,-195.1376\"/>\n<polygon fill=\"#000000\" stroke=\"#000000\" points=\"747.8818,-195.3181 745.8532,-184.9193 740.9543,-194.3135 747.8818,-195.3181\"/>\n<text text-anchor=\"middle\" x=\"734.6142\" y=\"-223.2937\" font-family=\"Times,serif\" font-size=\"14.00\" fill=\"#000000\">1 </text>\n<text text-anchor=\"middle\" x=\"734.6142\" y=\"-208.2937\" font-family=\"Times,serif\" font-size=\"14.00\" fill=\"#000000\"> 0 </text>\n</g>\n<!-- \\(S1_S1\\)&#45;&gt;\\(S1_F\\) -->\n<g id=\"edge21\" class=\"edge\">\n<title>\\(S1_S1\\)&#45;&gt;\\(S1_F\\)</title>\n<path fill=\"none\" stroke=\"#000000\" d=\"M387.5187,-183.0398C404.2193,-194.8477 424.2837,-209.0338 441.4515,-221.172\"/>\n<polygon fill=\"#000000\" stroke=\"#000000\" points=\"439.4334,-224.0316 449.6193,-226.9469 443.4746,-218.3159 439.4334,-224.0316\"/>\n<text text-anchor=\"middle\" x=\"418.9815\" y=\"-212.2469\" font-family=\"Times,serif\" font-size=\"14.00\" fill=\"#000000\">1 </text>\n</g>\n<!-- \\(S1_S1\\)&#45;&gt;\\(F_S1\\) -->\n<g id=\"edge22\" class=\"edge\">\n<title>\\(S1_S1\\)&#45;&gt;\\(F_S1\\)</title>\n<path fill=\"none\" stroke=\"#000000\" d=\"M395.122,-157.781C407.2136,-157.591 420.4617,-157.3828 432.8219,-157.1886\"/>\n<polygon fill=\"#000000\" stroke=\"#000000\" points=\"433.0069,-160.6863 442.9506,-157.0295 432.8968,-153.6871 433.0069,-160.6863\"/>\n<text text-anchor=\"middle\" x=\"418.9815\" y=\"-161.2469\" font-family=\"Times,serif\" font-size=\"14.00\" fill=\"#000000\">0 </text>\n</g>\n<!-- \\(F_F\\)&#45;&gt;\\(S2_F\\) -->\n<g id=\"edge24\" class=\"edge\">\n<title>\\(F_F\\)&#45;&gt;\\(S2_F\\)</title>\n<path fill=\"none\" stroke=\"#000000\" d=\"M640.1023,-197.7078C656.0138,-189.5829 675.321,-179.724 692.3269,-171.0402\"/>\n<polygon fill=\"#000000\" stroke=\"#000000\" points=\"694.1874,-174.0202 701.5018,-166.3552 691.0039,-167.7859 694.1874,-174.0202\"/>\n<text text-anchor=\"middle\" x=\"673.5675\" y=\"-185.2469\" font-family=\"Times,serif\" font-size=\"14.00\" fill=\"#000000\">0 </text>\n</g>\n<!-- \\(F_F\\)&#45;&gt;\\(F_F\\) -->\n<g id=\"edge6\" class=\"edge\">\n<title>\\(F_F\\)&#45;&gt;\\(F_F\\)</title>\n<path fill=\"none\" stroke=\"#000000\" d=\"M594.9492,-249.0382C595.0761,-260.1428 599.2001,-268.9441 607.3212,-268.9441 612.7776,-268.9441 616.4296,-264.971 618.2772,-258.9958\"/>\n<polygon fill=\"#000000\" stroke=\"#000000\" points=\"621.7504,-259.4313 619.6932,-249.0382 614.8201,-258.4458 621.7504,-259.4313\"/>\n<text text-anchor=\"middle\" x=\"607.3212\" y=\"-272.7441\" font-family=\"Times,serif\" font-size=\"14.00\" fill=\"#000000\">1 </text>\n</g>\n</g>\n</svg>\n"
          },
          "metadata": {
            "tags": []
          },
          "execution_count": 8
        }
      ]
    },
    {
      "cell_type": "code",
      "metadata": {
        "id": "0-biC1FZAwms",
        "colab": {
          "base_uri": "https://localhost:8080/",
          "height": 373
        },
        "outputId": "f10979f7-a325-40dc-a2ca-a7257fa1c9f5"
      },
      "source": [
        "from graphviz import Source\n",
        "Source('''\n",
        "digraph {\n",
        "  node [shape=circle]\n",
        "   0 [shape=none label=\"\"]\n",
        "   1 [label=\"\"]\n",
        "   2 [label=\"\"]\n",
        "   3 [label=\"\"]\n",
        "   4 [label=\"\"]\n",
        "   5 [label=\"\"]\n",
        "   6 [label=\"\"]\n",
        "   7 [label=\"\"]\n",
        "   8 [label=\"\"]\n",
        "   9 [label=\"\"]\n",
        "  10 [label=\"\"]\n",
        "  11 [label=\"\" shape=doublecircle]\n",
        "  12 [label=\"\"]\n",
        "   0 ->  1 [label=\"\"]\n",
        "   1 ->  2 [label=0]\n",
        "   1 ->  5 [label=1]\n",
        "   2 ->  3 [label=0]\n",
        "   2 ->  6 [label=1]\n",
        "   3 ->  4 [label=0]\n",
        "   3 ->  7 [label=1]\n",
        "   4 ->  4 [label=0]\n",
        "   4 ->  8 [label=1]\n",
        "   5 ->  6 [label=0]\n",
        "   5 ->  9 [label=1]\n",
        "   6 ->  7 [label=0]\n",
        "   6 -> 10 [label=1]\n",
        "   7 ->  8 [label=0]\n",
        "   7 -> 11 [label=1]\n",
        "   8 ->  8 [label=0]\n",
        "   8 -> 12 [label=1]\n",
        "   9 -> 10 [label=0]\n",
        "   9 ->  9 [label=1 headport=s tailport=s]\n",
        "  10 -> 11 [label=0]\n",
        "  10 -> 10 [label=1 headport=s tailport=s]\n",
        "  11 -> 12 [label=0]\n",
        "  11 -> 11 [label=1 headport=s tailport=s]\n",
        "  12 -> 12 [label=0]\n",
        "  12 -> 12 [label=1 headport=s tailport=s]\n",
        "  {rank=same 0 1 2 3 4}\n",
        "  {rank=same 5 6 7 8}\n",
        "  {rank=same 9 10 11 12}\n",
        "}\n",
        "''')"
      ],
      "execution_count": 9,
      "outputs": [
        {
          "output_type": "execute_result",
          "data": {
            "text/plain": [
              "<graphviz.files.Source at 0x7f0961453cc0>"
            ],
            "image/svg+xml": "<?xml version=\"1.0\" encoding=\"UTF-8\" standalone=\"no\"?>\n<!DOCTYPE svg PUBLIC \"-//W3C//DTD SVG 1.1//EN\"\n \"http://www.w3.org/Graphics/SVG/1.1/DTD/svg11.dtd\">\n<!-- Generated by graphviz version 2.40.1 (20161225.0304)\n -->\n<!-- Title: %3 Pages: 1 -->\n<svg width=\"381pt\" height=\"264pt\"\n viewBox=\"0.00 0.00 381.00 264.00\" xmlns=\"http://www.w3.org/2000/svg\" xmlns:xlink=\"http://www.w3.org/1999/xlink\">\n<g id=\"graph0\" class=\"graph\" transform=\"scale(1 1) rotate(0) translate(4 260)\">\n<title>%3</title>\n<polygon fill=\"#ffffff\" stroke=\"transparent\" points=\"-4,4 -4,-260 377,-260 377,4 -4,4\"/>\n<!-- 0 -->\n<g id=\"node1\" class=\"node\">\n<title>0</title>\n</g>\n<!-- 1 -->\n<g id=\"node2\" class=\"node\">\n<title>1</title>\n<ellipse fill=\"none\" stroke=\"#000000\" cx=\"108\" cy=\"-238\" rx=\"18\" ry=\"18\"/>\n</g>\n<!-- 0&#45;&gt;1 -->\n<g id=\"edge1\" class=\"edge\">\n<title>0&#45;&gt;1</title>\n<path fill=\"none\" stroke=\"#000000\" d=\"M54.2109,-238C62.7687,-238 71.3264,-238 79.8842,-238\"/>\n<polygon fill=\"#000000\" stroke=\"#000000\" points=\"79.9303,-241.5001 89.9302,-238 79.9302,-234.5001 79.9303,-241.5001\"/>\n</g>\n<!-- 2 -->\n<g id=\"node3\" class=\"node\">\n<title>2</title>\n<ellipse fill=\"none\" stroke=\"#000000\" cx=\"180\" cy=\"-238\" rx=\"18\" ry=\"18\"/>\n</g>\n<!-- 1&#45;&gt;2 -->\n<g id=\"edge2\" class=\"edge\">\n<title>1&#45;&gt;2</title>\n<path fill=\"none\" stroke=\"#000000\" d=\"M126.1686,-238C133.869,-238 143.0257,-238 151.5834,-238\"/>\n<polygon fill=\"#000000\" stroke=\"#000000\" points=\"151.5868,-241.5001 161.5867,-238 151.5867,-234.5001 151.5868,-241.5001\"/>\n<text text-anchor=\"middle\" x=\"144\" y=\"-244.8\" font-family=\"Times,serif\" font-size=\"14.00\" fill=\"#000000\">0</text>\n</g>\n<!-- 5 -->\n<g id=\"node6\" class=\"node\">\n<title>5</title>\n<ellipse fill=\"none\" stroke=\"#000000\" cx=\"108\" cy=\"-151\" rx=\"18\" ry=\"18\"/>\n</g>\n<!-- 1&#45;&gt;5 -->\n<g id=\"edge3\" class=\"edge\">\n<title>1&#45;&gt;5</title>\n<path fill=\"none\" stroke=\"#000000\" d=\"M108,-219.9735C108,-208.1918 108,-192.5607 108,-179.1581\"/>\n<polygon fill=\"#000000\" stroke=\"#000000\" points=\"111.5001,-179.0033 108,-169.0034 104.5001,-179.0034 111.5001,-179.0033\"/>\n<text text-anchor=\"middle\" x=\"112\" y=\"-190.8\" font-family=\"Times,serif\" font-size=\"14.00\" fill=\"#000000\">1</text>\n</g>\n<!-- 3 -->\n<g id=\"node4\" class=\"node\">\n<title>3</title>\n<ellipse fill=\"none\" stroke=\"#000000\" cx=\"252\" cy=\"-238\" rx=\"18\" ry=\"18\"/>\n</g>\n<!-- 2&#45;&gt;3 -->\n<g id=\"edge4\" class=\"edge\">\n<title>2&#45;&gt;3</title>\n<path fill=\"none\" stroke=\"#000000\" d=\"M198.1686,-238C205.869,-238 215.0257,-238 223.5834,-238\"/>\n<polygon fill=\"#000000\" stroke=\"#000000\" points=\"223.5868,-241.5001 233.5867,-238 223.5867,-234.5001 223.5868,-241.5001\"/>\n<text text-anchor=\"middle\" x=\"216\" y=\"-244.8\" font-family=\"Times,serif\" font-size=\"14.00\" fill=\"#000000\">0</text>\n</g>\n<!-- 6 -->\n<g id=\"node7\" class=\"node\">\n<title>6</title>\n<ellipse fill=\"none\" stroke=\"#000000\" cx=\"180\" cy=\"-151\" rx=\"18\" ry=\"18\"/>\n</g>\n<!-- 2&#45;&gt;6 -->\n<g id=\"edge5\" class=\"edge\">\n<title>2&#45;&gt;6</title>\n<path fill=\"none\" stroke=\"#000000\" d=\"M180,-219.9735C180,-208.1918 180,-192.5607 180,-179.1581\"/>\n<polygon fill=\"#000000\" stroke=\"#000000\" points=\"183.5001,-179.0033 180,-169.0034 176.5001,-179.0034 183.5001,-179.0033\"/>\n<text text-anchor=\"middle\" x=\"184\" y=\"-190.8\" font-family=\"Times,serif\" font-size=\"14.00\" fill=\"#000000\">1</text>\n</g>\n<!-- 4 -->\n<g id=\"node5\" class=\"node\">\n<title>4</title>\n<ellipse fill=\"none\" stroke=\"#000000\" cx=\"324\" cy=\"-238\" rx=\"18\" ry=\"18\"/>\n</g>\n<!-- 3&#45;&gt;4 -->\n<g id=\"edge6\" class=\"edge\">\n<title>3&#45;&gt;4</title>\n<path fill=\"none\" stroke=\"#000000\" d=\"M270.1686,-238C277.869,-238 287.0257,-238 295.5834,-238\"/>\n<polygon fill=\"#000000\" stroke=\"#000000\" points=\"295.5868,-241.5001 305.5867,-238 295.5867,-234.5001 295.5868,-241.5001\"/>\n<text text-anchor=\"middle\" x=\"288\" y=\"-244.8\" font-family=\"Times,serif\" font-size=\"14.00\" fill=\"#000000\">0</text>\n</g>\n<!-- 7 -->\n<g id=\"node8\" class=\"node\">\n<title>7</title>\n<ellipse fill=\"none\" stroke=\"#000000\" cx=\"252\" cy=\"-151\" rx=\"18\" ry=\"18\"/>\n</g>\n<!-- 3&#45;&gt;7 -->\n<g id=\"edge7\" class=\"edge\">\n<title>3&#45;&gt;7</title>\n<path fill=\"none\" stroke=\"#000000\" d=\"M252,-219.9735C252,-208.1918 252,-192.5607 252,-179.1581\"/>\n<polygon fill=\"#000000\" stroke=\"#000000\" points=\"255.5001,-179.0033 252,-169.0034 248.5001,-179.0034 255.5001,-179.0033\"/>\n<text text-anchor=\"middle\" x=\"256\" y=\"-190.8\" font-family=\"Times,serif\" font-size=\"14.00\" fill=\"#000000\">1</text>\n</g>\n<!-- 4&#45;&gt;4 -->\n<g id=\"edge8\" class=\"edge\">\n<title>4&#45;&gt;4</title>\n<path fill=\"none\" stroke=\"#000000\" d=\"M340.6641,-245.3828C350.625,-247.0234 360,-244.5625 360,-238 360,-233.7959 356.1525,-231.2751 350.7682,-230.4375\"/>\n<polygon fill=\"#000000\" stroke=\"#000000\" points=\"350.6002,-226.9399 340.6641,-230.6172 350.7247,-233.9388 350.6002,-226.9399\"/>\n<text text-anchor=\"middle\" x=\"364\" y=\"-234.3\" font-family=\"Times,serif\" font-size=\"14.00\" fill=\"#000000\">0</text>\n</g>\n<!-- 8 -->\n<g id=\"node9\" class=\"node\">\n<title>8</title>\n<ellipse fill=\"none\" stroke=\"#000000\" cx=\"324\" cy=\"-151\" rx=\"18\" ry=\"18\"/>\n</g>\n<!-- 4&#45;&gt;8 -->\n<g id=\"edge9\" class=\"edge\">\n<title>4&#45;&gt;8</title>\n<path fill=\"none\" stroke=\"#000000\" d=\"M324,-219.9735C324,-208.1918 324,-192.5607 324,-179.1581\"/>\n<polygon fill=\"#000000\" stroke=\"#000000\" points=\"327.5001,-179.0033 324,-169.0034 320.5001,-179.0034 327.5001,-179.0033\"/>\n<text text-anchor=\"middle\" x=\"328\" y=\"-190.8\" font-family=\"Times,serif\" font-size=\"14.00\" fill=\"#000000\">1</text>\n</g>\n<!-- 5&#45;&gt;6 -->\n<g id=\"edge10\" class=\"edge\">\n<title>5&#45;&gt;6</title>\n<path fill=\"none\" stroke=\"#000000\" d=\"M126.1686,-151C133.869,-151 143.0257,-151 151.5834,-151\"/>\n<polygon fill=\"#000000\" stroke=\"#000000\" points=\"151.5868,-154.5001 161.5867,-151 151.5867,-147.5001 151.5868,-154.5001\"/>\n<text text-anchor=\"middle\" x=\"144\" y=\"-157.8\" font-family=\"Times,serif\" font-size=\"14.00\" fill=\"#000000\">0</text>\n</g>\n<!-- 9 -->\n<g id=\"node10\" class=\"node\">\n<title>9</title>\n<ellipse fill=\"none\" stroke=\"#000000\" cx=\"105\" cy=\"-60\" rx=\"18\" ry=\"18\"/>\n</g>\n<!-- 5&#45;&gt;9 -->\n<g id=\"edge11\" class=\"edge\">\n<title>5&#45;&gt;9</title>\n<path fill=\"none\" stroke=\"#000000\" d=\"M107.3929,-132.5848C106.9754,-119.9209 106.4128,-102.8558 105.938,-88.4541\"/>\n<polygon fill=\"#000000\" stroke=\"#000000\" points=\"109.4236,-87.9565 105.596,-78.0773 102.4274,-88.1872 109.4236,-87.9565\"/>\n<text text-anchor=\"middle\" x=\"111\" y=\"-103.8\" font-family=\"Times,serif\" font-size=\"14.00\" fill=\"#000000\">1</text>\n</g>\n<!-- 6&#45;&gt;7 -->\n<g id=\"edge12\" class=\"edge\">\n<title>6&#45;&gt;7</title>\n<path fill=\"none\" stroke=\"#000000\" d=\"M198.1686,-151C205.869,-151 215.0257,-151 223.5834,-151\"/>\n<polygon fill=\"#000000\" stroke=\"#000000\" points=\"223.5868,-154.5001 233.5867,-151 223.5867,-147.5001 223.5868,-154.5001\"/>\n<text text-anchor=\"middle\" x=\"216\" y=\"-157.8\" font-family=\"Times,serif\" font-size=\"14.00\" fill=\"#000000\">0</text>\n</g>\n<!-- 10 -->\n<g id=\"node11\" class=\"node\">\n<title>10</title>\n<ellipse fill=\"none\" stroke=\"#000000\" cx=\"177\" cy=\"-60\" rx=\"18\" ry=\"18\"/>\n</g>\n<!-- 6&#45;&gt;10 -->\n<g id=\"edge13\" class=\"edge\">\n<title>6&#45;&gt;10</title>\n<path fill=\"none\" stroke=\"#000000\" d=\"M179.3929,-132.5848C178.9754,-119.9209 178.4128,-102.8558 177.938,-88.4541\"/>\n<polygon fill=\"#000000\" stroke=\"#000000\" points=\"181.4236,-87.9565 177.596,-78.0773 174.4274,-88.1872 181.4236,-87.9565\"/>\n<text text-anchor=\"middle\" x=\"183\" y=\"-103.8\" font-family=\"Times,serif\" font-size=\"14.00\" fill=\"#000000\">1</text>\n</g>\n<!-- 7&#45;&gt;8 -->\n<g id=\"edge14\" class=\"edge\">\n<title>7&#45;&gt;8</title>\n<path fill=\"none\" stroke=\"#000000\" d=\"M270.1686,-151C277.869,-151 287.0257,-151 295.5834,-151\"/>\n<polygon fill=\"#000000\" stroke=\"#000000\" points=\"295.5868,-154.5001 305.5867,-151 295.5867,-147.5001 295.5868,-154.5001\"/>\n<text text-anchor=\"middle\" x=\"288\" y=\"-157.8\" font-family=\"Times,serif\" font-size=\"14.00\" fill=\"#000000\">0</text>\n</g>\n<!-- 11 -->\n<g id=\"node12\" class=\"node\">\n<title>11</title>\n<ellipse fill=\"none\" stroke=\"#000000\" cx=\"253\" cy=\"-60\" rx=\"18\" ry=\"18\"/>\n<ellipse fill=\"none\" stroke=\"#000000\" cx=\"253\" cy=\"-60\" rx=\"22\" ry=\"22\"/>\n</g>\n<!-- 7&#45;&gt;11 -->\n<g id=\"edge15\" class=\"edge\">\n<title>7&#45;&gt;11</title>\n<path fill=\"none\" stroke=\"#000000\" d=\"M252.2024,-132.5848C252.3285,-121.1105 252.4943,-106.0231 252.642,-92.5774\"/>\n<polygon fill=\"#000000\" stroke=\"#000000\" points=\"256.1453,-92.2844 252.7555,-82.2465 249.1458,-92.2075 256.1453,-92.2844\"/>\n<text text-anchor=\"middle\" x=\"257\" y=\"-103.8\" font-family=\"Times,serif\" font-size=\"14.00\" fill=\"#000000\">1</text>\n</g>\n<!-- 8&#45;&gt;8 -->\n<g id=\"edge16\" class=\"edge\">\n<title>8&#45;&gt;8</title>\n<path fill=\"none\" stroke=\"#000000\" d=\"M340.6641,-158.3828C350.625,-160.0234 360,-157.5625 360,-151 360,-146.7959 356.1525,-144.2751 350.7682,-143.4375\"/>\n<polygon fill=\"#000000\" stroke=\"#000000\" points=\"350.6002,-139.9399 340.6641,-143.6172 350.7247,-146.9388 350.6002,-139.9399\"/>\n<text text-anchor=\"middle\" x=\"364\" y=\"-147.3\" font-family=\"Times,serif\" font-size=\"14.00\" fill=\"#000000\">0</text>\n</g>\n<!-- 12 -->\n<g id=\"node13\" class=\"node\">\n<title>12</title>\n<ellipse fill=\"none\" stroke=\"#000000\" cx=\"329\" cy=\"-60\" rx=\"18\" ry=\"18\"/>\n</g>\n<!-- 8&#45;&gt;12 -->\n<g id=\"edge17\" class=\"edge\">\n<title>8&#45;&gt;12</title>\n<path fill=\"none\" stroke=\"#000000\" d=\"M324.9878,-133.0213C325.6886,-120.2671 326.6433,-102.8914 327.4456,-88.2894\"/>\n<polygon fill=\"#000000\" stroke=\"#000000\" points=\"330.9431,-88.4298 327.9971,-78.2528 323.9537,-88.0457 330.9431,-88.4298\"/>\n<text text-anchor=\"middle\" x=\"330\" y=\"-103.8\" font-family=\"Times,serif\" font-size=\"14.00\" fill=\"#000000\">1</text>\n</g>\n<!-- 9&#45;&gt;9 -->\n<g id=\"edge19\" class=\"edge\">\n<title>9:s&#45;&gt;9:s</title>\n<path fill=\"none\" stroke=\"#000000\" d=\"M105,-42C114,-34.3333 114,-19 105,-19 98.8125,-19 96.8789,-26.2474 99.1992,-33.2683\"/>\n<polygon fill=\"#000000\" stroke=\"#000000\" points=\"96.5511,-35.6073 105,-42 102.3817,-31.7338 96.5511,-35.6073\"/>\n<text text-anchor=\"middle\" x=\"105\" y=\"-7.8\" font-family=\"Times,serif\" font-size=\"14.00\" fill=\"#000000\">1</text>\n</g>\n<!-- 9&#45;&gt;10 -->\n<g id=\"edge18\" class=\"edge\">\n<title>9&#45;&gt;10</title>\n<path fill=\"none\" stroke=\"#000000\" d=\"M123.1686,-60C130.869,-60 140.0257,-60 148.5834,-60\"/>\n<polygon fill=\"#000000\" stroke=\"#000000\" points=\"148.5868,-63.5001 158.5867,-60 148.5867,-56.5001 148.5868,-63.5001\"/>\n<text text-anchor=\"middle\" x=\"141\" y=\"-66.8\" font-family=\"Times,serif\" font-size=\"14.00\" fill=\"#000000\">0</text>\n</g>\n<!-- 10&#45;&gt;10 -->\n<g id=\"edge21\" class=\"edge\">\n<title>10:s&#45;&gt;10:s</title>\n<path fill=\"none\" stroke=\"#000000\" d=\"M177,-42C186,-34.3333 186,-19 177,-19 170.8125,-19 168.8789,-26.2474 171.1992,-33.2683\"/>\n<polygon fill=\"#000000\" stroke=\"#000000\" points=\"168.5511,-35.6073 177,-42 174.3817,-31.7338 168.5511,-35.6073\"/>\n<text text-anchor=\"middle\" x=\"177\" y=\"-7.8\" font-family=\"Times,serif\" font-size=\"14.00\" fill=\"#000000\">1</text>\n</g>\n<!-- 10&#45;&gt;11 -->\n<g id=\"edge20\" class=\"edge\">\n<title>10&#45;&gt;11</title>\n<path fill=\"none\" stroke=\"#000000\" d=\"M195.0109,-60C202.709,-60 211.9371,-60 220.7439,-60\"/>\n<polygon fill=\"#000000\" stroke=\"#000000\" points=\"220.7718,-63.5001 230.7718,-60 220.7718,-56.5001 220.7718,-63.5001\"/>\n<text text-anchor=\"middle\" x=\"213\" y=\"-66.8\" font-family=\"Times,serif\" font-size=\"14.00\" fill=\"#000000\">0</text>\n</g>\n<!-- 11&#45;&gt;11 -->\n<g id=\"edge23\" class=\"edge\">\n<title>11:s&#45;&gt;11:s</title>\n<path fill=\"none\" stroke=\"#000000\" d=\"M253,-38C262,-30.3333 262,-15 253,-15 246.8125,-15 244.8789,-22.2474 247.1992,-29.2683\"/>\n<polygon fill=\"#000000\" stroke=\"#000000\" points=\"244.5511,-31.6073 253,-38 250.3817,-27.7338 244.5511,-31.6073\"/>\n<text text-anchor=\"middle\" x=\"253\" y=\"-3.8\" font-family=\"Times,serif\" font-size=\"14.00\" fill=\"#000000\">1</text>\n</g>\n<!-- 11&#45;&gt;12 -->\n<g id=\"edge22\" class=\"edge\">\n<title>11&#45;&gt;12</title>\n<path fill=\"none\" stroke=\"#000000\" d=\"M275.3914,-60C283.2728,-60 292.2384,-60 300.5518,-60\"/>\n<polygon fill=\"#000000\" stroke=\"#000000\" points=\"300.6026,-63.5001 310.6025,-60 300.6025,-56.5001 300.6026,-63.5001\"/>\n<text text-anchor=\"middle\" x=\"293\" y=\"-66.8\" font-family=\"Times,serif\" font-size=\"14.00\" fill=\"#000000\">0</text>\n</g>\n<!-- 12&#45;&gt;12 -->\n<g id=\"edge24\" class=\"edge\">\n<title>12&#45;&gt;12</title>\n<path fill=\"none\" stroke=\"#000000\" d=\"M345.2903,-68.0164C355.3892,-69.9495 365,-67.2773 365,-60 365,-55.338 361.0557,-52.5659 355.5656,-51.6838\"/>\n<polygon fill=\"#000000\" stroke=\"#000000\" points=\"355.1839,-48.1933 345.2903,-51.9836 355.3881,-55.1903 355.1839,-48.1933\"/>\n<text text-anchor=\"middle\" x=\"369\" y=\"-56.3\" font-family=\"Times,serif\" font-size=\"14.00\" fill=\"#000000\">0</text>\n</g>\n<!-- 12&#45;&gt;12 -->\n<g id=\"edge25\" class=\"edge\">\n<title>12:s&#45;&gt;12:s</title>\n<path fill=\"none\" stroke=\"#000000\" d=\"M329,-42C338,-34.3333 338,-19 329,-19 322.8125,-19 320.8789,-26.2474 323.1992,-33.2683\"/>\n<polygon fill=\"#000000\" stroke=\"#000000\" points=\"320.5511,-35.6073 329,-42 326.3817,-31.7338 320.5511,-35.6073\"/>\n<text text-anchor=\"middle\" x=\"329\" y=\"-7.8\" font-family=\"Times,serif\" font-size=\"14.00\" fill=\"#000000\">1</text>\n</g>\n</g>\n</svg>\n"
          },
          "metadata": {
            "tags": []
          },
          "execution_count": 9
        }
      ]
    },
    {
      "cell_type": "markdown",
      "metadata": {
        "id": "JlQR-10oAwmt"
      },
      "source": [
        "Merging redundant states:"
      ]
    },
    {
      "cell_type": "code",
      "metadata": {
        "id": "swu4qKtlAwmt",
        "colab": {
          "base_uri": "https://localhost:8080/",
          "height": 373
        },
        "outputId": "4c02cedb-54fb-4500-ec04-2917fa1273b4"
      },
      "source": [
        "from graphviz import Source\n",
        "Source('''\n",
        "digraph {\n",
        "  node [shape=circle]\n",
        "   0 [shape=none label=\"\"]\n",
        "   1 [label=\"\"]\n",
        "   2 [label=\"\"]\n",
        "   3 [label=\"\"]\n",
        "   4812 [label=\"\"]\n",
        "   5 [label=\"\"]\n",
        "   6 [label=\"\"]\n",
        "   7 [label=\"\"]\n",
        "   9 [label=\"\"]\n",
        "  10 [label=\"\"]\n",
        "  11 [label=\"\" shape=doublecircle]\n",
        "   0 ->  1 [label=\"\"]\n",
        "   1 ->  2 [label=0]\n",
        "   1 ->  5 [label=1]\n",
        "   2 ->  3 [label=0]\n",
        "   2 ->  6 [label=1]\n",
        "   3 ->  4812 [label=0]\n",
        "   3 ->  7 [label=1]\n",
        "   5 ->  6 [label=0]\n",
        "   5 ->  9 [label=1]\n",
        "   6 ->  7 [label=0]\n",
        "   6 -> 10 [label=1]\n",
        "   7 -> 4812 [label=0]\n",
        "   7 -> 11 [label=1]\n",
        "   9 -> 10 [label=0]\n",
        "   9 ->  9 [label=1 headport=s tailport=s]\n",
        "  10 -> 11 [label=0]\n",
        "  10 -> 10 [label=1 headport=s tailport=s]\n",
        "  11 -> 4812 [label=0]\n",
        "  11 -> 11 [label=1 headport=s tailport=s]\n",
        "  4812 -> 4812 [label=\"0, 1\"]\n",
        "  {rank=same 0 1 2 3}\n",
        "  {rank=same 5 6 7 4812}\n",
        "  {rank=same 9 10 11}\n",
        "}\n",
        "''')"
      ],
      "execution_count": 10,
      "outputs": [
        {
          "output_type": "execute_result",
          "data": {
            "text/plain": [
              "<graphviz.files.Source at 0x7f0952d9ee10>"
            ],
            "image/svg+xml": "<?xml version=\"1.0\" encoding=\"UTF-8\" standalone=\"no\"?>\n<!DOCTYPE svg PUBLIC \"-//W3C//DTD SVG 1.1//EN\"\n \"http://www.w3.org/Graphics/SVG/1.1/DTD/svg11.dtd\">\n<!-- Generated by graphviz version 2.40.1 (20161225.0304)\n -->\n<!-- Title: %3 Pages: 1 -->\n<svg width=\"391pt\" height=\"264pt\"\n viewBox=\"0.00 0.00 391.00 264.00\" xmlns=\"http://www.w3.org/2000/svg\" xmlns:xlink=\"http://www.w3.org/1999/xlink\">\n<g id=\"graph0\" class=\"graph\" transform=\"scale(1 1) rotate(0) translate(4 260)\">\n<title>%3</title>\n<polygon fill=\"#ffffff\" stroke=\"transparent\" points=\"-4,4 -4,-260 387,-260 387,4 -4,4\"/>\n<!-- 0 -->\n<g id=\"node1\" class=\"node\">\n<title>0</title>\n</g>\n<!-- 1 -->\n<g id=\"node2\" class=\"node\">\n<title>1</title>\n<ellipse fill=\"none\" stroke=\"#000000\" cx=\"108\" cy=\"-238\" rx=\"18\" ry=\"18\"/>\n</g>\n<!-- 0&#45;&gt;1 -->\n<g id=\"edge1\" class=\"edge\">\n<title>0&#45;&gt;1</title>\n<path fill=\"none\" stroke=\"#000000\" d=\"M54.2109,-238C62.7687,-238 71.3264,-238 79.8842,-238\"/>\n<polygon fill=\"#000000\" stroke=\"#000000\" points=\"79.9303,-241.5001 89.9302,-238 79.9302,-234.5001 79.9303,-241.5001\"/>\n</g>\n<!-- 2 -->\n<g id=\"node3\" class=\"node\">\n<title>2</title>\n<ellipse fill=\"none\" stroke=\"#000000\" cx=\"180\" cy=\"-238\" rx=\"18\" ry=\"18\"/>\n</g>\n<!-- 1&#45;&gt;2 -->\n<g id=\"edge2\" class=\"edge\">\n<title>1&#45;&gt;2</title>\n<path fill=\"none\" stroke=\"#000000\" d=\"M126.1686,-238C133.869,-238 143.0257,-238 151.5834,-238\"/>\n<polygon fill=\"#000000\" stroke=\"#000000\" points=\"151.5868,-241.5001 161.5867,-238 151.5867,-234.5001 151.5868,-241.5001\"/>\n<text text-anchor=\"middle\" x=\"144\" y=\"-244.8\" font-family=\"Times,serif\" font-size=\"14.00\" fill=\"#000000\">0</text>\n</g>\n<!-- 5 -->\n<g id=\"node6\" class=\"node\">\n<title>5</title>\n<ellipse fill=\"none\" stroke=\"#000000\" cx=\"108\" cy=\"-151\" rx=\"18\" ry=\"18\"/>\n</g>\n<!-- 1&#45;&gt;5 -->\n<g id=\"edge3\" class=\"edge\">\n<title>1&#45;&gt;5</title>\n<path fill=\"none\" stroke=\"#000000\" d=\"M108,-219.9735C108,-208.1918 108,-192.5607 108,-179.1581\"/>\n<polygon fill=\"#000000\" stroke=\"#000000\" points=\"111.5001,-179.0033 108,-169.0034 104.5001,-179.0034 111.5001,-179.0033\"/>\n<text text-anchor=\"middle\" x=\"112\" y=\"-190.8\" font-family=\"Times,serif\" font-size=\"14.00\" fill=\"#000000\">1</text>\n</g>\n<!-- 3 -->\n<g id=\"node4\" class=\"node\">\n<title>3</title>\n<ellipse fill=\"none\" stroke=\"#000000\" cx=\"252\" cy=\"-238\" rx=\"18\" ry=\"18\"/>\n</g>\n<!-- 2&#45;&gt;3 -->\n<g id=\"edge4\" class=\"edge\">\n<title>2&#45;&gt;3</title>\n<path fill=\"none\" stroke=\"#000000\" d=\"M198.1686,-238C205.869,-238 215.0257,-238 223.5834,-238\"/>\n<polygon fill=\"#000000\" stroke=\"#000000\" points=\"223.5868,-241.5001 233.5867,-238 223.5867,-234.5001 223.5868,-241.5001\"/>\n<text text-anchor=\"middle\" x=\"216\" y=\"-244.8\" font-family=\"Times,serif\" font-size=\"14.00\" fill=\"#000000\">0</text>\n</g>\n<!-- 6 -->\n<g id=\"node7\" class=\"node\">\n<title>6</title>\n<ellipse fill=\"none\" stroke=\"#000000\" cx=\"180\" cy=\"-151\" rx=\"18\" ry=\"18\"/>\n</g>\n<!-- 2&#45;&gt;6 -->\n<g id=\"edge5\" class=\"edge\">\n<title>2&#45;&gt;6</title>\n<path fill=\"none\" stroke=\"#000000\" d=\"M180,-219.9735C180,-208.1918 180,-192.5607 180,-179.1581\"/>\n<polygon fill=\"#000000\" stroke=\"#000000\" points=\"183.5001,-179.0033 180,-169.0034 176.5001,-179.0034 183.5001,-179.0033\"/>\n<text text-anchor=\"middle\" x=\"184\" y=\"-190.8\" font-family=\"Times,serif\" font-size=\"14.00\" fill=\"#000000\">1</text>\n</g>\n<!-- 4812 -->\n<g id=\"node5\" class=\"node\">\n<title>4812</title>\n<ellipse fill=\"none\" stroke=\"#000000\" cx=\"324\" cy=\"-151\" rx=\"18\" ry=\"18\"/>\n</g>\n<!-- 3&#45;&gt;4812 -->\n<g id=\"edge6\" class=\"edge\">\n<title>3&#45;&gt;4812</title>\n<path fill=\"none\" stroke=\"#000000\" d=\"M263.568,-224.0219C275.0096,-210.1967 292.6853,-188.8385 305.9701,-172.7861\"/>\n<polygon fill=\"#000000\" stroke=\"#000000\" points=\"308.7813,-174.8788 312.4607,-164.9434 303.3886,-170.4158 308.7813,-174.8788\"/>\n<text text-anchor=\"middle\" x=\"296\" y=\"-190.8\" font-family=\"Times,serif\" font-size=\"14.00\" fill=\"#000000\">0</text>\n</g>\n<!-- 7 -->\n<g id=\"node8\" class=\"node\">\n<title>7</title>\n<ellipse fill=\"none\" stroke=\"#000000\" cx=\"252\" cy=\"-151\" rx=\"18\" ry=\"18\"/>\n</g>\n<!-- 3&#45;&gt;7 -->\n<g id=\"edge7\" class=\"edge\">\n<title>3&#45;&gt;7</title>\n<path fill=\"none\" stroke=\"#000000\" d=\"M252,-219.9735C252,-208.1918 252,-192.5607 252,-179.1581\"/>\n<polygon fill=\"#000000\" stroke=\"#000000\" points=\"255.5001,-179.0033 252,-169.0034 248.5001,-179.0034 255.5001,-179.0033\"/>\n<text text-anchor=\"middle\" x=\"256\" y=\"-190.8\" font-family=\"Times,serif\" font-size=\"14.00\" fill=\"#000000\">1</text>\n</g>\n<!-- 4812&#45;&gt;4812 -->\n<g id=\"edge20\" class=\"edge\">\n<title>4812&#45;&gt;4812</title>\n<path fill=\"none\" stroke=\"#000000\" d=\"M340.6641,-158.3828C350.625,-160.0234 360,-157.5625 360,-151 360,-146.7959 356.1525,-144.2751 350.7682,-143.4375\"/>\n<polygon fill=\"#000000\" stroke=\"#000000\" points=\"350.6002,-139.9399 340.6641,-143.6172 350.7247,-146.9388 350.6002,-139.9399\"/>\n<text text-anchor=\"middle\" x=\"371.5\" y=\"-147.3\" font-family=\"Times,serif\" font-size=\"14.00\" fill=\"#000000\">0, 1</text>\n</g>\n<!-- 5&#45;&gt;6 -->\n<g id=\"edge8\" class=\"edge\">\n<title>5&#45;&gt;6</title>\n<path fill=\"none\" stroke=\"#000000\" d=\"M126.1686,-151C133.869,-151 143.0257,-151 151.5834,-151\"/>\n<polygon fill=\"#000000\" stroke=\"#000000\" points=\"151.5868,-154.5001 161.5867,-151 151.5867,-147.5001 151.5868,-154.5001\"/>\n<text text-anchor=\"middle\" x=\"144\" y=\"-157.8\" font-family=\"Times,serif\" font-size=\"14.00\" fill=\"#000000\">0</text>\n</g>\n<!-- 9 -->\n<g id=\"node9\" class=\"node\">\n<title>9</title>\n<ellipse fill=\"none\" stroke=\"#000000\" cx=\"108\" cy=\"-60\" rx=\"18\" ry=\"18\"/>\n</g>\n<!-- 5&#45;&gt;9 -->\n<g id=\"edge9\" class=\"edge\">\n<title>5&#45;&gt;9</title>\n<path fill=\"none\" stroke=\"#000000\" d=\"M108,-132.5848C108,-119.9209 108,-102.8558 108,-88.4541\"/>\n<polygon fill=\"#000000\" stroke=\"#000000\" points=\"111.5001,-88.0772 108,-78.0773 104.5001,-88.0773 111.5001,-88.0772\"/>\n<text text-anchor=\"middle\" x=\"112\" y=\"-103.8\" font-family=\"Times,serif\" font-size=\"14.00\" fill=\"#000000\">1</text>\n</g>\n<!-- 6&#45;&gt;7 -->\n<g id=\"edge10\" class=\"edge\">\n<title>6&#45;&gt;7</title>\n<path fill=\"none\" stroke=\"#000000\" d=\"M198.1686,-151C205.869,-151 215.0257,-151 223.5834,-151\"/>\n<polygon fill=\"#000000\" stroke=\"#000000\" points=\"223.5868,-154.5001 233.5867,-151 223.5867,-147.5001 223.5868,-154.5001\"/>\n<text text-anchor=\"middle\" x=\"216\" y=\"-157.8\" font-family=\"Times,serif\" font-size=\"14.00\" fill=\"#000000\">0</text>\n</g>\n<!-- 10 -->\n<g id=\"node10\" class=\"node\">\n<title>10</title>\n<ellipse fill=\"none\" stroke=\"#000000\" cx=\"180\" cy=\"-60\" rx=\"18\" ry=\"18\"/>\n</g>\n<!-- 6&#45;&gt;10 -->\n<g id=\"edge11\" class=\"edge\">\n<title>6&#45;&gt;10</title>\n<path fill=\"none\" stroke=\"#000000\" d=\"M180,-132.5848C180,-119.9209 180,-102.8558 180,-88.4541\"/>\n<polygon fill=\"#000000\" stroke=\"#000000\" points=\"183.5001,-88.0772 180,-78.0773 176.5001,-88.0773 183.5001,-88.0772\"/>\n<text text-anchor=\"middle\" x=\"184\" y=\"-103.8\" font-family=\"Times,serif\" font-size=\"14.00\" fill=\"#000000\">1</text>\n</g>\n<!-- 7&#45;&gt;4812 -->\n<g id=\"edge12\" class=\"edge\">\n<title>7&#45;&gt;4812</title>\n<path fill=\"none\" stroke=\"#000000\" d=\"M270.1686,-151C277.869,-151 287.0257,-151 295.5834,-151\"/>\n<polygon fill=\"#000000\" stroke=\"#000000\" points=\"295.5868,-154.5001 305.5867,-151 295.5867,-147.5001 295.5868,-154.5001\"/>\n<text text-anchor=\"middle\" x=\"288\" y=\"-157.8\" font-family=\"Times,serif\" font-size=\"14.00\" fill=\"#000000\">0</text>\n</g>\n<!-- 11 -->\n<g id=\"node11\" class=\"node\">\n<title>11</title>\n<ellipse fill=\"none\" stroke=\"#000000\" cx=\"256\" cy=\"-60\" rx=\"18\" ry=\"18\"/>\n<ellipse fill=\"none\" stroke=\"#000000\" cx=\"256\" cy=\"-60\" rx=\"22\" ry=\"22\"/>\n</g>\n<!-- 7&#45;&gt;11 -->\n<g id=\"edge13\" class=\"edge\">\n<title>7&#45;&gt;11</title>\n<path fill=\"none\" stroke=\"#000000\" d=\"M252.8095,-132.5848C253.3138,-121.1105 253.977,-106.0231 254.568,-92.5774\"/>\n<polygon fill=\"#000000\" stroke=\"#000000\" points=\"258.0795,-92.3906 255.0221,-82.2465 251.0863,-92.0832 258.0795,-92.3906\"/>\n<text text-anchor=\"middle\" x=\"258\" y=\"-103.8\" font-family=\"Times,serif\" font-size=\"14.00\" fill=\"#000000\">1</text>\n</g>\n<!-- 9&#45;&gt;9 -->\n<g id=\"edge15\" class=\"edge\">\n<title>9:s&#45;&gt;9:s</title>\n<path fill=\"none\" stroke=\"#000000\" d=\"M108,-42C117,-34.3333 117,-19 108,-19 101.8125,-19 99.8789,-26.2474 102.1992,-33.2683\"/>\n<polygon fill=\"#000000\" stroke=\"#000000\" points=\"99.5511,-35.6073 108,-42 105.3817,-31.7338 99.5511,-35.6073\"/>\n<text text-anchor=\"middle\" x=\"108\" y=\"-7.8\" font-family=\"Times,serif\" font-size=\"14.00\" fill=\"#000000\">1</text>\n</g>\n<!-- 9&#45;&gt;10 -->\n<g id=\"edge14\" class=\"edge\">\n<title>9&#45;&gt;10</title>\n<path fill=\"none\" stroke=\"#000000\" d=\"M126.1686,-60C133.869,-60 143.0257,-60 151.5834,-60\"/>\n<polygon fill=\"#000000\" stroke=\"#000000\" points=\"151.5868,-63.5001 161.5867,-60 151.5867,-56.5001 151.5868,-63.5001\"/>\n<text text-anchor=\"middle\" x=\"144\" y=\"-66.8\" font-family=\"Times,serif\" font-size=\"14.00\" fill=\"#000000\">0</text>\n</g>\n<!-- 10&#45;&gt;10 -->\n<g id=\"edge17\" class=\"edge\">\n<title>10:s&#45;&gt;10:s</title>\n<path fill=\"none\" stroke=\"#000000\" d=\"M180,-42C189,-34.3333 189,-19 180,-19 173.8125,-19 171.8789,-26.2474 174.1992,-33.2683\"/>\n<polygon fill=\"#000000\" stroke=\"#000000\" points=\"171.5511,-35.6073 180,-42 177.3817,-31.7338 171.5511,-35.6073\"/>\n<text text-anchor=\"middle\" x=\"180\" y=\"-7.8\" font-family=\"Times,serif\" font-size=\"14.00\" fill=\"#000000\">1</text>\n</g>\n<!-- 10&#45;&gt;11 -->\n<g id=\"edge16\" class=\"edge\">\n<title>10&#45;&gt;11</title>\n<path fill=\"none\" stroke=\"#000000\" d=\"M198.0109,-60C205.709,-60 214.9371,-60 223.7439,-60\"/>\n<polygon fill=\"#000000\" stroke=\"#000000\" points=\"223.7718,-63.5001 233.7718,-60 223.7718,-56.5001 223.7718,-63.5001\"/>\n<text text-anchor=\"middle\" x=\"216\" y=\"-66.8\" font-family=\"Times,serif\" font-size=\"14.00\" fill=\"#000000\">0</text>\n</g>\n<!-- 11&#45;&gt;4812 -->\n<g id=\"edge18\" class=\"edge\">\n<title>11&#45;&gt;4812</title>\n<path fill=\"none\" stroke=\"#000000\" d=\"M269.2308,-77.706C280.0136,-92.1358 295.3141,-112.6116 307.0036,-128.2548\"/>\n<polygon fill=\"#000000\" stroke=\"#000000\" points=\"304.285,-130.4638 313.0746,-136.3793 309.8924,-126.2736 304.285,-130.4638\"/>\n<text text-anchor=\"middle\" x=\"300\" y=\"-103.8\" font-family=\"Times,serif\" font-size=\"14.00\" fill=\"#000000\">0</text>\n</g>\n<!-- 11&#45;&gt;11 -->\n<g id=\"edge19\" class=\"edge\">\n<title>11:s&#45;&gt;11:s</title>\n<path fill=\"none\" stroke=\"#000000\" d=\"M256,-38C265,-30.3333 265,-15 256,-15 249.8125,-15 247.8789,-22.2474 250.1992,-29.2683\"/>\n<polygon fill=\"#000000\" stroke=\"#000000\" points=\"247.5511,-31.6073 256,-38 253.3817,-27.7338 247.5511,-31.6073\"/>\n<text text-anchor=\"middle\" x=\"256\" y=\"-3.8\" font-family=\"Times,serif\" font-size=\"14.00\" fill=\"#000000\">1</text>\n</g>\n</g>\n</svg>\n"
          },
          "metadata": {
            "tags": []
          },
          "execution_count": 10
        }
      ]
    },
    {
      "cell_type": "markdown",
      "metadata": {
        "id": "-NlPfr2mBRaM"
      },
      "source": [
        "<mark> I have read and ran the code in this notebook </mark>"
      ]
    }
  ]
}