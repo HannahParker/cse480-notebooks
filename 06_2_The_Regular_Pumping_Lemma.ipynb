{
  "nbformat": 4,
  "nbformat_minor": 0,
  "metadata": {
    "colab": {
      "name": "06_2_The_Regular_Pumping_Lemma.ipynb",
      "provenance": [],
      "include_colab_link": true
    },
    "kernelspec": {
      "name": "python3",
      "display_name": "Python 3"
    }
  },
  "cells": [
    {
      "cell_type": "markdown",
      "metadata": {
        "id": "view-in-github",
        "colab_type": "text"
      },
      "source": [
        "<a href=\"https://colab.research.google.com/github/HannahParker/cse480-notebooks/blob/master/06_2_The_Regular_Pumping_Lemma.ipynb\" target=\"_parent\"><img src=\"https://colab.research.google.com/assets/colab-badge.svg\" alt=\"Open In Colab\"/></a>"
      ]
    },
    {
      "cell_type": "markdown",
      "metadata": {
        "id": "15fp3DYOO1OE"
      },
      "source": [
        "# The Regular Pumping Lemma\n",
        "## Class Directed Learning\n",
        "### Due: 9 February 2021"
      ]
    },
    {
      "cell_type": "markdown",
      "metadata": {
        "id": "Kb_PKGBePDV5"
      },
      "source": [
        "Do you understand this \"theorem helper\" (what a lemma is) and how it helps you prove by contradiction that a language is **NOT** regular? Do you understand why it cannot be used to prove that a language **IS** regular?\n",
        "\n",
        "Work through the two resources below and enhance your understanding by helping each other and assess your understanding by quizzing each other.\n",
        "\n",
        "https://rickneff.github.io/regular-languages-pumping-words.pdf\n",
        "\n",
        "https://cs.stackexchange.com/questions/50559/pumping-lemma-if-you-can-keep-pumping-what-does-this-tell-you\n"
      ]
    },
    {
      "cell_type": "markdown",
      "metadata": {
        "id": "ZzN4wvGTPu9d"
      },
      "source": [
        "## Notes: \r\n",
        "\r\n",
        "- If we want to know when a given language is not in a particular class, we can use the pumping lemma.\r\n",
        "\r\n",
        "- We use it to prove that a language is NOT regular.\r\n",
        "\r\n",
        "- We assume that the language IS REGULAR, and then prove a contradiction.\r\n",
        "\r\n",
        "- The pumping lemma for regular\r\n",
        "languages tells us that if we select a sufficiently long word from a regular\r\n",
        "language and “pump” it—as many times as we like—we always get a new\r\n",
        "word in that language\r\n",
        "\r\n",
        "- When do we know a language isn't regular? \r\n",
        "\r\n",
        "    If we find that a particular\r\n",
        "word in it cannot be pumped in any way without getting a word not in the\r\n",
        "language\r\n",
        "\r\n",
        "- To pump a word (or string) s means to select a particular subword, say y,\r\n",
        "from s and to replace y by yy in s.\r\n",
        "\r\n",
        "-  We can pump s “negatively” by eliminating y altogether\r\n",
        "from s.\r\n",
        "\r\n",
        "- The statement \"L is a regular language⟹L complies with the pumping lemma\" is true. Often times, it is assumed that this can be reversed (L complies with the pumping lemma⟹L is a regular language), this is untrue. We should not assume that this statement is also true.\r\n",
        "\r\n",
        "\r\n"
      ]
    }
  ]
}