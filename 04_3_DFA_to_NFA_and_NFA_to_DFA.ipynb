{
  "nbformat": 4,
  "nbformat_minor": 0,
  "metadata": {
    "kernelspec": {
      "display_name": "Python 3",
      "language": "python",
      "name": "python3"
    },
    "language_info": {
      "codemirror_mode": {
        "name": "ipython",
        "version": 3
      },
      "file_extension": ".py",
      "mimetype": "text/x-python",
      "name": "python",
      "nbconvert_exporter": "python",
      "pygments_lexer": "ipython3",
      "version": "3.9.0"
    },
    "toc": {
      "colors": {
        "hover_highlight": "#DAA520",
        "running_highlight": "#FF0000",
        "selected_highlight": "#FFD700"
      },
      "moveMenuLeft": true,
      "nav_menu": {
        "height": "121px",
        "width": "252px"
      },
      "navigate_menu": true,
      "number_sections": true,
      "sideBar": true,
      "threshold": 4,
      "toc_cell": false,
      "toc_section_display": "block",
      "toc_window_display": false,
      "widenNotebook": false
    },
    "colab": {
      "name": "04_3_DFA_to_NFA_and_NFA_to_DFA.ipynb",
      "provenance": []
    }
  },
  "cells": [
    {
      "cell_type": "markdown",
      "metadata": {
        "run_control": {
          "frozen": false,
          "read_only": false
        },
        "id": "g3zViW7E17u9"
      },
      "source": [
        "# Converting DFA to NFA (easy!) and NFA to DFA (harder!).\n"
      ]
    },
    {
      "cell_type": "code",
      "metadata": {
        "run_control": {
          "frozen": false,
          "read_only": false
        },
        "id": "47RMenC417vP",
        "colab": {
          "base_uri": "https://localhost:8080/"
        },
        "outputId": "f5e16ea8-b46d-4eaf-9269-5274e51f6ee0"
      },
      "source": [
        "#~~~~~~~~~~~~~~~~~~~~~~~~~~~~~~~~~~~~~~~~~~~~~~~~~~~~~~~\n",
        "import sys\n",
        "\n",
        "# -- Detect if in Own Install or in Colab\n",
        "try:\n",
        "    import google.colab\n",
        "    OWN_INSTALL = False\n",
        "except:\n",
        "    OWN_INSTALL = True\n",
        "    \n",
        "if OWN_INSTALL:\n",
        "    \n",
        "  #---- Leave these definitions ON if running on laptop\n",
        "  #---- Else turn OFF by putting them between ''' ... '''\n",
        "\n",
        "  sys.path[0:0] = ['../../../../..',  '../../../../../3rdparty',  \n",
        "                   '../../../..',  '../../../../3rdparty',  \n",
        "                   '../../..',     '../../../3rdparty', \n",
        "                   '../..',        '../../3rdparty',\n",
        "                   '..',           '../3rdparty',\n",
        "                   '../Jove',      '../Jove/jove']\n",
        "\n",
        "else: # In colab\n",
        "  ! if [ ! -d Jove ]; then git clone https://github.com/ganeshutah/Jove Jove; fi\n",
        "  sys.path.append('./Jove')\n",
        "  sys.path.append('./Jove/jove')\n",
        "\n",
        "# -- common imports --\n",
        "from jove.DotBashers import *\n",
        "from jove.Def_md2mc  import *\n",
        "from jove.Def_NFA    import *\n",
        "from jove.Def_DFA    import *\n",
        "from jove.AnimateNFA import *\n",
        "#~~~~~~~~~~~~~~~~~~~~~~~~~~~~~~~~~~~~~~~~~~~~~~~~~~~~~~~"
      ],
      "execution_count": 1,
      "outputs": [
        {
          "output_type": "stream",
          "text": [
            "Cloning into 'Jove'...\n",
            "remote: Enumerating objects: 4634, done.\u001b[K\n",
            "remote: Total 4634 (delta 0), reused 0 (delta 0), pack-reused 4634\u001b[K\n",
            "Receiving objects: 100% (4634/4634), 7.38 MiB | 25.78 MiB/s, done.\n",
            "Resolving deltas: 100% (3005/3005), done.\n",
            "You may use any of these help commands:\n",
            "help(ResetStNum)\n",
            "help(NxtStateStr)\n",
            "\n",
            "You may use any of these help commands:\n",
            "help(md2mc)\n",
            ".. and if you want to dig more, then ..\n",
            "help(default_line_attr)\n",
            "help(length_ok_input_items)\n",
            "help(union_line_attr_list_fld)\n",
            "help(extend_rsltdict)\n",
            "help(form_delta)\n",
            "help(get_machine_components)\n",
            "\n",
            "You may use any of these help commands:\n",
            "help(mkp_dfa)\n",
            "help(mk_dfa)\n",
            "help(totalize_dfa)\n",
            "help(addtosigma_delta)\n",
            "help(step_dfa)\n",
            "help(run_dfa)\n",
            "help(accepts_dfa)\n",
            "help(comp_dfa)\n",
            "help(union_dfa)\n",
            "help(intersect_dfa)\n",
            "help(pruneUnreach)\n",
            "help(iso_dfa)\n",
            "help(langeq_dfa)\n",
            "help(same_status)\n",
            "help(h_langeq_dfa)\n",
            "help(fixptDist)\n",
            "help(min_dfa)\n",
            "help(pairFR)\n",
            "help(state_combos)\n",
            "help(sepFinNonFin)\n",
            "help(bash_eql_classes)\n",
            "help(listminus)\n",
            "help(bash_1)\n",
            "help(mk_rep_eqc)\n",
            "help(F_of)\n",
            "help(rep_of_s)\n",
            "help(q0_of)\n",
            "help(Delta_of)\n",
            "help(mk_state_eqc_name)\n",
            "\n",
            "You may use any of these help commands:\n",
            "help(mk_nfa)\n",
            "help(totalize_nfa)\n",
            "help(step_nfa)\n",
            "help(run_nfa)\n",
            "help(ec_step_nfa)\n",
            "help(Eclosure)\n",
            "help(Echelp)\n",
            "help(accepts_nfa)\n",
            "help(nfa2dfa)\n",
            "help(n2d)\n",
            "help(inSets)\n",
            "help(rev_dfa)\n",
            "help(min_dfa_brz)\n",
            "\n",
            " \"help(AnimateNFA)\" gives you info on how to use animations with NFA \n"
          ],
          "name": "stdout"
        }
      ]
    },
    {
      "cell_type": "markdown",
      "metadata": {
        "id": "NpYq3dGV17vS"
      },
      "source": [
        "L(dfaD1) = { w | w has exactly two 0's}"
      ]
    },
    {
      "cell_type": "code",
      "metadata": {
        "id": "tgMgix7S17vS",
        "colab": {
          "base_uri": "https://localhost:8080/"
        },
        "outputId": "b44bbfac-e535-4426-db2d-d9145307bd3e"
      },
      "source": [
        "dfaD1 = md2mc('''\n",
        "  DFA\n",
        "  I : 0 -> S1\n",
        "  I : 1 -> I\n",
        "  S1: 0 -> F\n",
        "  S1: 1 -> S1\n",
        "  F : 0 -> S2\n",
        "  F : 1 -> F\n",
        "  S2: 0|1 -> S2\n",
        "''')"
      ],
      "execution_count": 2,
      "outputs": [
        {
          "output_type": "stream",
          "text": [
            "Generating LALR tables\n"
          ],
          "name": "stderr"
        }
      ]
    },
    {
      "cell_type": "code",
      "metadata": {
        "id": "dc0YM_Sm17vT",
        "colab": {
          "base_uri": "https://localhost:8080/",
          "height": 153
        },
        "outputId": "d7eb3ad7-5084-49e8-dbb9-d5193bdfc32d"
      },
      "source": [
        "dotObj_dfa(dfaD1, FuseEdges=True)"
      ],
      "execution_count": 3,
      "outputs": [
        {
          "output_type": "execute_result",
          "data": {
            "text/plain": [
              "<graphviz.dot.Digraph at 0x7fe9a7ccc898>"
            ],
            "image/svg+xml": "<?xml version=\"1.0\" encoding=\"UTF-8\" standalone=\"no\"?>\n<!DOCTYPE svg PUBLIC \"-//W3C//DTD SVG 1.1//EN\"\n \"http://www.w3.org/Graphics/SVG/1.1/DTD/svg11.dtd\">\n<!-- Generated by graphviz version 2.40.1 (20161225.0304)\n -->\n<!-- Title: %3 Pages: 1 -->\n<svg width=\"406pt\" height=\"99pt\"\n viewBox=\"0.00 0.00 406.19 98.80\" xmlns=\"http://www.w3.org/2000/svg\" xmlns:xlink=\"http://www.w3.org/1999/xlink\">\n<g id=\"graph0\" class=\"graph\" transform=\"scale(1 1) rotate(0) translate(4 94.7982)\">\n<title>%3</title>\n<polygon fill=\"#ffffff\" stroke=\"transparent\" points=\"-4,4 -4,-94.7982 402.1926,-94.7982 402.1926,4 -4,4\"/>\n<!-- EMPTY -->\n<g id=\"node1\" class=\"node\">\n<title>EMPTY</title>\n</g>\n<!-- I -->\n<g id=\"node2\" class=\"node\">\n<title>I</title>\n<ellipse fill=\"none\" stroke=\"#000000\" cx=\"109\" cy=\"-22\" rx=\"18\" ry=\"18\"/>\n<text text-anchor=\"middle\" x=\"109\" y=\"-18.3\" font-family=\"Times,serif\" font-size=\"14.00\" fill=\"#000000\">I</text>\n</g>\n<!-- EMPTY&#45;&gt;I -->\n<g id=\"edge1\" class=\"edge\">\n<title>EMPTY&#45;&gt;I</title>\n<path fill=\"none\" stroke=\"#000000\" d=\"M54.3048,-22C62.6909,-22 71.9407,-22 80.4103,-22\"/>\n<polygon fill=\"#000000\" stroke=\"#000000\" points=\"80.5976,-25.5001 90.5976,-22 80.5976,-18.5001 80.5976,-25.5001\"/>\n</g>\n<!-- I&#45;&gt;I -->\n<g id=\"edge3\" class=\"edge\">\n<title>I&#45;&gt;I</title>\n<path fill=\"none\" stroke=\"#000000\" d=\"M102.6208,-39.0373C101.3189,-48.8579 103.4453,-58 109,-58 112.4717,-58 114.6042,-54.4289 115.3975,-49.3529\"/>\n<polygon fill=\"#000000\" stroke=\"#000000\" points=\"118.8971,-49.031 115.3792,-39.0373 111.8971,-49.0435 118.8971,-49.031\"/>\n<text text-anchor=\"middle\" x=\"109\" y=\"-61.8\" font-family=\"Times,serif\" font-size=\"14.00\" fill=\"#000000\">1 </text>\n</g>\n<!-- S1 -->\n<g id=\"node3\" class=\"node\">\n<title>S1</title>\n<ellipse fill=\"none\" stroke=\"#000000\" cx=\"195.7982\" cy=\"-22\" rx=\"20.5982\" ry=\"20.5982\"/>\n<text text-anchor=\"middle\" x=\"195.7982\" y=\"-18.3\" font-family=\"Times,serif\" font-size=\"14.00\" fill=\"#000000\">S1</text>\n</g>\n<!-- I&#45;&gt;S1 -->\n<g id=\"edge2\" class=\"edge\">\n<title>I&#45;&gt;S1</title>\n<path fill=\"none\" stroke=\"#000000\" d=\"M127.4077,-22C138.2934,-22 152.3613,-22 164.9052,-22\"/>\n<polygon fill=\"#000000\" stroke=\"#000000\" points=\"164.9803,-25.5001 174.9802,-22 164.9802,-18.5001 164.9803,-25.5001\"/>\n<text text-anchor=\"middle\" x=\"151\" y=\"-25.8\" font-family=\"Times,serif\" font-size=\"14.00\" fill=\"#000000\">0 </text>\n</g>\n<!-- S1&#45;&gt;S1 -->\n<g id=\"edge5\" class=\"edge\">\n<title>S1&#45;&gt;S1</title>\n<path fill=\"none\" stroke=\"#000000\" d=\"M187.8382,-41.5637C186.6136,-51.6796 189.2669,-60.7982 195.7982,-60.7982 199.9822,-60.7982 202.5748,-57.0559 203.5759,-51.7065\"/>\n<polygon fill=\"#000000\" stroke=\"#000000\" points=\"207.0778,-51.6249 203.7581,-41.5637 200.079,-51.4991 207.0778,-51.6249\"/>\n<text text-anchor=\"middle\" x=\"195.7982\" y=\"-64.5982\" font-family=\"Times,serif\" font-size=\"14.00\" fill=\"#000000\">1 </text>\n</g>\n<!-- F -->\n<g id=\"node5\" class=\"node\">\n<title>F</title>\n<ellipse fill=\"none\" stroke=\"#000000\" cx=\"286.5963\" cy=\"-22\" rx=\"18\" ry=\"18\"/>\n<ellipse fill=\"none\" stroke=\"#000000\" cx=\"286.5963\" cy=\"-22\" rx=\"22\" ry=\"22\"/>\n<text text-anchor=\"middle\" x=\"286.5963\" y=\"-18.3\" font-family=\"Times,serif\" font-size=\"14.00\" fill=\"#000000\">F</text>\n</g>\n<!-- S1&#45;&gt;F -->\n<g id=\"edge4\" class=\"edge\">\n<title>S1&#45;&gt;F</title>\n<path fill=\"none\" stroke=\"#000000\" d=\"M216.8573,-22C227.9898,-22 241.8945,-22 254.3526,-22\"/>\n<polygon fill=\"#000000\" stroke=\"#000000\" points=\"254.3846,-25.5001 264.3846,-22 254.3845,-18.5001 254.3846,-25.5001\"/>\n<text text-anchor=\"middle\" x=\"240.5963\" y=\"-25.8\" font-family=\"Times,serif\" font-size=\"14.00\" fill=\"#000000\">0 </text>\n</g>\n<!-- S2 -->\n<g id=\"node4\" class=\"node\">\n<title>S2</title>\n<ellipse fill=\"none\" stroke=\"#000000\" cx=\"377.3945\" cy=\"-22\" rx=\"20.5982\" ry=\"20.5982\"/>\n<text text-anchor=\"middle\" x=\"377.3945\" y=\"-18.3\" font-family=\"Times,serif\" font-size=\"14.00\" fill=\"#000000\">S2</text>\n</g>\n<!-- S2&#45;&gt;S2 -->\n<g id=\"edge8\" class=\"edge\">\n<title>S2&#45;&gt;S2</title>\n<path fill=\"none\" stroke=\"#000000\" d=\"M369.4345,-41.5637C368.2099,-51.6796 370.8632,-60.7982 377.3945,-60.7982 381.5785,-60.7982 384.1711,-57.0559 385.1722,-51.7065\"/>\n<polygon fill=\"#000000\" stroke=\"#000000\" points=\"388.6741,-51.6249 385.3544,-41.5637 381.6753,-51.4991 388.6741,-51.6249\"/>\n<text text-anchor=\"middle\" x=\"377.3945\" y=\"-79.5982\" font-family=\"Times,serif\" font-size=\"14.00\" fill=\"#000000\">0 </text>\n<text text-anchor=\"middle\" x=\"377.3945\" y=\"-64.5982\" font-family=\"Times,serif\" font-size=\"14.00\" fill=\"#000000\"> 1 </text>\n</g>\n<!-- F&#45;&gt;S2 -->\n<g id=\"edge6\" class=\"edge\">\n<title>F&#45;&gt;S2</title>\n<path fill=\"none\" stroke=\"#000000\" d=\"M309.0408,-22C320.2512,-22 333.9957,-22 346.2125,-22\"/>\n<polygon fill=\"#000000\" stroke=\"#000000\" points=\"346.4531,-25.5001 356.4531,-22 346.4531,-18.5001 346.4531,-25.5001\"/>\n<text text-anchor=\"middle\" x=\"332.5963\" y=\"-25.8\" font-family=\"Times,serif\" font-size=\"14.00\" fill=\"#000000\">0 </text>\n</g>\n<!-- F&#45;&gt;F -->\n<g id=\"edge7\" class=\"edge\">\n<title>F&#45;&gt;F</title>\n<path fill=\"none\" stroke=\"#000000\" d=\"M278.2261,-42.5808C277.068,-52.8447 279.858,-62 286.5963,-62 290.913,-62 293.6094,-58.2427 294.6854,-52.8436\"/>\n<polygon fill=\"#000000\" stroke=\"#000000\" points=\"298.1913,-52.6729 294.9665,-42.5808 291.1939,-52.4812 298.1913,-52.6729\"/>\n<text text-anchor=\"middle\" x=\"286.5963\" y=\"-65.8\" font-family=\"Times,serif\" font-size=\"14.00\" fill=\"#000000\">1 </text>\n</g>\n</g>\n</svg>\n"
          },
          "metadata": {
            "tags": []
          },
          "execution_count": 3
        }
      ]
    },
    {
      "cell_type": "markdown",
      "metadata": {
        "id": "t9eVSHvR17vU"
      },
      "source": [
        "L(dfaD2) = { w | w has at least two 1's}"
      ]
    },
    {
      "cell_type": "code",
      "metadata": {
        "id": "Wyv_15Dc17vU"
      },
      "source": [
        "dfaD2 = md2mc('''\n",
        "  DFA\n",
        "  I : 0 -> I\n",
        "  I : 1 -> S1\n",
        "  S1: 0 -> S1\n",
        "  S1: 1 -> F\n",
        "  F : 0|1 -> F\n",
        "''')"
      ],
      "execution_count": 4,
      "outputs": []
    },
    {
      "cell_type": "code",
      "metadata": {
        "id": "ghwndo1m17vV",
        "colab": {
          "base_uri": "https://localhost:8080/",
          "height": 155
        },
        "outputId": "1f0a9f80-d7ab-44dd-ffe8-58965f98a96e"
      },
      "source": [
        "dotObj_dfa(dfaD2, FuseEdges=True)"
      ],
      "execution_count": 5,
      "outputs": [
        {
          "output_type": "execute_result",
          "data": {
            "text/plain": [
              "<graphviz.dot.Digraph at 0x7fe9a7859c50>"
            ],
            "image/svg+xml": "<?xml version=\"1.0\" encoding=\"UTF-8\" standalone=\"no\"?>\n<!DOCTYPE svg PUBLIC \"-//W3C//DTD SVG 1.1//EN\"\n \"http://www.w3.org/Graphics/SVG/1.1/DTD/svg11.dtd\">\n<!-- Generated by graphviz version 2.40.1 (20161225.0304)\n -->\n<!-- Title: %3 Pages: 1 -->\n<svg width=\"317pt\" height=\"100pt\"\n viewBox=\"0.00 0.00 316.60 100.00\" xmlns=\"http://www.w3.org/2000/svg\" xmlns:xlink=\"http://www.w3.org/1999/xlink\">\n<g id=\"graph0\" class=\"graph\" transform=\"scale(1 1) rotate(0) translate(4 96)\">\n<title>%3</title>\n<polygon fill=\"#ffffff\" stroke=\"transparent\" points=\"-4,4 -4,-96 312.5963,-96 312.5963,4 -4,4\"/>\n<!-- EMPTY -->\n<g id=\"node1\" class=\"node\">\n<title>EMPTY</title>\n</g>\n<!-- I -->\n<g id=\"node2\" class=\"node\">\n<title>I</title>\n<ellipse fill=\"none\" stroke=\"#000000\" cx=\"109\" cy=\"-22\" rx=\"18\" ry=\"18\"/>\n<text text-anchor=\"middle\" x=\"109\" y=\"-18.3\" font-family=\"Times,serif\" font-size=\"14.00\" fill=\"#000000\">I</text>\n</g>\n<!-- EMPTY&#45;&gt;I -->\n<g id=\"edge1\" class=\"edge\">\n<title>EMPTY&#45;&gt;I</title>\n<path fill=\"none\" stroke=\"#000000\" d=\"M54.3048,-22C62.6909,-22 71.9407,-22 80.4103,-22\"/>\n<polygon fill=\"#000000\" stroke=\"#000000\" points=\"80.5976,-25.5001 90.5976,-22 80.5976,-18.5001 80.5976,-25.5001\"/>\n</g>\n<!-- I&#45;&gt;I -->\n<g id=\"edge2\" class=\"edge\">\n<title>I&#45;&gt;I</title>\n<path fill=\"none\" stroke=\"#000000\" d=\"M102.6208,-39.0373C101.3189,-48.8579 103.4453,-58 109,-58 112.4717,-58 114.6042,-54.4289 115.3975,-49.3529\"/>\n<polygon fill=\"#000000\" stroke=\"#000000\" points=\"118.8971,-49.031 115.3792,-39.0373 111.8971,-49.0435 118.8971,-49.031\"/>\n<text text-anchor=\"middle\" x=\"109\" y=\"-61.8\" font-family=\"Times,serif\" font-size=\"14.00\" fill=\"#000000\">0 </text>\n</g>\n<!-- S1 -->\n<g id=\"node3\" class=\"node\">\n<title>S1</title>\n<ellipse fill=\"none\" stroke=\"#000000\" cx=\"195.7982\" cy=\"-22\" rx=\"20.5982\" ry=\"20.5982\"/>\n<text text-anchor=\"middle\" x=\"195.7982\" y=\"-18.3\" font-family=\"Times,serif\" font-size=\"14.00\" fill=\"#000000\">S1</text>\n</g>\n<!-- I&#45;&gt;S1 -->\n<g id=\"edge3\" class=\"edge\">\n<title>I&#45;&gt;S1</title>\n<path fill=\"none\" stroke=\"#000000\" d=\"M127.4077,-22C138.2934,-22 152.3613,-22 164.9052,-22\"/>\n<polygon fill=\"#000000\" stroke=\"#000000\" points=\"164.9803,-25.5001 174.9802,-22 164.9802,-18.5001 164.9803,-25.5001\"/>\n<text text-anchor=\"middle\" x=\"151\" y=\"-25.8\" font-family=\"Times,serif\" font-size=\"14.00\" fill=\"#000000\">1 </text>\n</g>\n<!-- S1&#45;&gt;S1 -->\n<g id=\"edge4\" class=\"edge\">\n<title>S1&#45;&gt;S1</title>\n<path fill=\"none\" stroke=\"#000000\" d=\"M187.8382,-41.5637C186.6136,-51.6796 189.2669,-60.7982 195.7982,-60.7982 199.9822,-60.7982 202.5748,-57.0559 203.5759,-51.7065\"/>\n<polygon fill=\"#000000\" stroke=\"#000000\" points=\"207.0778,-51.6249 203.7581,-41.5637 200.079,-51.4991 207.0778,-51.6249\"/>\n<text text-anchor=\"middle\" x=\"195.7982\" y=\"-64.5982\" font-family=\"Times,serif\" font-size=\"14.00\" fill=\"#000000\">0 </text>\n</g>\n<!-- F -->\n<g id=\"node4\" class=\"node\">\n<title>F</title>\n<ellipse fill=\"none\" stroke=\"#000000\" cx=\"286.5963\" cy=\"-22\" rx=\"18\" ry=\"18\"/>\n<ellipse fill=\"none\" stroke=\"#000000\" cx=\"286.5963\" cy=\"-22\" rx=\"22\" ry=\"22\"/>\n<text text-anchor=\"middle\" x=\"286.5963\" y=\"-18.3\" font-family=\"Times,serif\" font-size=\"14.00\" fill=\"#000000\">F</text>\n</g>\n<!-- S1&#45;&gt;F -->\n<g id=\"edge5\" class=\"edge\">\n<title>S1&#45;&gt;F</title>\n<path fill=\"none\" stroke=\"#000000\" d=\"M216.8573,-22C227.9898,-22 241.8945,-22 254.3526,-22\"/>\n<polygon fill=\"#000000\" stroke=\"#000000\" points=\"254.3846,-25.5001 264.3846,-22 254.3845,-18.5001 254.3846,-25.5001\"/>\n<text text-anchor=\"middle\" x=\"240.5963\" y=\"-25.8\" font-family=\"Times,serif\" font-size=\"14.00\" fill=\"#000000\">1 </text>\n</g>\n<!-- F&#45;&gt;F -->\n<g id=\"edge6\" class=\"edge\">\n<title>F&#45;&gt;F</title>\n<path fill=\"none\" stroke=\"#000000\" d=\"M278.2261,-42.5808C277.068,-52.8447 279.858,-62 286.5963,-62 290.913,-62 293.6094,-58.2427 294.6854,-52.8436\"/>\n<polygon fill=\"#000000\" stroke=\"#000000\" points=\"298.1913,-52.6729 294.9665,-42.5808 291.1939,-52.4812 298.1913,-52.6729\"/>\n<text text-anchor=\"middle\" x=\"286.5963\" y=\"-80.8\" font-family=\"Times,serif\" font-size=\"14.00\" fill=\"#000000\">0 </text>\n<text text-anchor=\"middle\" x=\"286.5963\" y=\"-65.8\" font-family=\"Times,serif\" font-size=\"14.00\" fill=\"#000000\"> 1 </text>\n</g>\n</g>\n</svg>\n"
          },
          "metadata": {
            "tags": []
          },
          "execution_count": 5
        }
      ]
    },
    {
      "cell_type": "code",
      "metadata": {
        "id": "g-McrViR17vV"
      },
      "source": [
        "dfaD3 = intersect_dfa(dfaD1, dfaD2)"
      ],
      "execution_count": 6,
      "outputs": []
    },
    {
      "cell_type": "code",
      "metadata": {
        "id": "UV_diCEG17vW",
        "colab": {
          "base_uri": "https://localhost:8080/"
        },
        "outputId": "16b53b24-4964-4977-fa34-319a1bb9aa3c"
      },
      "source": [
        "len(dfaD3[\"Q\"])"
      ],
      "execution_count": 7,
      "outputs": [
        {
          "output_type": "execute_result",
          "data": {
            "text/plain": [
              "12"
            ]
          },
          "metadata": {
            "tags": []
          },
          "execution_count": 7
        }
      ]
    },
    {
      "cell_type": "code",
      "metadata": {
        "id": "oZwk4QrK17vX",
        "colab": {
          "base_uri": "https://localhost:8080/",
          "height": 456
        },
        "outputId": "0e8c8d10-93b4-4351-c5e5-93747924c978"
      },
      "source": [
        "dotObj_dfa(dfaD3, FuseEdges=True)"
      ],
      "execution_count": 8,
      "outputs": [
        {
          "output_type": "execute_result",
          "data": {
            "text/plain": [
              "<graphviz.dot.Digraph at 0x7fe9a7859e10>"
            ],
            "image/svg+xml": "<?xml version=\"1.0\" encoding=\"UTF-8\" standalone=\"no\"?>\n<!DOCTYPE svg PUBLIC \"-//W3C//DTD SVG 1.1//EN\"\n \"http://www.w3.org/Graphics/SVG/1.1/DTD/svg11.dtd\">\n<!-- Generated by graphviz version 2.40.1 (20161225.0304)\n -->\n<!-- Title: %3 Pages: 1 -->\n<svg width=\"780pt\" height=\"326pt\"\n viewBox=\"0.00 0.00 779.66 326.49\" xmlns=\"http://www.w3.org/2000/svg\" xmlns:xlink=\"http://www.w3.org/1999/xlink\">\n<g id=\"graph0\" class=\"graph\" transform=\"scale(1 1) rotate(0) translate(4 322.4937)\">\n<title>%3</title>\n<polygon fill=\"#ffffff\" stroke=\"transparent\" points=\"-4,4 -4,-322.4937 775.6609,-322.4937 775.6609,4 -4,4\"/>\n<!-- EMPTY -->\n<g id=\"node1\" class=\"node\">\n<title>EMPTY</title>\n</g>\n<!-- \\(I_I\\) -->\n<g id=\"node11\" class=\"node\">\n<title>\\(I_I\\)</title>\n<ellipse fill=\"none\" stroke=\"#000000\" cx=\"118.2976\" cy=\"-135.0467\" rx=\"27.0966\" ry=\"27.0966\"/>\n<text text-anchor=\"middle\" x=\"118.2976\" y=\"-131.3467\" font-family=\"Times,serif\" font-size=\"14.00\" fill=\"#000000\">(I_I)</text>\n</g>\n<!-- EMPTY&#45;&gt;\\(I_I\\) -->\n<g id=\"edge1\" class=\"edge\">\n<title>EMPTY&#45;&gt;\\(I_I\\)</title>\n<path fill=\"none\" stroke=\"#000000\" d=\"M54.3923,-135.0467C62.6976,-135.0467 71.9683,-135.0467 80.8159,-135.0467\"/>\n<polygon fill=\"#000000\" stroke=\"#000000\" points=\"80.9247,-138.5468 90.9246,-135.0467 80.9246,-131.5468 80.9247,-138.5468\"/>\n</g>\n<!-- \\(F_I\\) -->\n<g id=\"node2\" class=\"node\">\n<title>\\(F_I\\)</title>\n<ellipse fill=\"none\" stroke=\"#000000\" cx=\"352.7353\" cy=\"-250.0467\" rx=\"29.795\" ry=\"29.795\"/>\n<text text-anchor=\"middle\" x=\"352.7353\" y=\"-246.3467\" font-family=\"Times,serif\" font-size=\"14.00\" fill=\"#000000\">(F_I)</text>\n</g>\n<!-- \\(S2_I\\) -->\n<g id=\"node3\" class=\"node\">\n<title>\\(S2_I\\)</title>\n<ellipse fill=\"none\" stroke=\"#000000\" cx=\"480.0283\" cy=\"-251.0467\" rx=\"34.394\" ry=\"34.394\"/>\n<text text-anchor=\"middle\" x=\"480.0283\" y=\"-247.3467\" font-family=\"Times,serif\" font-size=\"14.00\" fill=\"#000000\">(S2_I)</text>\n</g>\n<!-- \\(F_I\\)&#45;&gt;\\(S2_I\\) -->\n<g id=\"edge16\" class=\"edge\">\n<title>\\(F_I\\)&#45;&gt;\\(S2_I\\)</title>\n<path fill=\"none\" stroke=\"#000000\" d=\"M382.9019,-250.2837C398.4882,-250.4061 417.8192,-250.558 435.1215,-250.6939\"/>\n<polygon fill=\"#000000\" stroke=\"#000000\" points=\"435.5537,-254.1973 445.5809,-250.7761 435.6088,-247.1976 435.5537,-254.1973\"/>\n<text text-anchor=\"middle\" x=\"418.9815\" y=\"-253.8467\" font-family=\"Times,serif\" font-size=\"14.00\" fill=\"#000000\">0 </text>\n</g>\n<!-- \\(F_S1\\) -->\n<g id=\"node12\" class=\"node\">\n<title>\\(F_S1\\)</title>\n<ellipse fill=\"none\" stroke=\"#000000\" cx=\"480.0283\" cy=\"-162.0467\" rx=\"37.0935\" ry=\"37.0935\"/>\n<text text-anchor=\"middle\" x=\"480.0283\" y=\"-158.3467\" font-family=\"Times,serif\" font-size=\"14.00\" fill=\"#000000\">(F_S1)</text>\n</g>\n<!-- \\(F_I\\)&#45;&gt;\\(F_S1\\) -->\n<g id=\"edge5\" class=\"edge\">\n<title>\\(F_I\\)&#45;&gt;\\(F_S1\\)</title>\n<path fill=\"none\" stroke=\"#000000\" d=\"M377.5808,-232.8705C395.6408,-220.3854 420.4407,-203.2407 441.1165,-188.9471\"/>\n<polygon fill=\"#000000\" stroke=\"#000000\" points=\"443.1638,-191.7868 449.3992,-183.2211 439.1832,-186.0288 443.1638,-191.7868\"/>\n<text text-anchor=\"middle\" x=\"418.9815\" y=\"-209.8467\" font-family=\"Times,serif\" font-size=\"14.00\" fill=\"#000000\">1 </text>\n</g>\n<!-- \\(S2_I\\)&#45;&gt;\\(S2_I\\) -->\n<g id=\"edge17\" class=\"edge\">\n<title>\\(S2_I\\)&#45;&gt;\\(S2_I\\)</title>\n<path fill=\"none\" stroke=\"#000000\" d=\"M468.7783,-283.8261C468.7783,-294.7525 472.5283,-303.4937 480.0283,-303.4937 484.9501,-303.4937 488.257,-299.7292 489.9489,-294.053\"/>\n<polygon fill=\"#000000\" stroke=\"#000000\" points=\"493.46,-294.1938 491.2783,-283.8261 486.5184,-293.2914 493.46,-294.1938\"/>\n<text text-anchor=\"middle\" x=\"480.0283\" y=\"-307.2937\" font-family=\"Times,serif\" font-size=\"14.00\" fill=\"#000000\">0 </text>\n</g>\n<!-- \\(S2_S1\\) -->\n<g id=\"node10\" class=\"node\">\n<title>\\(S2_S1\\)</title>\n<ellipse fill=\"none\" stroke=\"#000000\" cx=\"607.3212\" cy=\"-217.0467\" rx=\"42.4939\" ry=\"42.4939\"/>\n<text text-anchor=\"middle\" x=\"607.3212\" y=\"-213.3467\" font-family=\"Times,serif\" font-size=\"14.00\" fill=\"#000000\">(S2_S1)</text>\n</g>\n<!-- \\(S2_I\\)&#45;&gt;\\(S2_S1\\) -->\n<g id=\"edge19\" class=\"edge\">\n<title>\\(S2_I\\)&#45;&gt;\\(S2_S1\\)</title>\n<path fill=\"none\" stroke=\"#000000\" d=\"M513.473,-242.1136C526.64,-238.5967 542.052,-234.4802 556.5365,-230.6113\"/>\n<polygon fill=\"#000000\" stroke=\"#000000\" points=\"557.6191,-233.945 566.3772,-227.9829 555.8126,-227.182 557.6191,-233.945\"/>\n<text text-anchor=\"middle\" x=\"541.075\" y=\"-239.8467\" font-family=\"Times,serif\" font-size=\"14.00\" fill=\"#000000\">1 </text>\n</g>\n<!-- \\(S2_F\\) -->\n<g id=\"node4\" class=\"node\">\n<title>\\(S2_F\\)</title>\n<ellipse fill=\"none\" stroke=\"#000000\" cx=\"734.6142\" cy=\"-152.0467\" rx=\"37.0935\" ry=\"37.0935\"/>\n<text text-anchor=\"middle\" x=\"734.6142\" y=\"-148.3467\" font-family=\"Times,serif\" font-size=\"14.00\" fill=\"#000000\">(S2_F)</text>\n</g>\n<!-- \\(S2_F\\)&#45;&gt;\\(S2_F\\) -->\n<g id=\"edge3\" class=\"edge\">\n<title>\\(S2_F\\)&#45;&gt;\\(S2_F\\)</title>\n<path fill=\"none\" stroke=\"#000000\" d=\"M723.3752,-187.5191C723.6022,-198.4834 727.3486,-207.0934 734.6142,-207.0934 739.3823,-207.0934 742.6347,-203.3854 744.3715,-197.7374\"/>\n<polygon fill=\"#000000\" stroke=\"#000000\" points=\"747.8818,-197.9179 745.8532,-187.5191 740.9543,-196.9133 747.8818,-197.9179\"/>\n<text text-anchor=\"middle\" x=\"734.6142\" y=\"-225.8934\" font-family=\"Times,serif\" font-size=\"14.00\" fill=\"#000000\">0 </text>\n<text text-anchor=\"middle\" x=\"734.6142\" y=\"-210.8934\" font-family=\"Times,serif\" font-size=\"14.00\" fill=\"#000000\"> 1 </text>\n</g>\n<!-- \\(S1_S1\\) -->\n<g id=\"node5\" class=\"node\">\n<title>\\(S1_S1\\)</title>\n<ellipse fill=\"none\" stroke=\"#000000\" cx=\"352.7353\" cy=\"-160.0467\" rx=\"42.4939\" ry=\"42.4939\"/>\n<text text-anchor=\"middle\" x=\"352.7353\" y=\"-156.3467\" font-family=\"Times,serif\" font-size=\"14.00\" fill=\"#000000\">(S1_S1)</text>\n</g>\n<!-- \\(S1_F\\) -->\n<g id=\"node9\" class=\"node\">\n<title>\\(S1_F\\)</title>\n<ellipse fill=\"none\" stroke=\"#000000\" cx=\"480.0283\" cy=\"-37.0467\" rx=\"37.0935\" ry=\"37.0935\"/>\n<text text-anchor=\"middle\" x=\"480.0283\" y=\"-33.3467\" font-family=\"Times,serif\" font-size=\"14.00\" fill=\"#000000\">(S1_F)</text>\n</g>\n<!-- \\(S1_S1\\)&#45;&gt;\\(S1_F\\) -->\n<g id=\"edge23\" class=\"edge\">\n<title>\\(S1_S1\\)&#45;&gt;\\(S1_F\\)</title>\n<path fill=\"none\" stroke=\"#000000\" d=\"M383.2251,-130.5851C402.1388,-112.3093 426.4724,-88.7964 446.0107,-69.917\"/>\n<polygon fill=\"#000000\" stroke=\"#000000\" points=\"448.4836,-72.3945 453.2428,-62.9288 443.6195,-67.3606 448.4836,-72.3945\"/>\n<text text-anchor=\"middle\" x=\"418.9815\" y=\"-102.8467\" font-family=\"Times,serif\" font-size=\"14.00\" fill=\"#000000\">1 </text>\n</g>\n<!-- \\(S1_S1\\)&#45;&gt;\\(F_S1\\) -->\n<g id=\"edge20\" class=\"edge\">\n<title>\\(S1_S1\\)&#45;&gt;\\(F_S1\\)</title>\n<path fill=\"none\" stroke=\"#000000\" d=\"M395.122,-160.7127C407.2136,-160.9027 420.4617,-161.1108 432.8219,-161.305\"/>\n<polygon fill=\"#000000\" stroke=\"#000000\" points=\"432.8968,-164.8065 442.9506,-161.4642 433.0069,-157.8074 432.8968,-164.8065\"/>\n<text text-anchor=\"middle\" x=\"418.9815\" y=\"-164.8467\" font-family=\"Times,serif\" font-size=\"14.00\" fill=\"#000000\">0 </text>\n</g>\n<!-- \\(S1_I\\) -->\n<g id=\"node6\" class=\"node\">\n<title>\\(S1_I\\)</title>\n<ellipse fill=\"none\" stroke=\"#000000\" cx=\"228.0421\" cy=\"-179.0467\" rx=\"34.394\" ry=\"34.394\"/>\n<text text-anchor=\"middle\" x=\"228.0421\" y=\"-175.3467\" font-family=\"Times,serif\" font-size=\"14.00\" fill=\"#000000\">(S1_I)</text>\n</g>\n<!-- \\(S1_I\\)&#45;&gt;\\(F_I\\) -->\n<g id=\"edge9\" class=\"edge\">\n<title>\\(S1_I\\)&#45;&gt;\\(F_I\\)</title>\n<path fill=\"none\" stroke=\"#000000\" d=\"M258.2268,-196.2338C276.1897,-206.4619 299.0575,-219.4827 317.7993,-230.1542\"/>\n<polygon fill=\"#000000\" stroke=\"#000000\" points=\"316.2069,-233.2751 326.6287,-235.1817 319.6705,-227.1921 316.2069,-233.2751\"/>\n<text text-anchor=\"middle\" x=\"286.489\" y=\"-217.8467\" font-family=\"Times,serif\" font-size=\"14.00\" fill=\"#000000\">0 </text>\n</g>\n<!-- \\(S1_I\\)&#45;&gt;\\(S1_S1\\) -->\n<g id=\"edge2\" class=\"edge\">\n<title>\\(S1_I\\)&#45;&gt;\\(S1_S1\\)</title>\n<path fill=\"none\" stroke=\"#000000\" d=\"M262.1151,-173.8549C273.9498,-172.0516 287.509,-169.9855 300.4709,-168.0104\"/>\n<polygon fill=\"#000000\" stroke=\"#000000\" points=\"301.3351,-171.4193 310.6937,-166.4528 300.2806,-164.4991 301.3351,-171.4193\"/>\n<text text-anchor=\"middle\" x=\"286.489\" y=\"-173.8467\" font-family=\"Times,serif\" font-size=\"14.00\" fill=\"#000000\">1 </text>\n</g>\n<!-- \\(I_S1\\) -->\n<g id=\"node7\" class=\"node\">\n<title>\\(I_S1\\)</title>\n<ellipse fill=\"none\" stroke=\"#000000\" cx=\"228.0421\" cy=\"-92.0467\" rx=\"34.394\" ry=\"34.394\"/>\n<text text-anchor=\"middle\" x=\"228.0421\" y=\"-88.3467\" font-family=\"Times,serif\" font-size=\"14.00\" fill=\"#000000\">(I_S1)</text>\n</g>\n<!-- \\(I_S1\\)&#45;&gt;\\(S1_S1\\) -->\n<g id=\"edge14\" class=\"edge\">\n<title>\\(I_S1\\)&#45;&gt;\\(S1_S1\\)</title>\n<path fill=\"none\" stroke=\"#000000\" d=\"M258.5455,-108.6814C272.89,-116.504 290.3087,-126.0031 306.2465,-134.6946\"/>\n<polygon fill=\"#000000\" stroke=\"#000000\" points=\"304.9697,-137.9849 315.4249,-139.6999 308.3212,-131.8393 304.9697,-137.9849\"/>\n<text text-anchor=\"middle\" x=\"286.489\" y=\"-129.8467\" font-family=\"Times,serif\" font-size=\"14.00\" fill=\"#000000\">0 </text>\n</g>\n<!-- \\(I_F\\) -->\n<g id=\"node8\" class=\"node\">\n<title>\\(I_F\\)</title>\n<ellipse fill=\"none\" stroke=\"#000000\" cx=\"352.7353\" cy=\"-37.0467\" rx=\"29.795\" ry=\"29.795\"/>\n<text text-anchor=\"middle\" x=\"352.7353\" y=\"-33.3467\" font-family=\"Times,serif\" font-size=\"14.00\" fill=\"#000000\">(I_F)</text>\n</g>\n<!-- \\(I_S1\\)&#45;&gt;\\(I_F\\) -->\n<g id=\"edge12\" class=\"edge\">\n<title>\\(I_S1\\)&#45;&gt;\\(I_F\\)</title>\n<path fill=\"none\" stroke=\"#000000\" d=\"M259.8301,-78.0256C276.8768,-70.5066 297.9727,-61.2015 315.7515,-53.3596\"/>\n<polygon fill=\"#000000\" stroke=\"#000000\" points=\"317.5036,-56.4122 325.2406,-49.1741 314.6786,-50.0076 317.5036,-56.4122\"/>\n<text text-anchor=\"middle\" x=\"286.489\" y=\"-71.8467\" font-family=\"Times,serif\" font-size=\"14.00\" fill=\"#000000\">1 </text>\n</g>\n<!-- \\(I_F\\)&#45;&gt;\\(I_F\\) -->\n<g id=\"edge10\" class=\"edge\">\n<title>\\(I_F\\)&#45;&gt;\\(I_F\\)</title>\n<path fill=\"none\" stroke=\"#000000\" d=\"M340.4358,-64.6101C339.7409,-75.6651 343.8408,-84.9441 352.7353,-84.9441 358.7113,-84.9441 362.5229,-80.7554 364.1701,-74.6537\"/>\n<polygon fill=\"#000000\" stroke=\"#000000\" points=\"367.664,-74.8735 365.0348,-64.6101 360.6898,-74.273 367.664,-74.8735\"/>\n<text text-anchor=\"middle\" x=\"352.7353\" y=\"-88.7441\" font-family=\"Times,serif\" font-size=\"14.00\" fill=\"#000000\">1 </text>\n</g>\n<!-- \\(I_F\\)&#45;&gt;\\(S1_F\\) -->\n<g id=\"edge18\" class=\"edge\">\n<title>\\(I_F\\)&#45;&gt;\\(S1_F\\)</title>\n<path fill=\"none\" stroke=\"#000000\" d=\"M382.9019,-37.0467C397.7576,-37.0467 416.0151,-37.0467 432.6756,-37.0467\"/>\n<polygon fill=\"#000000\" stroke=\"#000000\" points=\"432.7981,-40.5468 442.7981,-37.0467 432.798,-33.5468 432.7981,-40.5468\"/>\n<text text-anchor=\"middle\" x=\"418.9815\" y=\"-40.8467\" font-family=\"Times,serif\" font-size=\"14.00\" fill=\"#000000\">0 </text>\n</g>\n<!-- \\(S1_F\\)&#45;&gt;\\(S1_F\\) -->\n<g id=\"edge13\" class=\"edge\">\n<title>\\(S1_F\\)&#45;&gt;\\(S1_F\\)</title>\n<path fill=\"none\" stroke=\"#000000\" d=\"M468.7892,-72.5191C469.0163,-83.4834 472.7626,-92.0934 480.0283,-92.0934 484.7963,-92.0934 488.0488,-88.3854 489.7856,-82.7374\"/>\n<polygon fill=\"#000000\" stroke=\"#000000\" points=\"493.2959,-82.9179 491.2673,-72.5191 486.3684,-81.9133 493.2959,-82.9179\"/>\n<text text-anchor=\"middle\" x=\"480.0283\" y=\"-95.8934\" font-family=\"Times,serif\" font-size=\"14.00\" fill=\"#000000\">1 </text>\n</g>\n<!-- \\(F_F\\) -->\n<g id=\"node13\" class=\"node\">\n<title>\\(F_F\\)</title>\n<ellipse fill=\"none\" stroke=\"#000000\" cx=\"607.3212\" cy=\"-87.0467\" rx=\"32.4945\" ry=\"32.4945\"/>\n<ellipse fill=\"none\" stroke=\"#000000\" cx=\"607.3212\" cy=\"-87.0467\" rx=\"36.4942\" ry=\"36.4942\"/>\n<text text-anchor=\"middle\" x=\"607.3212\" y=\"-83.3467\" font-family=\"Times,serif\" font-size=\"14.00\" fill=\"#000000\">(F_F)</text>\n</g>\n<!-- \\(S1_F\\)&#45;&gt;\\(F_F\\) -->\n<g id=\"edge4\" class=\"edge\">\n<title>\\(S1_F\\)&#45;&gt;\\(F_F\\)</title>\n<path fill=\"none\" stroke=\"#000000\" d=\"M514.8116,-50.7094C529.8077,-56.5998 547.5159,-63.5555 563.4039,-69.7962\"/>\n<polygon fill=\"#000000\" stroke=\"#000000\" points=\"562.4333,-73.1752 573.0206,-73.5736 564.9926,-66.6598 562.4333,-73.1752\"/>\n<text text-anchor=\"middle\" x=\"541.075\" y=\"-65.8467\" font-family=\"Times,serif\" font-size=\"14.00\" fill=\"#000000\">0 </text>\n</g>\n<!-- \\(S2_S1\\)&#45;&gt;\\(S2_F\\) -->\n<g id=\"edge22\" class=\"edge\">\n<title>\\(S2_S1\\)&#45;&gt;\\(S2_F\\)</title>\n<path fill=\"none\" stroke=\"#000000\" d=\"M645.1687,-197.7206C659.977,-190.1589 677.0283,-181.452 692.2457,-173.6814\"/>\n<polygon fill=\"#000000\" stroke=\"#000000\" points=\"694.1329,-176.6477 701.4473,-168.9828 690.9495,-170.4135 694.1329,-176.6477\"/>\n<text text-anchor=\"middle\" x=\"673.5675\" y=\"-187.8467\" font-family=\"Times,serif\" font-size=\"14.00\" fill=\"#000000\">1 </text>\n</g>\n<!-- \\(S2_S1\\)&#45;&gt;\\(S2_S1\\) -->\n<g id=\"edge8\" class=\"edge\">\n<title>\\(S2_S1\\)&#45;&gt;\\(S2_S1\\)</title>\n<path fill=\"none\" stroke=\"#000000\" d=\"M595.0218,-257.5928C595.6159,-268.7595 599.7158,-277.293 607.3212,-277.293 612.4311,-277.293 615.9586,-273.4408 617.9035,-267.5261\"/>\n<polygon fill=\"#000000\" stroke=\"#000000\" points=\"621.366,-268.0429 619.6207,-257.5928 614.4683,-266.8504 621.366,-268.0429\"/>\n<text text-anchor=\"middle\" x=\"607.3212\" y=\"-281.093\" font-family=\"Times,serif\" font-size=\"14.00\" fill=\"#000000\">0 </text>\n</g>\n<!-- \\(I_I\\)&#45;&gt;\\(S1_I\\) -->\n<g id=\"edge11\" class=\"edge\">\n<title>\\(I_I\\)&#45;&gt;\\(S1_I\\)</title>\n<path fill=\"none\" stroke=\"#000000\" d=\"M143.751,-145.2518C156.407,-150.326 172.0274,-156.5887 186.369,-162.3387\"/>\n<polygon fill=\"#000000\" stroke=\"#000000\" points=\"185.4571,-165.7438 196.0413,-166.2166 188.062,-159.2466 185.4571,-165.7438\"/>\n<text text-anchor=\"middle\" x=\"169.5952\" y=\"-160.8467\" font-family=\"Times,serif\" font-size=\"14.00\" fill=\"#000000\">0 </text>\n</g>\n<!-- \\(I_I\\)&#45;&gt;\\(I_S1\\) -->\n<g id=\"edge7\" class=\"edge\">\n<title>\\(I_I\\)&#45;&gt;\\(I_S1\\)</title>\n<path fill=\"none\" stroke=\"#000000\" d=\"M143.751,-125.0736C156.3041,-120.155 171.7736,-114.0938 186.019,-108.5122\"/>\n<polygon fill=\"#000000\" stroke=\"#000000\" points=\"187.6007,-111.6516 195.6347,-104.7446 185.047,-105.134 187.6007,-111.6516\"/>\n<text text-anchor=\"middle\" x=\"169.5952\" y=\"-120.8467\" font-family=\"Times,serif\" font-size=\"14.00\" fill=\"#000000\">1 </text>\n</g>\n<!-- \\(F_S1\\)&#45;&gt;\\(S2_S1\\) -->\n<g id=\"edge15\" class=\"edge\">\n<title>\\(F_S1\\)&#45;&gt;\\(S2_S1\\)</title>\n<path fill=\"none\" stroke=\"#000000\" d=\"M514.1404,-176.7857C527.7933,-182.6848 543.776,-189.5905 558.6112,-196.0004\"/>\n<polygon fill=\"#000000\" stroke=\"#000000\" points=\"557.5903,-199.3719 568.1583,-200.1254 560.3668,-192.9461 557.5903,-199.3719\"/>\n<text text-anchor=\"middle\" x=\"541.075\" y=\"-192.8467\" font-family=\"Times,serif\" font-size=\"14.00\" fill=\"#000000\">0 </text>\n</g>\n<!-- \\(F_S1\\)&#45;&gt;\\(F_F\\) -->\n<g id=\"edge24\" class=\"edge\">\n<title>\\(F_S1\\)&#45;&gt;\\(F_F\\)</title>\n<path fill=\"none\" stroke=\"#000000\" d=\"M512.1496,-143.121C528.7074,-133.3654 549.0734,-121.3659 566.711,-110.9739\"/>\n<polygon fill=\"#000000\" stroke=\"#000000\" points=\"568.812,-113.7984 575.6511,-105.7065 565.2586,-107.7674 568.812,-113.7984\"/>\n<text text-anchor=\"middle\" x=\"541.075\" y=\"-132.8467\" font-family=\"Times,serif\" font-size=\"14.00\" fill=\"#000000\">1 </text>\n</g>\n<!-- \\(F_F\\)&#45;&gt;\\(S2_F\\) -->\n<g id=\"edge6\" class=\"edge\">\n<title>\\(F_F\\)&#45;&gt;\\(S2_F\\)</title>\n<path fill=\"none\" stroke=\"#000000\" d=\"M640.1023,-103.7858C656.0138,-111.9107 675.321,-121.7697 692.3269,-130.4534\"/>\n<polygon fill=\"#000000\" stroke=\"#000000\" points=\"691.0039,-133.7078 701.5018,-135.1384 694.1874,-127.4735 691.0039,-133.7078\"/>\n<text text-anchor=\"middle\" x=\"673.5675\" y=\"-127.8467\" font-family=\"Times,serif\" font-size=\"14.00\" fill=\"#000000\">0 </text>\n</g>\n<!-- \\(F_F\\)&#45;&gt;\\(F_F\\) -->\n<g id=\"edge21\" class=\"edge\">\n<title>\\(F_F\\)&#45;&gt;\\(F_F\\)</title>\n<path fill=\"none\" stroke=\"#000000\" d=\"M594.9492,-121.6379C595.0761,-132.7426 599.2001,-141.5438 607.3212,-141.5438 612.7776,-141.5438 616.4296,-137.5708 618.2772,-131.5955\"/>\n<polygon fill=\"#000000\" stroke=\"#000000\" points=\"621.7504,-132.0311 619.6932,-121.6379 614.8201,-131.0456 621.7504,-132.0311\"/>\n<text text-anchor=\"middle\" x=\"607.3212\" y=\"-145.3438\" font-family=\"Times,serif\" font-size=\"14.00\" fill=\"#000000\">1 </text>\n</g>\n</g>\n</svg>\n"
          },
          "metadata": {
            "tags": []
          },
          "execution_count": 8
        }
      ]
    },
    {
      "cell_type": "code",
      "metadata": {
        "id": "J4qg6SJA17vY"
      },
      "source": [
        "nfahas0101 = md2mc('''\n",
        "  NFA\n",
        "  I : 0|1 -> I\n",
        "  I : \"\" -> A\n",
        "  A : 0 -> B\n",
        "  B : 1 -> C\n",
        "  C : 0 -> D\n",
        "  D : 1 -> E\n",
        "  E : 0|1 -> E\n",
        "  E : \"\" -> F\n",
        "  ''')"
      ],
      "execution_count": 9,
      "outputs": []
    },
    {
      "cell_type": "code",
      "metadata": {
        "id": "vyEMFDCb17vZ",
        "colab": {
          "base_uri": "https://localhost:8080/",
          "height": 149
        },
        "outputId": "3efbd090-7195-42b3-c692-0ef2a1df83f6"
      },
      "source": [
        "dotObj_nfa(nfahas0101, FuseEdges=True)"
      ],
      "execution_count": 10,
      "outputs": [
        {
          "output_type": "execute_result",
          "data": {
            "text/plain": [
              "<graphviz.dot.Digraph at 0x7fe9a7c56cc0>"
            ],
            "image/svg+xml": "<?xml version=\"1.0\" encoding=\"UTF-8\" standalone=\"no\"?>\n<!DOCTYPE svg PUBLIC \"-//W3C//DTD SVG 1.1//EN\"\n \"http://www.w3.org/Graphics/SVG/1.1/DTD/svg11.dtd\">\n<!-- Generated by graphviz version 2.40.1 (20161225.0304)\n -->\n<!-- Title: %3 Pages: 1 -->\n<svg width=\"641pt\" height=\"96pt\"\n viewBox=\"0.00 0.00 641.00 96.00\" xmlns=\"http://www.w3.org/2000/svg\" xmlns:xlink=\"http://www.w3.org/1999/xlink\">\n<g id=\"graph0\" class=\"graph\" transform=\"scale(1 1) rotate(0) translate(4 92)\">\n<title>%3</title>\n<polygon fill=\"#ffffff\" stroke=\"transparent\" points=\"-4,4 -4,-92 637,-92 637,4 -4,4\"/>\n<!-- EMPTY -->\n<g id=\"node1\" class=\"node\">\n<title>EMPTY</title>\n</g>\n<!-- I -->\n<g id=\"node5\" class=\"node\">\n<title>I</title>\n<ellipse fill=\"none\" stroke=\"#000000\" cx=\"109\" cy=\"-22\" rx=\"18\" ry=\"18\"/>\n<text text-anchor=\"middle\" x=\"109\" y=\"-18.3\" font-family=\"Times,serif\" font-size=\"14.00\" fill=\"#000000\">I</text>\n</g>\n<!-- EMPTY&#45;&gt;I -->\n<g id=\"edge1\" class=\"edge\">\n<title>EMPTY&#45;&gt;I</title>\n<path fill=\"none\" stroke=\"#000000\" d=\"M54.3048,-22C62.6909,-22 71.9407,-22 80.4103,-22\"/>\n<polygon fill=\"#000000\" stroke=\"#000000\" points=\"80.5976,-25.5001 90.5976,-22 80.5976,-18.5001 80.5976,-25.5001\"/>\n</g>\n<!-- E -->\n<g id=\"node2\" class=\"node\">\n<title>E</title>\n<ellipse fill=\"none\" stroke=\"#000000\" cx=\"526\" cy=\"-22\" rx=\"18\" ry=\"18\"/>\n<text text-anchor=\"middle\" x=\"526\" y=\"-18.3\" font-family=\"Times,serif\" font-size=\"14.00\" fill=\"#000000\">E</text>\n</g>\n<!-- E&#45;&gt;E -->\n<g id=\"edge8\" class=\"edge\">\n<title>E&#45;&gt;E</title>\n<path fill=\"none\" stroke=\"#000000\" d=\"M518.9688,-38.6641C517.4063,-48.625 519.75,-58 526,-58 530.0039,-58 532.4047,-54.1525 533.2023,-48.7682\"/>\n<polygon fill=\"#000000\" stroke=\"#000000\" points=\"536.7001,-48.6033 533.0313,-38.6641 529.7011,-48.7219 536.7001,-48.6033\"/>\n<text text-anchor=\"middle\" x=\"526\" y=\"-76.8\" font-family=\"Times,serif\" font-size=\"14.00\" fill=\"#000000\">0 </text>\n<text text-anchor=\"middle\" x=\"526\" y=\"-61.8\" font-family=\"Times,serif\" font-size=\"14.00\" fill=\"#000000\"> 1 </text>\n</g>\n<!-- F -->\n<g id=\"node8\" class=\"node\">\n<title>F</title>\n<ellipse fill=\"none\" stroke=\"#000000\" cx=\"611\" cy=\"-22\" rx=\"18\" ry=\"18\"/>\n<ellipse fill=\"none\" stroke=\"#000000\" cx=\"611\" cy=\"-22\" rx=\"22\" ry=\"22\"/>\n<text text-anchor=\"middle\" x=\"611\" y=\"-18.3\" font-family=\"Times,serif\" font-size=\"14.00\" fill=\"#000000\">F</text>\n</g>\n<!-- E&#45;&gt;F -->\n<g id=\"edge9\" class=\"edge\">\n<title>E&#45;&gt;F</title>\n<path fill=\"none\" stroke=\"#000000\" d=\"M544.0263,-22C554.0256,-22 566.7667,-22 578.4461,-22\"/>\n<polygon fill=\"#000000\" stroke=\"#000000\" points=\"578.7644,-25.5001 588.7644,-22 578.7644,-18.5001 578.7644,-25.5001\"/>\n<text text-anchor=\"middle\" x=\"566.5\" y=\"-25.8\" font-family=\"Times,serif\" font-size=\"14.00\" fill=\"#000000\">&#39;&#39; </text>\n</g>\n<!-- C -->\n<g id=\"node3\" class=\"node\">\n<title>C</title>\n<ellipse fill=\"none\" stroke=\"#000000\" cx=\"358\" cy=\"-22\" rx=\"18\" ry=\"18\"/>\n<text text-anchor=\"middle\" x=\"358\" y=\"-18.3\" font-family=\"Times,serif\" font-size=\"14.00\" fill=\"#000000\">C</text>\n</g>\n<!-- D -->\n<g id=\"node7\" class=\"node\">\n<title>D</title>\n<ellipse fill=\"none\" stroke=\"#000000\" cx=\"442\" cy=\"-22\" rx=\"18\" ry=\"18\"/>\n<text text-anchor=\"middle\" x=\"442\" y=\"-18.3\" font-family=\"Times,serif\" font-size=\"14.00\" fill=\"#000000\">D</text>\n</g>\n<!-- C&#45;&gt;D -->\n<g id=\"edge6\" class=\"edge\">\n<title>C&#45;&gt;D</title>\n<path fill=\"none\" stroke=\"#000000\" d=\"M376.2267,-22C387.1242,-22 401.2054,-22 413.5413,-22\"/>\n<polygon fill=\"#000000\" stroke=\"#000000\" points=\"413.8089,-25.5001 423.8088,-22 413.8088,-18.5001 413.8089,-25.5001\"/>\n<text text-anchor=\"middle\" x=\"400\" y=\"-25.8\" font-family=\"Times,serif\" font-size=\"14.00\" fill=\"#000000\">0 </text>\n</g>\n<!-- A -->\n<g id=\"node4\" class=\"node\">\n<title>A</title>\n<ellipse fill=\"none\" stroke=\"#000000\" cx=\"190\" cy=\"-22\" rx=\"18\" ry=\"18\"/>\n<text text-anchor=\"middle\" x=\"190\" y=\"-18.3\" font-family=\"Times,serif\" font-size=\"14.00\" fill=\"#000000\">A</text>\n</g>\n<!-- B -->\n<g id=\"node6\" class=\"node\">\n<title>B</title>\n<ellipse fill=\"none\" stroke=\"#000000\" cx=\"274\" cy=\"-22\" rx=\"18\" ry=\"18\"/>\n<text text-anchor=\"middle\" x=\"274\" y=\"-18.3\" font-family=\"Times,serif\" font-size=\"14.00\" fill=\"#000000\">B</text>\n</g>\n<!-- A&#45;&gt;B -->\n<g id=\"edge4\" class=\"edge\">\n<title>A&#45;&gt;B</title>\n<path fill=\"none\" stroke=\"#000000\" d=\"M208.2267,-22C219.1242,-22 233.2054,-22 245.5413,-22\"/>\n<polygon fill=\"#000000\" stroke=\"#000000\" points=\"245.8089,-25.5001 255.8088,-22 245.8088,-18.5001 245.8089,-25.5001\"/>\n<text text-anchor=\"middle\" x=\"232\" y=\"-25.8\" font-family=\"Times,serif\" font-size=\"14.00\" fill=\"#000000\">0 </text>\n</g>\n<!-- I&#45;&gt;A -->\n<g id=\"edge3\" class=\"edge\">\n<title>I&#45;&gt;A</title>\n<path fill=\"none\" stroke=\"#000000\" d=\"M127.3802,-22C137.4966,-22 150.2691,-22 161.6363,-22\"/>\n<polygon fill=\"#000000\" stroke=\"#000000\" points=\"161.9716,-25.5001 171.9716,-22 161.9716,-18.5001 161.9716,-25.5001\"/>\n<text text-anchor=\"middle\" x=\"149.5\" y=\"-25.8\" font-family=\"Times,serif\" font-size=\"14.00\" fill=\"#000000\">&#39;&#39; </text>\n</g>\n<!-- I&#45;&gt;I -->\n<g id=\"edge2\" class=\"edge\">\n<title>I&#45;&gt;I</title>\n<path fill=\"none\" stroke=\"#000000\" d=\"M102.6208,-39.0373C101.3189,-48.8579 103.4453,-58 109,-58 112.4717,-58 114.6042,-54.4289 115.3975,-49.3529\"/>\n<polygon fill=\"#000000\" stroke=\"#000000\" points=\"118.8971,-49.031 115.3792,-39.0373 111.8971,-49.0435 118.8971,-49.031\"/>\n<text text-anchor=\"middle\" x=\"109\" y=\"-76.8\" font-family=\"Times,serif\" font-size=\"14.00\" fill=\"#000000\">0 </text>\n<text text-anchor=\"middle\" x=\"109\" y=\"-61.8\" font-family=\"Times,serif\" font-size=\"14.00\" fill=\"#000000\"> 1 </text>\n</g>\n<!-- B&#45;&gt;C -->\n<g id=\"edge5\" class=\"edge\">\n<title>B&#45;&gt;C</title>\n<path fill=\"none\" stroke=\"#000000\" d=\"M292.2267,-22C303.1242,-22 317.2054,-22 329.5413,-22\"/>\n<polygon fill=\"#000000\" stroke=\"#000000\" points=\"329.8089,-25.5001 339.8088,-22 329.8088,-18.5001 329.8089,-25.5001\"/>\n<text text-anchor=\"middle\" x=\"316\" y=\"-25.8\" font-family=\"Times,serif\" font-size=\"14.00\" fill=\"#000000\">1 </text>\n</g>\n<!-- D&#45;&gt;E -->\n<g id=\"edge7\" class=\"edge\">\n<title>D&#45;&gt;E</title>\n<path fill=\"none\" stroke=\"#000000\" d=\"M460.2267,-22C471.1242,-22 485.2054,-22 497.5413,-22\"/>\n<polygon fill=\"#000000\" stroke=\"#000000\" points=\"497.8089,-25.5001 507.8088,-22 497.8088,-18.5001 497.8089,-25.5001\"/>\n<text text-anchor=\"middle\" x=\"484\" y=\"-25.8\" font-family=\"Times,serif\" font-size=\"14.00\" fill=\"#000000\">1 </text>\n</g>\n</g>\n</svg>\n"
          },
          "metadata": {
            "tags": []
          },
          "execution_count": 10
        }
      ]
    },
    {
      "cell_type": "code",
      "metadata": {
        "id": "rOdL0JR317vZ"
      },
      "source": [
        "dfahas0101 = nfa2dfa(nfahas0101, STATENAME_MAXSIZE=50)"
      ],
      "execution_count": 11,
      "outputs": []
    },
    {
      "cell_type": "code",
      "metadata": {
        "id": "uAQw1fJ-17va",
        "colab": {
          "base_uri": "https://localhost:8080/",
          "height": 299
        },
        "outputId": "c9ddf9a8-2274-496a-832c-fbd95d93f097"
      },
      "source": [
        "dotObj_dfa(min_dfa(dfahas0101), STATENAME_MAXSIZE=50)"
      ],
      "execution_count": 12,
      "outputs": [
        {
          "output_type": "execute_result",
          "data": {
            "text/plain": [
              "<graphviz.dot.Digraph at 0x7fe9a7c56c88>"
            ],
            "image/svg+xml": "<?xml version=\"1.0\" encoding=\"UTF-8\" standalone=\"no\"?>\n<!DOCTYPE svg PUBLIC \"-//W3C//DTD SVG 1.1//EN\"\n \"http://www.w3.org/Graphics/SVG/1.1/DTD/svg11.dtd\">\n<!-- Generated by graphviz version 2.40.1 (20161225.0304)\n -->\n<!-- Title: %3 Pages: 1 -->\n<svg width=\"707pt\" height=\"208pt\"\n viewBox=\"0.00 0.00 707.16 208.24\" xmlns=\"http://www.w3.org/2000/svg\" xmlns:xlink=\"http://www.w3.org/1999/xlink\">\n<g id=\"graph0\" class=\"graph\" transform=\"scale(1 1) rotate(0) translate(4 204.2416)\">\n<title>%3</title>\n<polygon fill=\"#ffffff\" stroke=\"transparent\" points=\"-4,4 -4,-204.2416 703.1638,-204.2416 703.1638,4 -4,4\"/>\n<!-- EMPTY -->\n<g id=\"node1\" class=\"node\">\n<title>EMPTY</title>\n</g>\n<!-- A_I -->\n<g id=\"node4\" class=\"node\">\n<title>A_I</title>\n<ellipse fill=\"none\" stroke=\"#000000\" cx=\"116.3478\" cy=\"-52.3968\" rx=\"25.1964\" ry=\"25.1964\"/>\n<text text-anchor=\"middle\" x=\"116.3478\" y=\"-48.6968\" font-family=\"Times,serif\" font-size=\"14.00\" fill=\"#000000\">A_I</text>\n</g>\n<!-- EMPTY&#45;&gt;A_I -->\n<g id=\"edge1\" class=\"edge\">\n<title>EMPTY&#45;&gt;A_I</title>\n<path fill=\"none\" stroke=\"#000000\" d=\"M54.2928,-52.3968C62.629,-52.3968 71.9218,-52.3968 80.7251,-52.3968\"/>\n<polygon fill=\"#000000\" stroke=\"#000000\" points=\"80.748,-55.8969 90.748,-52.3968 80.748,-48.8969 80.748,-55.8969\"/>\n</g>\n<!-- A_B_I -->\n<g id=\"node2\" class=\"node\">\n<title>A_B_I</title>\n<ellipse fill=\"none\" stroke=\"#000000\" cx=\"226.0923\" cy=\"-105.3968\" rx=\"36.2938\" ry=\"36.2938\"/>\n<text text-anchor=\"middle\" x=\"226.0923\" y=\"-101.6968\" font-family=\"Times,serif\" font-size=\"14.00\" fill=\"#000000\">A_B_I</text>\n</g>\n<!-- A_B_I&#45;&gt;A_B_I -->\n<g id=\"edge4\" class=\"edge\">\n<title>A_B_I&#45;&gt;A_B_I</title>\n<path fill=\"none\" stroke=\"#000000\" d=\"M214.8485,-140.1878C215.0201,-151.1474 218.7681,-159.7935 226.0923,-159.7935 230.8988,-159.7935 234.1651,-156.07 235.8913,-150.4125\"/>\n<polygon fill=\"#000000\" stroke=\"#000000\" points=\"239.4025,-150.5791 237.3361,-140.1878 232.4713,-149.5997 239.4025,-150.5791\"/>\n<text text-anchor=\"middle\" x=\"226.0923\" y=\"-163.5935\" font-family=\"Times,serif\" font-size=\"14.00\" fill=\"#000000\">0 </text>\n</g>\n<!-- A_C_I -->\n<g id=\"node5\" class=\"node\">\n<title>A_C_I</title>\n<ellipse fill=\"none\" stroke=\"#000000\" cx=\"346.8858\" cy=\"-36.3968\" rx=\"36.2938\" ry=\"36.2938\"/>\n<text text-anchor=\"middle\" x=\"346.8858\" y=\"-32.6968\" font-family=\"Times,serif\" font-size=\"14.00\" fill=\"#000000\">A_C_I</text>\n</g>\n<!-- A_B_I&#45;&gt;A_C_I -->\n<g id=\"edge5\" class=\"edge\">\n<title>A_B_I&#45;&gt;A_C_I</title>\n<path fill=\"none\" stroke=\"#000000\" d=\"M257.8294,-87.2678C272.5543,-78.8566 290.2381,-68.7552 305.9532,-59.7784\"/>\n<polygon fill=\"#000000\" stroke=\"#000000\" points=\"307.9941,-62.6434 314.9413,-54.6442 304.5221,-56.5652 307.9941,-62.6434\"/>\n<text text-anchor=\"middle\" x=\"286.489\" y=\"-76.1968\" font-family=\"Times,serif\" font-size=\"14.00\" fill=\"#000000\">1 </text>\n</g>\n<!-- A_B_D_I -->\n<g id=\"node3\" class=\"node\">\n<title>A_B_D_I</title>\n<ellipse fill=\"none\" stroke=\"#000000\" cx=\"479.3783\" cy=\"-72.3968\" rx=\"48.1917\" ry=\"48.1917\"/>\n<text text-anchor=\"middle\" x=\"479.3783\" y=\"-68.6968\" font-family=\"Times,serif\" font-size=\"14.00\" fill=\"#000000\">A_B_D_I</text>\n</g>\n<!-- A_B_D_I&#45;&gt;A_B_I -->\n<g id=\"edge8\" class=\"edge\">\n<title>A_B_D_I&#45;&gt;A_B_I</title>\n<path fill=\"none\" stroke=\"#000000\" d=\"M431.4743,-78.6381C385.8441,-84.5831 317.6062,-93.4736 272.484,-99.3525\"/>\n<polygon fill=\"#000000\" stroke=\"#000000\" points=\"271.846,-95.906 262.382,-100.6687 272.7504,-102.8473 271.846,-95.906\"/>\n<text text-anchor=\"middle\" x=\"346.8858\" y=\"-97.1968\" font-family=\"Times,serif\" font-size=\"14.00\" fill=\"#000000\">0 </text>\n</g>\n<!-- A_B_E_F_I -->\n<g id=\"node6\" class=\"node\">\n<title>A_B_E_F_I</title>\n<ellipse fill=\"none\" stroke=\"#000000\" cx=\"637.3189\" cy=\"-72.3968\" rx=\"57.7001\" ry=\"57.7001\"/>\n<ellipse fill=\"none\" stroke=\"#000000\" cx=\"637.3189\" cy=\"-72.3968\" rx=\"61.6901\" ry=\"61.6901\"/>\n<text text-anchor=\"middle\" x=\"637.3189\" y=\"-68.6968\" font-family=\"Times,serif\" font-size=\"14.00\" fill=\"#000000\">A_B_E_F_I</text>\n</g>\n<!-- A_B_D_I&#45;&gt;A_B_E_F_I -->\n<g id=\"edge9\" class=\"edge\">\n<title>A_B_D_I&#45;&gt;A_B_E_F_I</title>\n<path fill=\"none\" stroke=\"#000000\" d=\"M527.6239,-72.3968C539.5065,-72.3968 552.4886,-72.3968 565.23,-72.3968\"/>\n<polygon fill=\"#000000\" stroke=\"#000000\" points=\"565.3712,-75.8969 575.3712,-72.3968 565.3711,-68.8969 565.3712,-75.8969\"/>\n<text text-anchor=\"middle\" x=\"551.474\" y=\"-76.1968\" font-family=\"Times,serif\" font-size=\"14.00\" fill=\"#000000\">1 </text>\n</g>\n<!-- A_I&#45;&gt;A_B_I -->\n<g id=\"edge2\" class=\"edge\">\n<title>A_I&#45;&gt;A_B_I</title>\n<path fill=\"none\" stroke=\"#000000\" d=\"M139.3538,-63.5073C152.2622,-69.7413 168.7711,-77.7141 183.915,-85.0277\"/>\n<polygon fill=\"#000000\" stroke=\"#000000\" points=\"182.5965,-88.2777 193.1235,-89.4748 185.6407,-81.9742 182.5965,-88.2777\"/>\n<text text-anchor=\"middle\" x=\"165.6955\" y=\"-82.1968\" font-family=\"Times,serif\" font-size=\"14.00\" fill=\"#000000\">0 </text>\n</g>\n<!-- A_I&#45;&gt;A_I -->\n<g id=\"edge3\" class=\"edge\">\n<title>A_I&#45;&gt;A_I</title>\n<path fill=\"none\" stroke=\"#000000\" d=\"M108.542,-76.906C108.0036,-87.1018 110.6056,-95.7445 116.3478,-95.7445 120.0263,-95.7445 122.4162,-92.1975 123.5172,-86.9676\"/>\n<polygon fill=\"#000000\" stroke=\"#000000\" points=\"127.0153,-87.107 124.1535,-76.906 120.0293,-86.6652 127.0153,-87.107\"/>\n<text text-anchor=\"middle\" x=\"116.3478\" y=\"-99.5445\" font-family=\"Times,serif\" font-size=\"14.00\" fill=\"#000000\">1 </text>\n</g>\n<!-- A_C_I&#45;&gt;A_B_D_I -->\n<g id=\"edge6\" class=\"edge\">\n<title>A_C_I&#45;&gt;A_B_D_I</title>\n<path fill=\"none\" stroke=\"#000000\" d=\"M382.0435,-45.9496C394.5049,-49.3355 408.8643,-53.2372 422.6606,-56.9858\"/>\n<polygon fill=\"#000000\" stroke=\"#000000\" points=\"422.0039,-60.4342 432.5718,-59.6788 423.8394,-53.6791 422.0039,-60.4342\"/>\n<text text-anchor=\"middle\" x=\"407.2826\" y=\"-58.1968\" font-family=\"Times,serif\" font-size=\"14.00\" fill=\"#000000\">0 </text>\n</g>\n<!-- A_C_I&#45;&gt;A_I -->\n<g id=\"edge7\" class=\"edge\">\n<title>A_C_I&#45;&gt;A_I</title>\n<path fill=\"none\" stroke=\"#000000\" d=\"M310.3333,-38.0961C278.4583,-39.672 230.9875,-42.2455 189.6955,-45.3968 177.3642,-46.3379 163.8858,-47.5665 151.8854,-48.7313\"/>\n<polygon fill=\"#000000\" stroke=\"#000000\" points=\"151.3932,-45.2628 141.786,-49.7296 152.0819,-52.2288 151.3932,-45.2628\"/>\n<text text-anchor=\"middle\" x=\"226.0923\" y=\"-49.1968\" font-family=\"Times,serif\" font-size=\"14.00\" fill=\"#000000\">1 </text>\n</g>\n<!-- A_B_E_F_I&#45;&gt;A_B_E_F_I -->\n<g id=\"edge10\" class=\"edge\">\n<title>A_B_E_F_I&#45;&gt;A_B_E_F_I</title>\n<path fill=\"none\" stroke=\"#000000\" d=\"M629.9361,-133.9958C630.9205,-144.7562 633.3814,-152.2416 637.3189,-152.2416 639.8414,-152.2416 641.7579,-149.1696 643.0684,-144.1325\"/>\n<polygon fill=\"#000000\" stroke=\"#000000\" points=\"646.5662,-144.4253 644.7017,-133.9958 639.6554,-143.3117 646.5662,-144.4253\"/>\n<text text-anchor=\"middle\" x=\"637.3189\" y=\"-156.0416\" font-family=\"Times,serif\" font-size=\"14.00\" fill=\"#000000\">0 </text>\n</g>\n<!-- A_B_E_F_I&#45;&gt;A_B_E_F_I -->\n<g id=\"edge11\" class=\"edge\">\n<title>A_B_E_F_I&#45;&gt;A_B_E_F_I</title>\n<path fill=\"none\" stroke=\"#000000\" d=\"M621.5728,-132.5914C621.4061,-153.4206 626.6549,-170.2416 637.3189,-170.2416 646.1501,-170.2416 651.2675,-158.7059 652.6711,-142.9112\"/>\n<polygon fill=\"#000000\" stroke=\"#000000\" points=\"656.1809,-142.7176 653.0651,-132.5914 649.186,-142.4505 656.1809,-142.7176\"/>\n<text text-anchor=\"middle\" x=\"637.3189\" y=\"-174.0416\" font-family=\"Times,serif\" font-size=\"14.00\" fill=\"#000000\">1 </text>\n</g>\n</g>\n</svg>\n"
          },
          "metadata": {
            "tags": []
          },
          "execution_count": 12
        }
      ]
    },
    {
      "cell_type": "code",
      "metadata": {
        "id": "32nLJWMv17va"
      },
      "source": [
        "nfa1 = md2mc('''\n",
        "        NFA\n",
        "            I : a -> F1\n",
        "            I : b -> F2\n",
        "            I : a -> S\n",
        "''')"
      ],
      "execution_count": 13,
      "outputs": []
    },
    {
      "cell_type": "code",
      "metadata": {
        "id": "yYYA6jef17vb"
      },
      "source": [
        "nfa2 = md2mc('''\n",
        "        NFA\n",
        "            I : b -> F1\n",
        "            I : c -> F2\n",
        "''')"
      ],
      "execution_count": 14,
      "outputs": []
    },
    {
      "cell_type": "code",
      "metadata": {
        "id": "nwFf7kTi17vc",
        "colab": {
          "base_uri": "https://localhost:8080/"
        },
        "outputId": "c15a3887-4d9e-45f4-e226-d931c73a8132"
      },
      "source": [
        "nfa1Unfa2 = union_dfa(nfa2dfa(nfa1), nfa2dfa(nfa2))"
      ],
      "execution_count": 15,
      "outputs": [
        {
          "output_type": "stream",
          "text": [
            "Union on DFA with different alphabets.\n",
            "Making alphabets the same (taking unions).\n"
          ],
          "name": "stdout"
        }
      ]
    },
    {
      "cell_type": "code",
      "metadata": {
        "id": "kMPwXnGl17vc",
        "colab": {
          "base_uri": "https://localhost:8080/",
          "height": 317
        },
        "outputId": "07861433-fc15-4679-9741-344bdeb5d420"
      },
      "source": [
        "dotObj_dfa(min_dfa(nfa1Unfa2))"
      ],
      "execution_count": 16,
      "outputs": [
        {
          "output_type": "execute_result",
          "data": {
            "text/plain": [
              "<graphviz.dot.Digraph at 0x7fe9a7859c18>"
            ],
            "image/svg+xml": "<?xml version=\"1.0\" encoding=\"UTF-8\" standalone=\"no\"?>\n<!DOCTYPE svg PUBLIC \"-//W3C//DTD SVG 1.1//EN\"\n \"http://www.w3.org/Graphics/SVG/1.1/DTD/svg11.dtd\">\n<!-- Generated by graphviz version 2.40.1 (20161225.0304)\n -->\n<!-- Title: %3 Pages: 1 -->\n<svg width=\"511pt\" height=\"222pt\"\n viewBox=\"0.00 0.00 511.07 222.14\" xmlns=\"http://www.w3.org/2000/svg\" xmlns:xlink=\"http://www.w3.org/1999/xlink\">\n<g id=\"graph0\" class=\"graph\" transform=\"scale(1 1) rotate(0) translate(4 218.1401)\">\n<title>%3</title>\n<polygon fill=\"#ffffff\" stroke=\"transparent\" points=\"-4,4 -4,-218.1401 507.0727,-218.1401 507.0727,4 -4,4\"/>\n<!-- EMPTY -->\n<g id=\"node1\" class=\"node\">\n<title>EMPTY</title>\n</g>\n<!-- \\(&quot;I&quot;_&quot;I&quot;\\) -->\n<g id=\"node2\" class=\"node\">\n<title>\\(&quot;I&quot;_&quot;I&quot;\\)</title>\n<ellipse fill=\"none\" stroke=\"#000000\" cx=\"133.8962\" cy=\"-67.0444\" rx=\"42.7926\" ry=\"42.7926\"/>\n<text text-anchor=\"middle\" x=\"133.8962\" y=\"-63.3444\" font-family=\"Times,serif\" font-size=\"14.00\" fill=\"#000000\">(&quot;I&quot;_&quot;I&quot;)</text>\n</g>\n<!-- EMPTY&#45;&gt;\\(&quot;I&quot;_&quot;I&quot;\\) -->\n<g id=\"edge1\" class=\"edge\">\n<title>EMPTY&#45;&gt;\\(&quot;I&quot;_&quot;I&quot;\\)</title>\n<path fill=\"none\" stroke=\"#000000\" d=\"M54.251,-67.0444C62.3407,-67.0444 71.4942,-67.0444 80.6401,-67.0444\"/>\n<polygon fill=\"#000000\" stroke=\"#000000\" points=\"80.906,-70.5445 90.9059,-67.0444 80.9059,-63.5445 80.906,-70.5445\"/>\n</g>\n<!-- \\(&quot;F1_S&quot;_BH\\) -->\n<g id=\"node4\" class=\"node\">\n<title>\\(&quot;F1_S&quot;_BH\\)</title>\n<ellipse fill=\"none\" stroke=\"#000000\" cx=\"291.8368\" cy=\"-67.0444\" rx=\"63.0862\" ry=\"63.0862\"/>\n<ellipse fill=\"none\" stroke=\"#000000\" cx=\"291.8368\" cy=\"-67.0444\" rx=\"67.0888\" ry=\"67.0888\"/>\n<text text-anchor=\"middle\" x=\"291.8368\" y=\"-63.3444\" font-family=\"Times,serif\" font-size=\"14.00\" fill=\"#000000\">(&quot;F1_S&quot;_BH)</text>\n</g>\n<!-- \\(&quot;I&quot;_&quot;I&quot;\\)&#45;&gt;\\(&quot;F1_S&quot;_BH\\) -->\n<g id=\"edge2\" class=\"edge\">\n<title>\\(&quot;I&quot;_&quot;I&quot;\\)&#45;&gt;\\(&quot;F1_S&quot;_BH\\)</title>\n<path fill=\"none\" stroke=\"#000000\" d=\"M175.2166,-79.4187C181.7137,-80.9229 188.3962,-82.2182 194.7924,-83.0444 201.8944,-83.9618 209.2738,-84.1493 216.6493,-83.8213\"/>\n<polygon fill=\"#000000\" stroke=\"#000000\" points=\"216.9651,-87.3076 226.6777,-83.0748 216.4454,-80.3269 216.9651,-87.3076\"/>\n<text text-anchor=\"middle\" x=\"200.7924\" y=\"-86.8444\" font-family=\"Times,serif\" font-size=\"14.00\" fill=\"#000000\">c </text>\n</g>\n<!-- \\(&quot;I&quot;_&quot;I&quot;\\)&#45;&gt;\\(&quot;F1_S&quot;_BH\\) -->\n<g id=\"edge5\" class=\"edge\">\n<title>\\(&quot;I&quot;_&quot;I&quot;\\)&#45;&gt;\\(&quot;F1_S&quot;_BH\\)</title>\n<path fill=\"none\" stroke=\"#000000\" d=\"M176.804,-64.6653C182.8423,-64.4079 188.9724,-64.1877 194.7924,-64.0444 201.151,-63.8879 207.7435,-63.8427 214.3629,-63.8794\"/>\n<polygon fill=\"#000000\" stroke=\"#000000\" points=\"214.717,-67.3836 224.7571,-64.0002 214.7985,-60.3841 214.717,-67.3836\"/>\n<text text-anchor=\"middle\" x=\"200.7924\" y=\"-67.8444\" font-family=\"Times,serif\" font-size=\"14.00\" fill=\"#000000\">b </text>\n</g>\n<!-- \\(&quot;I&quot;_&quot;I&quot;\\)&#45;&gt;\\(&quot;F1_S&quot;_BH\\) -->\n<g id=\"edge10\" class=\"edge\">\n<title>\\(&quot;I&quot;_&quot;I&quot;\\)&#45;&gt;\\(&quot;F1_S&quot;_BH\\)</title>\n<path fill=\"none\" stroke=\"#000000\" d=\"M173.2705,-49.83C180.3136,-47.4302 187.6772,-45.3433 194.7924,-44.0444 202.5172,-42.6342 210.5507,-42.4455 218.541,-43.0897\"/>\n<polygon fill=\"#000000\" stroke=\"#000000\" points=\"218.2614,-46.5815 228.6125,-44.322 219.1116,-39.6334 218.2614,-46.5815\"/>\n<text text-anchor=\"middle\" x=\"200.7924\" y=\"-47.8444\" font-family=\"Times,serif\" font-size=\"14.00\" fill=\"#000000\">a </text>\n</g>\n<!-- \\(BH_BH\\) -->\n<g id=\"node3\" class=\"node\">\n<title>\\(BH_BH\\)</title>\n<ellipse fill=\"none\" stroke=\"#000000\" cx=\"454.9769\" cy=\"-67.0444\" rx=\"48.1917\" ry=\"48.1917\"/>\n<text text-anchor=\"middle\" x=\"454.9769\" y=\"-63.3444\" font-family=\"Times,serif\" font-size=\"14.00\" fill=\"#000000\">(BH_BH)</text>\n</g>\n<!-- \\(BH_BH\\)&#45;&gt;\\(BH_BH\\) -->\n<g id=\"edge3\" class=\"edge\">\n<title>\\(BH_BH\\)&#45;&gt;\\(BH_BH\\)</title>\n<path fill=\"none\" stroke=\"#000000\" d=\"M450.6099,-115.1684C451.0369,-125.5855 452.4926,-133.1401 454.9769,-133.1401 456.5297,-133.1401 457.6806,-130.1891 458.4296,-125.4326\"/>\n<polygon fill=\"#000000\" stroke=\"#000000\" points=\"461.9428,-125.4395 459.344,-115.1684 454.9704,-124.8183 461.9428,-125.4395\"/>\n<text text-anchor=\"middle\" x=\"454.9769\" y=\"-136.9401\" font-family=\"Times,serif\" font-size=\"14.00\" fill=\"#000000\">c </text>\n</g>\n<!-- \\(BH_BH\\)&#45;&gt;\\(BH_BH\\) -->\n<g id=\"edge8\" class=\"edge\">\n<title>\\(BH_BH\\)&#45;&gt;\\(BH_BH\\)</title>\n<path fill=\"none\" stroke=\"#000000\" d=\"M446.056,-114.593C445.4408,-134.373 448.4144,-151.1401 454.9769,-151.1401 460.3602,-151.1401 463.3285,-139.8573 463.8819,-124.884\"/>\n<polygon fill=\"#000000\" stroke=\"#000000\" points=\"467.3822,-124.5985 463.8978,-114.593 460.3822,-124.5875 467.3822,-124.5985\"/>\n<text text-anchor=\"middle\" x=\"454.9769\" y=\"-154.9401\" font-family=\"Times,serif\" font-size=\"14.00\" fill=\"#000000\">b </text>\n</g>\n<!-- \\(BH_BH\\)&#45;&gt;\\(BH_BH\\) -->\n<g id=\"edge9\" class=\"edge\">\n<title>\\(BH_BH\\)&#45;&gt;\\(BH_BH\\)</title>\n<path fill=\"none\" stroke=\"#000000\" d=\"M442.4016,-113.5086C439.4297,-142.0519 443.6215,-169.1401 454.9769,-169.1401 464.9573,-169.1401 469.4039,-148.2151 468.3167,-123.7683\"/>\n<polygon fill=\"#000000\" stroke=\"#000000\" points=\"471.7857,-123.2209 467.5522,-113.5086 464.8051,-123.7411 471.7857,-123.2209\"/>\n<text text-anchor=\"middle\" x=\"454.9769\" y=\"-172.9401\" font-family=\"Times,serif\" font-size=\"14.00\" fill=\"#000000\">a </text>\n</g>\n<!-- \\(&quot;F1_S&quot;_BH\\)&#45;&gt;\\(BH_BH\\) -->\n<g id=\"edge4\" class=\"edge\">\n<title>\\(&quot;F1_S&quot;_BH\\)&#45;&gt;\\(BH_BH\\)</title>\n<path fill=\"none\" stroke=\"#000000\" d=\"M357.2359,-82.9273C367.7939,-84.0201 378.6233,-84.2683 388.8812,-83.0444 391.9476,-82.6785 395.0773,-82.2204 398.2255,-81.6927\"/>\n<polygon fill=\"#000000\" stroke=\"#000000\" points=\"399.1081,-85.0881 408.2878,-79.7982 397.8128,-78.209 399.1081,-85.0881\"/>\n<text text-anchor=\"middle\" x=\"382.8812\" y=\"-86.8444\" font-family=\"Times,serif\" font-size=\"14.00\" fill=\"#000000\">a </text>\n</g>\n<!-- \\(&quot;F1_S&quot;_BH\\)&#45;&gt;\\(BH_BH\\) -->\n<g id=\"edge6\" class=\"edge\">\n<title>\\(&quot;F1_S&quot;_BH\\)&#45;&gt;\\(BH_BH\\)</title>\n<path fill=\"none\" stroke=\"#000000\" d=\"M358.9157,-64.034C368.9587,-63.8549 379.1915,-63.8246 388.8812,-64.0444 391.3933,-64.1014 393.9587,-64.1705 396.5499,-64.2494\"/>\n<polygon fill=\"#000000\" stroke=\"#000000\" points=\"396.4998,-67.7496 406.6144,-64.596 396.7408,-60.7538 396.4998,-67.7496\"/>\n<text text-anchor=\"middle\" x=\"382.8812\" y=\"-67.8444\" font-family=\"Times,serif\" font-size=\"14.00\" fill=\"#000000\">c </text>\n</g>\n<!-- \\(&quot;F1_S&quot;_BH\\)&#45;&gt;\\(BH_BH\\) -->\n<g id=\"edge7\" class=\"edge\">\n<title>\\(&quot;F1_S&quot;_BH\\)&#45;&gt;\\(BH_BH\\)</title>\n<path fill=\"none\" stroke=\"#000000\" d=\"M355.0185,-44.5644C366.2461,-42.7199 377.8694,-42.1832 388.8812,-44.0444 392.5725,-44.6683 396.3328,-45.4752 400.0919,-46.4121\"/>\n<polygon fill=\"#000000\" stroke=\"#000000\" points=\"399.42,-49.8578 409.9917,-49.1589 401.2915,-43.1126 399.42,-49.8578\"/>\n<text text-anchor=\"middle\" x=\"382.8812\" y=\"-47.8444\" font-family=\"Times,serif\" font-size=\"14.00\" fill=\"#000000\">b </text>\n</g>\n</g>\n</svg>\n"
          },
          "metadata": {
            "tags": []
          },
          "execution_count": 16
        }
      ]
    },
    {
      "cell_type": "code",
      "metadata": {
        "id": "9IJbFD4_17vd",
        "colab": {
          "base_uri": "https://localhost:8080/"
        },
        "outputId": "9595bdf4-9bfe-426b-8e0f-d38fb6780e8a"
      },
      "source": [
        "nfa1Infa2 = intersect_dfa(nfa2dfa(nfa1), nfa2dfa(nfa2))"
      ],
      "execution_count": 17,
      "outputs": [
        {
          "output_type": "stream",
          "text": [
            "Intersection on DFA with different alphabets.\n",
            "Making alphabets the same (taking unions).\n"
          ],
          "name": "stdout"
        }
      ]
    },
    {
      "cell_type": "code",
      "metadata": {
        "id": "Ck4hB2yX17ve",
        "colab": {
          "base_uri": "https://localhost:8080/",
          "height": 421
        },
        "outputId": "d3546e8d-8eb6-4fd8-a5c4-07ba10a7a47b"
      },
      "source": [
        "dotObj_dfa(min_dfa(nfa1Infa2))"
      ],
      "execution_count": 18,
      "outputs": [
        {
          "output_type": "execute_result",
          "data": {
            "text/plain": [
              "<graphviz.dot.Digraph at 0x7fe9a7859860>"
            ],
            "image/svg+xml": "<?xml version=\"1.0\" encoding=\"UTF-8\" standalone=\"no\"?>\n<!DOCTYPE svg PUBLIC \"-//W3C//DTD SVG 1.1//EN\"\n \"http://www.w3.org/Graphics/SVG/1.1/DTD/svg11.dtd\">\n<!-- Generated by graphviz version 2.40.1 (20161225.0304)\n -->\n<!-- Title: %3 Pages: 1 -->\n<svg width=\"531pt\" height=\"300pt\"\n viewBox=\"0.00 0.00 530.57 299.89\" xmlns=\"http://www.w3.org/2000/svg\" xmlns:xlink=\"http://www.w3.org/1999/xlink\">\n<g id=\"graph0\" class=\"graph\" transform=\"scale(1 1) rotate(0) translate(4 295.8893)\">\n<title>%3</title>\n<polygon fill=\"#ffffff\" stroke=\"transparent\" points=\"-4,4 -4,-295.8893 526.5709,-295.8893 526.5709,4 -4,4\"/>\n<!-- EMPTY -->\n<g id=\"node1\" class=\"node\">\n<title>EMPTY</title>\n</g>\n<!-- \\(&quot;I&quot;_&quot;I&quot;\\) -->\n<g id=\"node3\" class=\"node\">\n<title>\\(&quot;I&quot;_&quot;I&quot;\\)</title>\n<ellipse fill=\"none\" stroke=\"#000000\" cx=\"133.8962\" cy=\"-159.8449\" rx=\"42.7926\" ry=\"42.7926\"/>\n<text text-anchor=\"middle\" x=\"133.8962\" y=\"-156.1449\" font-family=\"Times,serif\" font-size=\"14.00\" fill=\"#000000\">(&quot;I&quot;_&quot;I&quot;)</text>\n</g>\n<!-- EMPTY&#45;&gt;\\(&quot;I&quot;_&quot;I&quot;\\) -->\n<g id=\"edge1\" class=\"edge\">\n<title>EMPTY&#45;&gt;\\(&quot;I&quot;_&quot;I&quot;\\)</title>\n<path fill=\"none\" stroke=\"#000000\" d=\"M54.251,-159.8449C62.3407,-159.8449 71.4942,-159.8449 80.6401,-159.8449\"/>\n<polygon fill=\"#000000\" stroke=\"#000000\" points=\"80.906,-163.345 90.9059,-159.8449 80.9059,-156.345 80.906,-163.345\"/>\n</g>\n<!-- \\(&quot;F1_S&quot;_BH\\) -->\n<g id=\"node2\" class=\"node\">\n<title>\\(&quot;F1_S&quot;_BH\\)</title>\n<ellipse fill=\"none\" stroke=\"#000000\" cx=\"459.5265\" cy=\"-129.8449\" rx=\"63.0888\" ry=\"63.0888\"/>\n<text text-anchor=\"middle\" x=\"459.5265\" y=\"-126.1449\" font-family=\"Times,serif\" font-size=\"14.00\" fill=\"#000000\">(&quot;F1_S&quot;_BH)</text>\n</g>\n<!-- \\(&quot;F1_S&quot;_BH\\)&#45;&gt;\\(&quot;F1_S&quot;_BH\\) -->\n<g id=\"edge3\" class=\"edge\">\n<title>\\(&quot;F1_S&quot;_BH\\)&#45;&gt;\\(&quot;F1_S&quot;_BH\\)</title>\n<path fill=\"none\" stroke=\"#000000\" d=\"M454.5088,-192.7096C455.1944,-203.4488 456.867,-210.8893 459.5265,-210.8893 461.2303,-210.8893 462.529,-207.8357 463.4227,-202.8175\"/>\n<polygon fill=\"#000000\" stroke=\"#000000\" points=\"466.92,-203.0346 464.5443,-192.7096 459.9627,-202.2626 466.92,-203.0346\"/>\n<text text-anchor=\"middle\" x=\"459.5265\" y=\"-214.6893\" font-family=\"Times,serif\" font-size=\"14.00\" fill=\"#000000\">c </text>\n</g>\n<!-- \\(&quot;F1_S&quot;_BH\\)&#45;&gt;\\(&quot;F1_S&quot;_BH\\) -->\n<g id=\"edge4\" class=\"edge\">\n<title>\\(&quot;F1_S&quot;_BH\\)&#45;&gt;\\(&quot;F1_S&quot;_BH\\)</title>\n<path fill=\"none\" stroke=\"#000000\" d=\"M448.7772,-192.2305C448.8327,-212.6388 452.4159,-228.8893 459.5265,-228.8893 465.4151,-228.8893 468.8844,-217.7448 469.9346,-202.3236\"/>\n<polygon fill=\"#000000\" stroke=\"#000000\" points=\"473.4359,-202.3431 470.2759,-192.2305 466.4399,-202.1065 473.4359,-202.3431\"/>\n<text text-anchor=\"middle\" x=\"459.5265\" y=\"-232.6893\" font-family=\"Times,serif\" font-size=\"14.00\" fill=\"#000000\">a </text>\n</g>\n<!-- \\(&quot;F1_S&quot;_BH\\)&#45;&gt;\\(&quot;F1_S&quot;_BH\\) -->\n<g id=\"edge6\" class=\"edge\">\n<title>\\(&quot;F1_S&quot;_BH\\)&#45;&gt;\\(&quot;F1_S&quot;_BH\\)</title>\n<path fill=\"none\" stroke=\"#000000\" d=\"M443.8151,-190.9666C441.8177,-220.633 447.0548,-246.8893 459.5265,-246.8893 470.5367,-246.8893 475.9085,-226.4263 475.6421,-201.2189\"/>\n<polygon fill=\"#000000\" stroke=\"#000000\" points=\"479.1292,-200.8209 475.2379,-190.9666 472.1346,-201.0967 479.1292,-200.8209\"/>\n<text text-anchor=\"middle\" x=\"459.5265\" y=\"-250.6893\" font-family=\"Times,serif\" font-size=\"14.00\" fill=\"#000000\">b </text>\n</g>\n<!-- \\(&quot;I&quot;_&quot;I&quot;\\)&#45;&gt;\\(&quot;F1_S&quot;_BH\\) -->\n<g id=\"edge2\" class=\"edge\">\n<title>\\(&quot;I&quot;_&quot;I&quot;\\)&#45;&gt;\\(&quot;F1_S&quot;_BH\\)</title>\n<path fill=\"none\" stroke=\"#000000\" d=\"M175.4487,-171.5908C225.1885,-183.5527 310.3094,-197.2923 378.4821,-173.8449 384.344,-171.8287 390.2866,-169.4159 396.1515,-166.7726\"/>\n<polygon fill=\"#000000\" stroke=\"#000000\" points=\"397.7386,-169.8937 405.2808,-162.4529 394.7447,-163.5663 397.7386,-169.8937\"/>\n<text text-anchor=\"middle\" x=\"286.6373\" y=\"-189.6449\" font-family=\"Times,serif\" font-size=\"14.00\" fill=\"#000000\">c </text>\n</g>\n<!-- \\(&quot;I&quot;_&quot;I&quot;\\)&#45;&gt;\\(&quot;F1_S&quot;_BH\\) -->\n<g id=\"edge10\" class=\"edge\">\n<title>\\(&quot;I&quot;_&quot;I&quot;\\)&#45;&gt;\\(&quot;F1_S&quot;_BH\\)</title>\n<path fill=\"none\" stroke=\"#000000\" d=\"M176.8015,-155.892C230.161,-150.9761 322.0777,-142.5079 386.5848,-136.5649\"/>\n<polygon fill=\"#000000\" stroke=\"#000000\" points=\"387.0557,-140.0365 396.6924,-135.6337 386.4134,-133.066 387.0557,-140.0365\"/>\n<text text-anchor=\"middle\" x=\"286.6373\" y=\"-154.6449\" font-family=\"Times,serif\" font-size=\"14.00\" fill=\"#000000\">a </text>\n</g>\n<!-- \\(&quot;F2&quot;_&quot;F1&quot;\\) -->\n<g id=\"node4\" class=\"node\">\n<title>\\(&quot;F2&quot;_&quot;F1&quot;\\)</title>\n<ellipse fill=\"none\" stroke=\"#000000\" cx=\"286.6373\" cy=\"-61.8449\" rx=\"57.7001\" ry=\"57.7001\"/>\n<ellipse fill=\"none\" stroke=\"#000000\" cx=\"286.6373\" cy=\"-61.8449\" rx=\"61.6901\" ry=\"61.6901\"/>\n<text text-anchor=\"middle\" x=\"286.6373\" y=\"-58.1449\" font-family=\"Times,serif\" font-size=\"14.00\" fill=\"#000000\">(&quot;F2&quot;_&quot;F1&quot;)</text>\n</g>\n<!-- \\(&quot;I&quot;_&quot;I&quot;\\)&#45;&gt;\\(&quot;F2&quot;_&quot;F1&quot;\\) -->\n<g id=\"edge5\" class=\"edge\">\n<title>\\(&quot;I&quot;_&quot;I&quot;\\)&#45;&gt;\\(&quot;F2&quot;_&quot;F1&quot;\\)</title>\n<path fill=\"none\" stroke=\"#000000\" d=\"M170.0937,-136.6202C186.771,-125.9199 207.0214,-112.9271 225.9326,-100.7935\"/>\n<polygon fill=\"#000000\" stroke=\"#000000\" points=\"227.9831,-103.6364 234.5097,-95.2904 224.203,-97.7448 227.9831,-103.6364\"/>\n<text text-anchor=\"middle\" x=\"200.7924\" y=\"-122.6449\" font-family=\"Times,serif\" font-size=\"14.00\" fill=\"#000000\">b </text>\n</g>\n<!-- \\(&quot;F2&quot;_&quot;F1&quot;\\)&#45;&gt;\\(&quot;F1_S&quot;_BH\\) -->\n<g id=\"edge7\" class=\"edge\">\n<title>\\(&quot;F2&quot;_&quot;F1&quot;\\)&#45;&gt;\\(&quot;F1_S&quot;_BH\\)</title>\n<path fill=\"none\" stroke=\"#000000\" d=\"M339.2514,-94.9942C348.1283,-99.7542 357.4103,-104.2485 366.4821,-107.8449 373.1655,-110.4944 380.2508,-112.8771 387.4107,-115.0075\"/>\n<polygon fill=\"#000000\" stroke=\"#000000\" points=\"386.6155,-118.4196 397.1896,-117.7575 388.5105,-111.681 386.6155,-118.4196\"/>\n<text text-anchor=\"middle\" x=\"372.4821\" y=\"-114.6449\" font-family=\"Times,serif\" font-size=\"14.00\" fill=\"#000000\">b </text>\n</g>\n<!-- \\(&quot;F2&quot;_&quot;F1&quot;\\)&#45;&gt;\\(&quot;F1_S&quot;_BH\\) -->\n<g id=\"edge8\" class=\"edge\">\n<title>\\(&quot;F2&quot;_&quot;F1&quot;\\)&#45;&gt;\\(&quot;F1_S&quot;_BH\\)</title>\n<path fill=\"none\" stroke=\"#000000\" d=\"M346.4628,-77.711C357.2393,-81.0541 368.2838,-84.8054 378.4821,-88.8449 383.8353,-90.9653 389.3103,-93.3149 394.7634,-95.7853\"/>\n<polygon fill=\"#000000\" stroke=\"#000000\" points=\"393.3518,-98.9888 403.8946,-100.0377 396.307,-92.6432 393.3518,-98.9888\"/>\n<text text-anchor=\"middle\" x=\"372.4821\" y=\"-92.6449\" font-family=\"Times,serif\" font-size=\"14.00\" fill=\"#000000\">a </text>\n</g>\n<!-- \\(&quot;F2&quot;_&quot;F1&quot;\\)&#45;&gt;\\(&quot;F1_S&quot;_BH\\) -->\n<g id=\"edge9\" class=\"edge\">\n<title>\\(&quot;F2&quot;_&quot;F1&quot;\\)&#45;&gt;\\(&quot;F1_S&quot;_BH\\)</title>\n<path fill=\"none\" stroke=\"#000000\" d=\"M348.4637,-60.0813C358.7101,-61.2327 369.0581,-63.3236 378.4821,-66.8449 387.7473,-70.3068 396.8044,-75.2287 405.308,-80.8148\"/>\n<polygon fill=\"#000000\" stroke=\"#000000\" points=\"403.4065,-83.7556 413.6144,-86.5929 407.4039,-78.0091 403.4065,-83.7556\"/>\n<text text-anchor=\"middle\" x=\"372.4821\" y=\"-70.6449\" font-family=\"Times,serif\" font-size=\"14.00\" fill=\"#000000\">c </text>\n</g>\n</g>\n</svg>\n"
          },
          "metadata": {
            "tags": []
          },
          "execution_count": 18
        }
      ]
    },
    {
      "cell_type": "markdown",
      "metadata": {
        "id": "UMWnhr3j2Utc"
      },
      "source": [
        "<mark> I read and ran all the code in this notebook </mark>"
      ]
    }
  ]
}