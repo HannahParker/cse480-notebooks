{
  "nbformat": 4,
  "nbformat_minor": 0,
  "metadata": {
    "colab": {
      "name": "11_2_Ponder_and_Prove_NP_Completeness.ipynb",
      "provenance": [],
      "include_colab_link": true
    },
    "kernelspec": {
      "name": "python3",
      "display_name": "Python 3"
    }
  },
  "cells": [
    {
      "cell_type": "markdown",
      "metadata": {
        "id": "view-in-github",
        "colab_type": "text"
      },
      "source": [
        "<a href=\"https://colab.research.google.com/github/HannahParker/cse480-notebooks/blob/master/11_2_Ponder_and_Prove_NP_Completeness.ipynb\" target=\"_parent\"><img src=\"https://colab.research.google.com/assets/colab-badge.svg\" alt=\"Open In Colab\"/></a>"
      ]
    },
    {
      "cell_type": "markdown",
      "metadata": {
        "id": "G0Ig-dqAHa5l"
      },
      "source": [
        "# Ponder and Prove NP-Completeness\n",
        "## Due: Saturday, 20 March 2021, 11:59 pm"
      ]
    },
    {
      "cell_type": "markdown",
      "metadata": {
        "id": "-ZTHg3i2Hg4j"
      },
      "source": [
        "## TODO Watch and Learn"
      ]
    },
    {
      "cell_type": "markdown",
      "metadata": {
        "id": "eA7uftrYb4Ln"
      },
      "source": [
        "Watch each of the following videos:\n",
        "\n",
        "* [P vs. NP - The Biggest Unsolved Problem in Computer Science](https://www.youtube.com/watch?v=EHp4FPyajKQ)\n",
        "* [What is complexity theory? (P vs. NP explained visually)](https://www.youtube.com/watch?v=u2DLlNQiPB4)\n",
        "* [P vs. NP and the Computational Complexity Zoo](https://www.youtube.com/watch?v=YX40hbAHx3s&t=3s)\n",
        "\n",
        "For each video, state two things that interested you (theoretical or practical). Just a couple of sentences that summarize each point of interest.\n",
        "\n",
        "**P vs. NP - The Biggest Unsolved Problem in Computer Science**\n",
        "\n",
        "- This was the first video I watched and thus, I learned what P vs. NP is. Problems are grouped in classes based on complelexity. P and NP are two of these classes. P and NP both take a very long time to calculate. NP: Easy to Check, Hard to Solve. P: Easy to Solve.\n",
        "\n",
        "- Complexity classes are not entierly seperate form each other. P is actually inside of the NP class. However, NP complete problems has never been shown to conain P problems. Thus, P = NP really means P = NP complete. \n",
        "\n",
        "**What is complexity theory? (P vs. NP explained visually**\n",
        "\n",
        "- Compexity theory includes looking at the time it takes to solve the problem and how the input size grows in relation to machine operations over time (or state transitions). This allows us to create a graph that shows the input size vs. time(steps).\n",
        "\n",
        "- Most problems that we ask computers to solve are in Polynomial time. Other probelms use Exponential time. Short cuts have been found to compute exponential time solutions to polynomial time problems.\n",
        "\n",
        "**P vs. NP and the Computational Complexity Zoo**\n",
        "\n",
        "- Some problems can go from NP to P. Meaning a short cut can be found to find a faster solution to the problem. P vs. NP refers to the question, can all NP problems be converted to P problems?\n",
        "\n",
        "- Examples of NP: Soduko, Crossword Puzzles\n",
        "- Examples of P: Multiplication, Mazes\n",
        "\n",
        "- Proving things is an NP problem, making solving this question more complex."
      ]
    },
    {
      "cell_type": "markdown",
      "metadata": {
        "id": "EsRshRnZhRFa"
      },
      "source": [
        "## TODO Exercises"
      ]
    },
    {
      "cell_type": "markdown",
      "metadata": {
        "id": "F3724sGjhTPo"
      },
      "source": [
        "Do the following Chapter 16 Exercises:"
      ]
    },
    {
      "cell_type": "markdown",
      "metadata": {
        "id": "XZ7ygErThWjn"
      },
      "source": [
        "### 16.7.2.1"
      ]
    },
    {
      "cell_type": "markdown",
      "metadata": {
        "id": "uH5yO-JcF282"
      },
      "source": [
        "A SAT instance is given below in the DIMACS format.\n",
        "1. What is the CNF formula capture by this instance?\n",
        "2. By inpection, answer whether the instance is satisfiable, and why\n",
        "3. If it is not satisfiable, then what is the minimal number of rows that must be deleted before the instance becomes satisfiable? If these rows are not unique, list the first two possible such omissions (of sets of rows), starting from the top of the given listing.\n",
        "4. Check your answer using CryptoMiniSat"
      ]
    },
    {
      "cell_type": "markdown",
      "metadata": {
        "id": "3o0iPqfsX4Is"
      },
      "source": [
        "1. $(x(1) \\lor x(2) \\lor x(3) \\lor x(4) \\lor x(5)) \\land \\\\\n",
        " (x(1) \\lor x(2) \\lor x(3) \\lor x(4) \\lor \\lnot x(5)) \\land \\\\\n",
        " ... \\land (\\lnot x(1) \\lor \\lnot x(2) \\lor \\lnot x(3) \\lor \\lnot x(4) \\lor \\lnot x(5))$\n",
        "2. It is not satisfiable, because the first and the last clauses are mutually exclusive. \n",
        "3. The minimum number of rows that can be removed to make it satisfiable is 1. By removing the first or last row it is satisfiable.\n",
        "4. Checked, results are in the next cell."
      ]
    },
    {
      "cell_type": "markdown",
      "metadata": {
        "id": "psJ_6GxWhtsK"
      },
      "source": [
        "s SATISFIABLE\n",
        "c ------- FINAL TOTAL SEARCH STATS ---------\n",
        "c restarts                 : 1           (0.00      confls per restart)\n",
        "c blocked restarts         : 0           (0.00      per normal restart)\n",
        "c decisions                : 0           (0.00      % random)\n",
        "c propagations             : 0           \n",
        "c decisions/conflicts      : 0.00        \n",
        "c conflicts                : 0           \n",
        "c conf lits non-minim      : 0           (0.00      lit/confl)\n",
        "c conf lits final          : 0.00        \n",
        "c cache hit re-learnt cl   : 0           (0.00      % of confl)\n",
        "c red which0               : 0           (0.00      % of confl)\n",
        "c props/decision           : 0.00        \n",
        "c props/conflict           : 0.00        \n",
        "c 0-depth assigns          : 2           (0.00      % vars)\n",
        "c [occ-substr] long subBySub: 0 subByStr: 0 lits-rem-str: 14\n",
        "c [scc] new: 1 BP 0M  T: 0.00\n",
        "c Conflicts in UIP         : 0           \n",
        "c Mem used                 : 0.00        MB\n",
        "v -1 -2 -3 -4 -5 0"
      ]
    },
    {
      "cell_type": "markdown",
      "metadata": {
        "id": "1RfUld1JYBi5"
      },
      "source": [
        "c A SAT instance in DIMACS format  \n",
        "c Your task is to determine whether this instance is satisfiable  \n",
        "c  \n",
        "p cnf 5 32  \n",
        "1 2 3 4 5 0  \n",
        "1 2 3 4 -5 0  \n",
        "1 2 3 -4 5 0  \n",
        "1 2 3 -4 -5 0  \n",
        "1 2 -3 4 5 0  \n",
        "1 2 -3 4 -5 0  \n",
        "1 2 -3 -4 5 0  \n",
        "1 2 -3 -4 -5 0  \n",
        "1 -2 3 4 5 0  \n",
        "1 -2 3 4 -5 0  \n",
        "1 -2 3 -4 5 0  \n",
        "1 -2 3 -4 -5 0  \n",
        "1 -2 -3 4 5 0  \n",
        "1 -2 -3 4 -5 0  \n",
        "1 -2 -3 -4 5 0  \n",
        "1 -2 -3 -4 -5 0  \n",
        "-1 2 3 4 5 0  \n",
        "-1 2 3 4 -5 0  \n",
        "-1 2 3 -4 5 0  \n",
        "-1 2 3 -4 -5 0  \n",
        "-1 2 -3 4 5 0  \n",
        "-1 2 -3 4 -5 0  \n",
        "-1 2 -3 -4 5 0  \n",
        "-1 2 -3 -4 -5 0  \n",
        "-1 -2 3 4 5 0  \n",
        "-1 -2 3 4 -5 0  \n",
        "-1 -2 3 -4 5 0  \n",
        "-1 -2 3 -4 -5 0  \n",
        "-1 -2 -3 4 5 0  \n",
        "-1 -2 -3 4 -5 0  \n",
        "-1 -2 -3 -4 5 0  \n",
        "-1 -2 -3 -4 -5 0"
      ]
    },
    {
      "cell_type": "markdown",
      "metadata": {
        "id": "0IRR9xZ7hums"
      },
      "source": [
        "### 16.7.2.2"
      ]
    },
    {
      "cell_type": "markdown",
      "metadata": {
        "id": "Qr6gOarmGcm8"
      },
      "source": [
        "Consider the set of undirected graphs $\\langle G\\rangle$ with a set of nodes $N$ and a set of edges $E\\subseteq N $x$ N$ such that we can two-color the graph (meaning no two nodes connected by an edge have the same color)."
      ]
    },
    {
      "cell_type": "markdown",
      "metadata": {
        "id": "MjW37Ew9hvi_"
      },
      "source": [
        "All of the graphs in $\\langle G\\rangle$ can be reduced to bipartite graphs. We can achieve this by saying that all nodes colored with the first color are in the first set of the bipartite graph and the nodes with the other color are of the other set. Since no two nodes with the same color can share an edge this preserves the requirement of a bipartite graph."
      ]
    },
    {
      "cell_type": "markdown",
      "metadata": {
        "id": "IdS-nwwRhv5W"
      },
      "source": [
        "### 16.7.2.8"
      ]
    },
    {
      "cell_type": "markdown",
      "metadata": {
        "id": "pP0t5ssKGl0g"
      },
      "source": [
        "A Hamiltonian cycle in a graph with respect to a given node *n* is a tour that begins at *n* and visits all other nodes exactly once, returning to *n*. In a 5-clique, how many distinct Hamiltonian cycles exist? How about in an *n*-clique?\n",
        "$\\frac{!(n-1)}{2}$"
      ]
    },
    {
      "cell_type": "markdown",
      "metadata": {
        "id": "o8MUWcafhwnM"
      },
      "source": [
        "Because by definition an n-clique has every vertex connected to every other vertex in the clique, it is the same as a $k_n$ graph. \n",
        "Suppose we start at some vertex v, from that vertex we have $(n-1)$ choices of other verticies to go to. From that vertex we have $(n-2)$ choices and so on. Thus the total number of potential hamiltonian cycles is $(n-1)!$. However this will also include all cycles in their reverse direction. Thus the total number of distinct cycles is $\\frac{!(n-1)}{2}$."
      ]
    },
    {
      "cell_type": "markdown",
      "metadata": {
        "id": "Sdyg1GB3hxKu"
      },
      "source": [
        "### 16.7.2.9"
      ]
    },
    {
      "cell_type": "markdown",
      "metadata": {
        "id": "4-5djB2AGrVs"
      },
      "source": [
        "Define the language *HalfClique* to be the set of input encodings $\\langle G \\rangle$ such that $G$ is an undirected graph having a clique with at least $n/2$ nodes, where $n$ is the number of nodes in $G$. Show that *HalfClique* is NPC. *Hint: Mapping reduction from Clique.*"
      ]
    },
    {
      "cell_type": "markdown",
      "metadata": {
        "id": "NuRLP4a_hx82"
      },
      "source": [
        "First let us prove that *HalfClique* can be verified in p time.\n",
        "\n",
        "Suppose we have some potential clique which is represented as a set of verticies s. To verify that s is a clique of size n/2 we must first verify that it has n/2 nodes. This operation takes O(1) time. We must then verify that each node in s has an out degree of (n/2-1). This will take O((n/2-1)^2) time since s represents a complete graph it will have that many edges. Therefore verifying if s is a clique of size n/2 takes polynomial time.\n",
        "\n",
        "Now let us prove that generating *HalfClique* takes more than p time.\n",
        "We can easily reduce *HalfClique* to SAT. \n",
        "Let us represent G as a graph G=(V,E), where we have a subgraph $x_{iv}$ which is a clique of length n/2 where $x_{iv}$ represents the ith vertex in the clique which is v. $x_{iv}$ has the following constraints:\n",
        "1. There is an ith vertex: for all $V_x \\in V_v$ (some node is the ith node of the clique)\n",
        "2.  For each i, j < n/2 & $i \\neq j$ there is $\\lnot x_{iv} \\lor \\lnot x_{jv}$ (meaning that no node vertex is both the ith and jth vertex of the clique)\n",
        "3. For each r $\\neq$ s  and i < j such that (i,j) is not an edge of G, $\\lnot x_{ir} \\lor \\lnot x_{js}$ (If there is no edge from i to j then i and j cannot both be in the clique).\n",
        "\n",
        "Because we can reduce *HalfClique* to SAT it is NP Hard, because it can also be verified in p time, *HalfClique* is NP-Complete."
      ]
    },
    {
      "cell_type": "markdown",
      "metadata": {
        "id": "npHvn-zchyV8"
      },
      "source": [
        "### 16.7.2.10"
      ]
    },
    {
      "cell_type": "markdown",
      "metadata": {
        "id": "QoaZrNupG0dX"
      },
      "source": [
        "The game of Sudoku has been shown to be in NPC. In practice, one can encode and solve Sudoku using SAT solvers. Study the Sudoku solver (MIT license) written by Nicholas Pilkington at https://gist.github.com/nickponline/9c91fe65fef5b58ae1b0 Test it on the instance provided as well as a few that you create. Note: This solver will need Python2 (or you may adapt it for Python3)."
      ]
    },
    {
      "cell_type": "code",
      "metadata": {
        "id": "CQmWBBTYYf_O",
        "outputId": "905b6f9d-71c8-4d1d-a1bb-d77f4392eced",
        "colab": {
          "base_uri": "https://localhost:8080/"
        }
      },
      "source": [
        "!pip install pycosat"
      ],
      "execution_count": 1,
      "outputs": [
        {
          "output_type": "stream",
          "text": [
            "Collecting pycosat\n",
            "\u001b[?25l  Downloading https://files.pythonhosted.org/packages/c0/fd/e38d68774c0a345b0090d608a90f1fbf423970d812f7ec7aef9ac024e648/pycosat-0.6.3.zip (66kB)\n",
            "\r\u001b[K     |█████                           | 10kB 11.2MB/s eta 0:00:01\r\u001b[K     |█████████▉                      | 20kB 10.3MB/s eta 0:00:01\r\u001b[K     |██████████████▊                 | 30kB 7.3MB/s eta 0:00:01\r\u001b[K     |███████████████████▋            | 40kB 6.5MB/s eta 0:00:01\r\u001b[K     |████████████████████████▌       | 51kB 4.8MB/s eta 0:00:01\r\u001b[K     |█████████████████████████████▍  | 61kB 5.4MB/s eta 0:00:01\r\u001b[K     |████████████████████████████████| 71kB 3.3MB/s \n",
            "\u001b[?25hBuilding wheels for collected packages: pycosat\n",
            "  Building wheel for pycosat (setup.py) ... \u001b[?25l\u001b[?25hdone\n",
            "  Created wheel for pycosat: filename=pycosat-0.6.3-cp37-cp37m-linux_x86_64.whl size=143807 sha256=4e7b8db363e5e9effbc80fb51545a00ff16f8004c73d27c4c301dc44c0eee860\n",
            "  Stored in directory: /root/.cache/pip/wheels/c4/67/ff/5570304e45814eccef48a3c69c3af25d0456ed3a34eddbbe38\n",
            "Successfully built pycosat\n",
            "Installing collected packages: pycosat\n",
            "Successfully installed pycosat-0.6.3\n"
          ],
          "name": "stdout"
        }
      ]
    },
    {
      "cell_type": "code",
      "metadata": {
        "id": "o78HmhcKYlZ2"
      },
      "source": [
        "# Author: Nicholas Pilkington, 2015\n",
        "# License: MIT\n",
        "# Blog Post: https://nickp.svbtle.com/sudoku-satsolver\n",
        "import pycosat\n",
        "\n",
        "N = 9\n",
        "M = 3\n",
        "\n",
        "def exactly_one(variables):\n",
        "    cnf = [ variables ]\n",
        "    n = len(variables)\n",
        "\n",
        "    for i in range(n):\n",
        "        for j in range(i+1, n):\n",
        "            v1 = variables[i]\n",
        "            v2 = variables[j]\n",
        "            cnf.append([-v1, -v2])\n",
        "\n",
        "    return cnf\n",
        "\n",
        "def transform(i, j, k):\n",
        "    return i*N*N + j*N + k + 1\n",
        "\n",
        "def inverse_transform(v):\n",
        "    v, k = divmod(v-1, N)\n",
        "    v, j = divmod(v, N)\n",
        "    v, i = divmod(v, N)\n",
        "    return i, j, k\n",
        "\n",
        "if __name__ == '__main__':\n",
        "    cnf = []\n",
        "\n",
        "    # Cell, row and column constraints\n",
        "    for i in range(N):\n",
        "        for s in range(N):\n",
        "            cnf = cnf + exactly_one([ transform(i, j, s) for j in range(N) ])\n",
        "            cnf = cnf + exactly_one([ transform(j, i, s) for j in range(N) ])\n",
        "\n",
        "        for j in range(N):\n",
        "            cnf = cnf + exactly_one([ transform(i, j, k) for k in range(N) ])\n",
        "\n",
        "    # Sub-matrix constraints\n",
        "    for k in range(N):\n",
        "        for x in range(M):\n",
        "            for y in range(M):\n",
        "                v = [ transform(y*M + i, x*M + j, k) for i in range(M) for j in range(M)]\n",
        "                cnf = cnf + exactly_one(v)\n",
        "\n",
        "    # See contribution from @GregoryMorse below\n",
        "    cnf = { frozenset(x) for x in cnf }\n",
        "    cnf = list(cnf)\n",
        "\n",
        "    # A 16-constraint Sudoku\n",
        "    constraints = [\n",
        "        (0, 3, 7),\n",
        "        (1, 0, 1),\n",
        "        (2, 3, 4),\n",
        "        (2, 4, 3),\n",
        "        (2, 6, 2),\n",
        "        (3, 8, 6),\n",
        "        (4, 3, 5),\n",
        "        (4, 5, 9),\n",
        "        (5, 6, 4),\n",
        "        (5, 7, 1),\n",
        "        (5, 8, 8),\n",
        "        (6, 4, 8),\n",
        "        (6, 5, 1),\n",
        "        (7, 2, 2),\n",
        "        (7, 7, 5),\n",
        "        (8, 1, 4),\n",
        "        (8, 6, 3),\n",
        "\n",
        "    ]\n",
        "\n",
        "    constraints2 = [\n",
        "        (0, 3, 9),\n",
        "        (1, 0, 5),\n",
        "        (2, 3, 4),\n",
        "        (2, 4, 3),\n",
        "        (2, 6, 7),\n",
        "        (3, 8, 9),\n",
        "        (4, 3, 2),\n",
        "        (4, 5, 9),\n",
        "        (5, 6, 1),\n",
        "        (5, 7, 5),\n",
        "        (5, 8, 8),\n",
        "        (6, 4, 2),\n",
        "        (6, 5, 1),\n",
        "        (7, 2, 2),\n",
        "\n",
        "    ]\n",
        "\n",
        "    cnf = cnf + [[transform(z[0], z[1], z[2])-1] for z in constraints2]\n",
        "\n",
        "    for solution in pycosat.itersolve(cnf):\n",
        "        X = [ inverse_transform(v) for v in solution if v > 0]\n",
        "        for i, cell in enumerate(sorted(X, key=lambda h: h[0] * N*N + h[1] * N)):\n",
        "            print(cell[2]+1, end=\" \")\n",
        "            if (i+1) % N == 0: print(\"\")"
      ],
      "execution_count": null,
      "outputs": []
    },
    {
      "cell_type": "markdown",
      "metadata": {
        "id": "0FEjXwMpiZF-"
      },
      "source": [
        "### 16.7.2.12"
      ]
    },
    {
      "cell_type": "markdown",
      "metadata": {
        "id": "XZAVM7bsHA-4"
      },
      "source": [
        "Show that a 3-CNF formula<br>\n",
        "$\\Phi= \\phi_0 \\land \\phi_1 \\land ... \\phi_i \\land \\phi_{N-1}$<br>\n",
        "is unsatisfiable *if and only if* **for any variable assignment**, there is one clause $\\phi_j$ with all the literals are true and another clause $\\phi_k$ with all the literals are false.<br>\n",
        "**Illustration:** Consider<br>\n",
        "$\\Phi= (x+y+y)\\cdot(x+!y+!y)\\cdot(!x+y+y)\\cdot(!x+!y+!y)$<br>\n",
        "For any assignment (say $x=0,y=1$), we have one clause whose literals are all true, and one clause whose literals are all false (these are respectively $(!x+y+y)$ and $(x+!y+!y)$). If we leave out any one clause, that is not the case, as $\\Phi$ becomes satisfiable. Now finish the proof."
      ]
    },
    {
      "cell_type": "markdown",
      "metadata": {
        "id": "fUWY-FGXiZF_"
      },
      "source": [
        "Because $\\Phi$ requires that every $\\phi$ be true to be true then if $\\phi_k$ is true than all literals must be false. If that is the case then $\\phi_J$ must be false. Thus not all $\\phi$ in $\\Phi$ can be true, which makes $\\Phi$ unsatisfiable."
      ]
    },
    {
      "cell_type": "markdown",
      "metadata": {
        "id": "Ua6BlQDSicB_"
      },
      "source": [
        "## TODO Explore a Powerful Tool"
      ]
    },
    {
      "cell_type": "markdown",
      "metadata": {
        "id": "CzhO3COaikyu"
      },
      "source": [
        "Do the following NON-book exercise:"
      ]
    },
    {
      "cell_type": "markdown",
      "metadata": {
        "id": "PhRWte2iiw4I"
      },
      "source": [
        "SAT, while being NP-Complete, is a \"workhorse of a tool.\" This exercise asks you to get a taste of running the CryptoMinisat tool on a non-trivial SAT formula. Click on https://msoos.github.io/cryptominisat_web/ to access this tool. When it comes up, it has a prefilled formula. There is a Play button that you can click, whereupon it solves the SAT instance.\n",
        "\n",
        "This exercise asks you to replace this SAT instance with something bigger: specifically, the Pigeonhole problem (hole6.cnf) from: https://people.sc.fsu.edu/~jburkardt/data/cnf/cnf.html\n",
        "\n",
        "Just click the above link, get the hole6.cnf file, and plunk the CNF into the buffer.\n",
        "\n",
        "Hit Play and report on the execution time (you can just look at your phone's clock). If under 2 seconds, say \"negligible\" for your answer!\n",
        "\n",
        "How much time would such a problem take through brute-force enumeration of $2^n$ combinations on a computer that takes a microsecond per variable combination (the $n$ is the number of variables used in the Pigeonhole problem)? HINT: Here is how you read the contents of a CNF file:\n",
        "\n",
        "```\n",
        "c File:  hole6.cnf <--- these are comment lines - starts wth a \"C\"\n",
        "c...\n",
        "c\n",
        "p cnf 42 133\n",
        "-1     -7\n",
        "-1     -13\n",
        "...\n",
        "0 0\n",
        "<--- CRUCIAL !! Tells you there are 42 variables and 133 clauses\n",
        "<--- This line says (!x1 + !x7). The \"0\" is just end-of-a-clause marker!\n",
        "<--- This line says (!x1 + !x13)\n",
        " 12     11     10     9      8      7    0 <--- This clause reads\n",
        "                                          (x12 + x11 + x10 + x9 + x8 + x7)\n",
        "```\n",
        "\n",
        "Okay, now you have all the info you need to calculate the time it takes to enumerate $2^n$ combinations!!\n",
        "\n"
      ]
    },
    {
      "cell_type": "markdown",
      "metadata": {
        "id": "MVUe4b9dkd5n"
      },
      "source": [
        "Your (two-part) answer goes here.\n",
        "\n",
        "1. CryptoMinisat runtime: negligable\n",
        "2. $2^n$ runtime estimation: (2^42)/(10^6) $\\approx$ 3.3 seconds"
      ]
    },
    {
      "cell_type": "markdown",
      "metadata": {
        "id": "8Q8t6FsUkxwS"
      },
      "source": [
        "## TODO Read and Learn"
      ]
    },
    {
      "cell_type": "markdown",
      "metadata": {
        "id": "K5LVir0Yk0Ed"
      },
      "source": [
        "List six facts that you found interesting about Boolean SAT in these articles:\n",
        "\n",
        "https://cacm.acm.org/magazines/2009/8/34498-boolean-satisfiability-from-theoretical-hardness-to-practical-success/fulltext\n",
        "\n",
        "and\n",
        "\n",
        "https://en.wikipedia.org/wiki/Boolean_satisfiability_problem\n",
        "\n",
        "Anything that interested you is fine – theoretical or practical. Please write 1-2 sentences per point that interested you."
      ]
    },
    {
      "cell_type": "markdown",
      "metadata": {
        "id": "6j3A7t_5lMIF"
      },
      "source": [
        "- Boolean Satisfiability problem: Given a formula, find a satisfying assignment or prove that none exists. \n",
        "- SAT belongs to the class of problems knows as NP-complete. This means that the time to solve the problems rows exponentially with the size of the instance.\n",
        "- SAT was the first problem that was proven to be NP-complete. There is no known algorithm that can be used to solve every SAT problem efficently. SAT-algorithms can solve problem instances.\n",
        "- SAT is the abreviation of Boolean satisfiabiliy problem. This is the problem of determining if there exists an interpretation that satisfies a given Boolean formula.\n",
        "- There are many special cases in SAT problems. Due to this, some SAT problems like to defind the notion of generalized conjunctive normal form formula.\n",
        "- SAT problems are self-reducible - which means that each algorithm which correctly answers if an instance of SAT is solvable can be used to find a satisfying assignment.\n"
      ]
    }
  ]
}